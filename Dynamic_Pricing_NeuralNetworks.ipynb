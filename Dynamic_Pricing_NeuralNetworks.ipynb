{
 "cells": [
  {
   "cell_type": "code",
   "execution_count": 1,
   "id": "2f3ff61b-51f4-4c4b-9ece-79ebce8c6b59",
   "metadata": {},
   "outputs": [],
   "source": [
    "import os\n",
    "import numpy as np\n",
    "import pandas as pd\n",
    "import warnings\n",
    "import difflib\n",
    "from tabulate import tabulate\n",
    "import tensorflow as tf\n",
    "from tensorflow.keras import layers, Sequential"
   ]
  },
  {
   "cell_type": "code",
   "execution_count": 2,
   "id": "1d25b24b-2da6-483d-82f8-cefa9e014b63",
   "metadata": {},
   "outputs": [
    {
     "name": "stdout",
     "output_type": "stream",
     "text": [
      "Available GPU devices:\n",
      "PhysicalDevice(name='/physical_device:GPU:0', device_type='GPU')\n",
      "Using GPU.\n"
     ]
    }
   ],
   "source": [
    "\n",
    "# Check available devices\n",
    "physical_devices = tf.config.list_physical_devices('GPU')\n",
    "\n",
    "if len(physical_devices) == 0:\n",
    "    print(\"No GPU devices available, using CPU.\")\n",
    "    tf.config.set_visible_devices([], 'GPU')  # Hide GPUs\n",
    "else:\n",
    "    print(\"Available GPU devices:\")\n",
    "    for device in physical_devices:\n",
    "        print(device)\n",
    "    # Use GPU\n",
    "    tf.config.experimental.set_visible_devices(physical_devices[0], 'GPU')\n",
    "    print(\"Using GPU.\")\n",
    "\n",
    "# Any subsequent TensorFlow operations will use the selected device (GPU or CPU)\n"
   ]
  },
  {
   "cell_type": "code",
   "execution_count": 3,
   "id": "4187d7a6-a912-428f-9daa-d658cacc5b6f",
   "metadata": {},
   "outputs": [],
   "source": [
    "# Generate some random data for demonstration\n",
    "num_samples = 20000\n",
    "features = np.random.rand(num_samples, 3)  # Features: demand, competition, time of day\n",
    "prices = 10 * np.random.rand(num_samples, 1)  # Target prices"
   ]
  },
  {
   "cell_type": "code",
   "execution_count": 4,
   "id": "595a6efd-c0d1-4e9f-91f0-af64ab512bf6",
   "metadata": {},
   "outputs": [
    {
     "name": "stdout",
     "output_type": "stream",
     "text": [
      "     demand  competition  time_of_day     price\n",
      "0  0.620544     0.365140     0.320666  3.134249\n",
      "1  0.983345     0.501095     0.491115  3.677147\n",
      "2  0.035528     0.802884     0.382636  7.523321\n",
      "3  0.629240     0.795038     0.796889  2.785489\n",
      "4  0.355261     0.677272     0.751699  9.023403\n"
     ]
    }
   ],
   "source": [
    "# Creating a DataFrame\n",
    "data = pd.DataFrame({\n",
    "    'demand': features[:, 0],\n",
    "    'competition': features[:, 1],\n",
    "    'time_of_day': features[:, 2],\n",
    "    'price': prices.flatten()\n",
    "})\n",
    "\n",
    "# Displaying the DataFrame\n",
    "print(data.head())"
   ]
  },
  {
   "cell_type": "code",
   "execution_count": 5,
   "id": "b5b200b3-2794-4346-bf1e-f10b6dab9311",
   "metadata": {},
   "outputs": [
    {
     "name": "stdout",
     "output_type": "stream",
     "text": [
      "+----+-----------+---------------+---------------+---------+\n",
      "|    |    demand |   competition |   time_of_day |   price |\n",
      "|----+-----------+---------------+---------------+---------|\n",
      "|  0 | 0.620544  |      0.36514  |      0.320666 | 3.13425 |\n",
      "|  1 | 0.983345  |      0.501095 |      0.491115 | 3.67715 |\n",
      "|  2 | 0.0355284 |      0.802884 |      0.382636 | 7.52332 |\n",
      "|  3 | 0.62924   |      0.795038 |      0.796889 | 2.78549 |\n",
      "|  4 | 0.355261  |      0.677272 |      0.751699 | 9.0234  |\n",
      "+----+-----------+---------------+---------------+---------+\n"
     ]
    }
   ],
   "source": [
    "# Displaying the DataFrame\n",
    "print(tabulate(data.head(), headers='keys', tablefmt='psql'))"
   ]
  },
  {
   "cell_type": "code",
   "execution_count": 6,
   "id": "00034e37-154f-4bfa-a030-967cf43534f6",
   "metadata": {},
   "outputs": [],
   "source": [
    "# Split data into training and testing sets\n",
    "train_size = int(0.8 * num_samples)\n",
    "train_features, test_features = features[:train_size], features[train_size:]\n",
    "train_prices, test_prices = prices[:train_size], prices[train_size:]"
   ]
  },
  {
   "cell_type": "code",
   "execution_count": 7,
   "id": "2507c933-1c39-4fd0-b81b-89e38a97b051",
   "metadata": {},
   "outputs": [],
   "source": [
    "# Define the neural network model\n",
    "model = Sequential([\n",
    "    layers.Dense(64, activation='relu', input_shape=(3,)),\n",
    "    layers.Dense(32, activation='relu'),\n",
    "    layers.Dense(1)  # Output layer for predicting price\n",
    "])"
   ]
  },
  {
   "cell_type": "code",
   "execution_count": 8,
   "id": "ece3a68c-4910-40ac-8c71-0e248e961b8b",
   "metadata": {},
   "outputs": [
    {
     "name": "stdout",
     "output_type": "stream",
     "text": [
      "Epoch 1/20\n",
      "450/450 [==============================] - 2s 2ms/step - loss: 11.1241 - val_loss: 8.5468\n",
      "Epoch 2/20\n",
      "450/450 [==============================] - 1s 1ms/step - loss: 8.4131 - val_loss: 8.5272\n",
      "Epoch 3/20\n",
      "450/450 [==============================] - 1s 1ms/step - loss: 8.3989 - val_loss: 8.5383\n",
      "Epoch 4/20\n",
      "450/450 [==============================] - 1s 1ms/step - loss: 8.3899 - val_loss: 8.5105\n",
      "Epoch 5/20\n",
      "450/450 [==============================] - 1s 1ms/step - loss: 8.3905 - val_loss: 8.5532\n",
      "Epoch 6/20\n",
      "450/450 [==============================] - 1s 1ms/step - loss: 8.4069 - val_loss: 8.5173\n",
      "Epoch 7/20\n",
      "450/450 [==============================] - 1s 1ms/step - loss: 8.3909 - val_loss: 8.5177\n",
      "Epoch 8/20\n",
      "450/450 [==============================] - 1s 1ms/step - loss: 8.3843 - val_loss: 8.5272\n",
      "Epoch 9/20\n",
      "450/450 [==============================] - 1s 1ms/step - loss: 8.3873 - val_loss: 8.5576\n",
      "Epoch 10/20\n",
      "450/450 [==============================] - 1s 1ms/step - loss: 8.3813 - val_loss: 8.5189\n",
      "Epoch 11/20\n",
      "450/450 [==============================] - 1s 1ms/step - loss: 8.3850 - val_loss: 8.6309\n",
      "Epoch 12/20\n",
      "450/450 [==============================] - 1s 1ms/step - loss: 8.3849 - val_loss: 8.5177\n",
      "Epoch 13/20\n",
      "450/450 [==============================] - 1s 2ms/step - loss: 8.3909 - val_loss: 8.5250\n",
      "Epoch 14/20\n",
      "450/450 [==============================] - 1s 1ms/step - loss: 8.3857 - val_loss: 8.5076\n",
      "Epoch 15/20\n",
      "450/450 [==============================] - 1s 1ms/step - loss: 8.3770 - val_loss: 8.5149\n",
      "Epoch 16/20\n",
      "450/450 [==============================] - 1s 1ms/step - loss: 8.3844 - val_loss: 8.5818\n",
      "Epoch 17/20\n",
      "450/450 [==============================] - 1s 1ms/step - loss: 8.3795 - val_loss: 8.5131\n",
      "Epoch 18/20\n",
      "450/450 [==============================] - 1s 1ms/step - loss: 8.3851 - val_loss: 8.5102\n",
      "Epoch 19/20\n",
      "450/450 [==============================] - 1s 1ms/step - loss: 8.3791 - val_loss: 8.5034\n",
      "Epoch 20/20\n",
      "450/450 [==============================] - 1s 1ms/step - loss: 8.3778 - val_loss: 8.5230\n",
      "125/125 [==============================] - 0s 937us/step - loss: 8.3597\n",
      "Test Loss: 8.35974407196045\n"
     ]
    }
   ],
   "source": [
    "# Compile the model\n",
    "model.compile(optimizer='adam', loss='mean_squared_error')\n",
    "# Train the model\n",
    "model.fit(train_features, train_prices, epochs=20, batch_size=32, validation_split=0.1)\n",
    "# Evaluate the model\n",
    "loss = model.evaluate(test_features, test_prices)\n",
    "print(\"Test Loss:\", loss)"
   ]
  },
  {
   "cell_type": "code",
   "execution_count": 9,
   "id": "cffd3db6-8907-4bc0-a168-b7ca07ce7e1c",
   "metadata": {},
   "outputs": [],
   "source": [
    "new_features = np.array([[0.8, 0.5, 0.3], [0.7, 0.6, 0.5]])"
   ]
  },
  {
   "cell_type": "code",
   "execution_count": 10,
   "id": "1acdda2b-53ae-4f2c-8caf-8ec36bc9f0af",
   "metadata": {},
   "outputs": [
    {
     "name": "stdout",
     "output_type": "stream",
     "text": [
      "1/1 [==============================] - 0s 62ms/step\n",
      "Predicted Price: [[4.8166623]\n",
      " [4.877956 ]]\n"
     ]
    }
   ],
   "source": [
    "predicted_price = model.predict(new_features)\n",
    "print(\"Predicted Price:\", predicted_price)"
   ]
  },
  {
   "cell_type": "code",
   "execution_count": null,
   "id": "17e12fae-c16f-425c-a8ff-894a8ac29476",
   "metadata": {},
   "outputs": [],
   "source": []
  },
  {
   "cell_type": "code",
   "execution_count": null,
   "id": "dba405be-c738-45bc-8676-da0d731475b4",
   "metadata": {},
   "outputs": [],
   "source": []
  }
 ],
 "metadata": {
  "kernelspec": {
   "display_name": "wf_tf",
   "language": "python",
   "name": "wf_tf"
  },
  "language_info": {
   "codemirror_mode": {
    "name": "ipython",
    "version": 3
   },
   "file_extension": ".py",
   "mimetype": "text/x-python",
   "name": "python",
   "nbconvert_exporter": "python",
   "pygments_lexer": "ipython3",
   "version": "3.8.19"
  }
 },
 "nbformat": 4,
 "nbformat_minor": 5
}
