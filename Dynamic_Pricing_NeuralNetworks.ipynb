{
 "cells": [
  {
   "cell_type": "code",
   "execution_count": 2,
   "id": "2f3ff61b-51f4-4c4b-9ece-79ebce8c6b59",
   "metadata": {},
   "outputs": [],
   "source": [
    "import os\n",
    "import numpy as np\n",
    "import pandas as pd\n",
    "import warnings\n",
    "import difflib\n",
    "from tabulate import tabulate"
   ]
  },
  {
   "cell_type": "code",
   "execution_count": 4,
   "id": "1d25b24b-2da6-483d-82f8-cefa9e014b63",
   "metadata": {},
   "outputs": [
    {
     "name": "stdout",
     "output_type": "stream",
     "text": [
      "Available GPU devices:\n",
      "PhysicalDevice(name='/physical_device:GPU:0', device_type='GPU')\n"
     ]
    },
    {
     "name": "stdin",
     "output_type": "stream",
     "text": [
      "Enter the index of the GPU device you want to use (or press Enter to use CPU):  0\n"
     ]
    },
    {
     "name": "stdout",
     "output_type": "stream",
     "text": [
      "Using GPU device 0.\n"
     ]
    }
   ],
   "source": [
    "# Check available devices\n",
    "physical_devices = tf.config.list_physical_devices('GPU')\n",
    "if len(physical_devices) == 0:\n",
    "    print(\"No GPU devices available, using CPU.\")\n",
    "else:\n",
    "    print(\"Available GPU devices:\")\n",
    "    for device in physical_devices:\n",
    "        print(device)\n",
    "\n",
    "# Choose GPU device (if available)\n",
    "gpu_index = input(\"Enter the index of the GPU device you want to use (or press Enter to use CPU): \")\n",
    "if gpu_index and gpu_index.isdigit() and int(gpu_index) < len(physical_devices):\n",
    "    gpu_index = int(gpu_index)\n",
    "    tf.config.experimental.set_visible_devices(physical_devices[gpu_index], 'GPU')\n",
    "    print(f\"Using GPU device {gpu_index}.\")\n",
    "else:\n",
    "    print(\"Using CPU.\")"
   ]
  },
  {
   "cell_type": "code",
   "execution_count": null,
   "id": "1d139f3d-6f0f-40d1-bec5-1682bb4651d7",
   "metadata": {},
   "outputs": [],
   "source": [
    "# loading the data to a data frame\n",
    "data_frame = pd.DataFrame(breast_cancer_dataset.data, columns = breast_cancer_dataset.feature_names)\n",
    "data_frame.head()"
   ]
  },
  {
   "cell_type": "code",
   "execution_count": 16,
   "id": "4187d7a6-a912-428f-9daa-d658cacc5b6f",
   "metadata": {},
   "outputs": [],
   "source": [
    "# Generate some random data for demonstration\n",
    "num_samples = 20000\n",
    "features = np.random.rand(num_samples, 3)  # Features: demand, competition, time of day\n",
    "prices = 10 * np.random.rand(num_samples, 1)  # Target prices"
   ]
  },
  {
   "cell_type": "code",
   "execution_count": 17,
   "id": "595a6efd-c0d1-4e9f-91f0-af64ab512bf6",
   "metadata": {},
   "outputs": [
    {
     "name": "stdout",
     "output_type": "stream",
     "text": [
      "     demand  competition  time_of_day     price\n",
      "0  0.871108     0.136352     0.751292  8.501535\n",
      "1  0.899998     0.373014     0.977339  4.149975\n",
      "2  0.491234     0.595460     0.965790  8.599041\n",
      "3  0.319860     0.646348     0.849372  4.384559\n",
      "4  0.316317     0.635399     0.078591  0.204982\n"
     ]
    }
   ],
   "source": [
    "# Creating a DataFrame\n",
    "data = pd.DataFrame({\n",
    "    'demand': features[:, 0],\n",
    "    'competition': features[:, 1],\n",
    "    'time_of_day': features[:, 2],\n",
    "    'price': prices.flatten()\n",
    "})\n",
    "\n",
    "# Displaying the DataFrame\n",
    "print(data.head())"
   ]
  },
  {
   "cell_type": "code",
   "execution_count": 18,
   "id": "b5b200b3-2794-4346-bf1e-f10b6dab9311",
   "metadata": {},
   "outputs": [
    {
     "name": "stdout",
     "output_type": "stream",
     "text": [
      "+----+----------+---------------+---------------+----------+\n",
      "|    |   demand |   competition |   time_of_day |    price |\n",
      "|----+----------+---------------+---------------+----------|\n",
      "|  0 | 0.871108 |      0.136352 |     0.751292  | 8.50154  |\n",
      "|  1 | 0.899998 |      0.373014 |     0.977339  | 4.14997  |\n",
      "|  2 | 0.491234 |      0.59546  |     0.96579   | 8.59904  |\n",
      "|  3 | 0.31986  |      0.646348 |     0.849372  | 4.38456  |\n",
      "|  4 | 0.316317 |      0.635399 |     0.0785908 | 0.204982 |\n",
      "+----+----------+---------------+---------------+----------+\n"
     ]
    }
   ],
   "source": [
    "# Displaying the DataFrame\n",
    "print(tabulate(data.head(), headers='keys', tablefmt='psql'))"
   ]
  },
  {
   "cell_type": "code",
   "execution_count": 19,
   "id": "00034e37-154f-4bfa-a030-967cf43534f6",
   "metadata": {},
   "outputs": [],
   "source": [
    "# Split data into training and testing sets\n",
    "train_size = int(0.8 * num_samples)\n",
    "train_features, test_features = features[:train_size], features[train_size:]\n",
    "train_prices, test_prices = prices[:train_size], prices[train_size:]"
   ]
  },
  {
   "cell_type": "code",
   "execution_count": 20,
   "id": "2507c933-1c39-4fd0-b81b-89e38a97b051",
   "metadata": {},
   "outputs": [],
   "source": [
    "# Define the neural network model\n",
    "model = Sequential([\n",
    "    layers.Dense(64, activation='relu', input_shape=(3,)),\n",
    "    layers.Dense(32, activation='relu'),\n",
    "    layers.Dense(1)  # Output layer for predicting price\n",
    "])"
   ]
  },
  {
   "cell_type": "code",
   "execution_count": 21,
   "id": "ece3a68c-4910-40ac-8c71-0e248e961b8b",
   "metadata": {},
   "outputs": [
    {
     "name": "stdout",
     "output_type": "stream",
     "text": [
      "Epoch 1/20\n",
      "450/450 [==============================] - 1s 2ms/step - loss: 10.9494 - val_loss: 8.1422\n",
      "Epoch 2/20\n",
      "450/450 [==============================] - 1s 1ms/step - loss: 8.3617 - val_loss: 8.0675\n",
      "Epoch 3/20\n",
      "450/450 [==============================] - 1s 2ms/step - loss: 8.3482 - val_loss: 8.0521\n",
      "Epoch 4/20\n",
      "450/450 [==============================] - 1s 1ms/step - loss: 8.3397 - val_loss: 8.0461\n",
      "Epoch 5/20\n",
      "450/450 [==============================] - 1s 2ms/step - loss: 8.3462 - val_loss: 8.0259\n",
      "Epoch 6/20\n",
      "450/450 [==============================] - 1s 1ms/step - loss: 8.3361 - val_loss: 8.0365\n",
      "Epoch 7/20\n",
      "450/450 [==============================] - 1s 1ms/step - loss: 8.3422 - val_loss: 8.0232\n",
      "Epoch 8/20\n",
      "450/450 [==============================] - 1s 1ms/step - loss: 8.3459 - val_loss: 8.1118\n",
      "Epoch 9/20\n",
      "450/450 [==============================] - 1s 1ms/step - loss: 8.3325 - val_loss: 8.0326\n",
      "Epoch 10/20\n",
      "450/450 [==============================] - 1s 1ms/step - loss: 8.3439 - val_loss: 8.0267\n",
      "Epoch 11/20\n",
      "450/450 [==============================] - 1s 2ms/step - loss: 8.3378 - val_loss: 8.0365\n",
      "Epoch 12/20\n",
      "450/450 [==============================] - 1s 1ms/step - loss: 8.3296 - val_loss: 8.0949\n",
      "Epoch 13/20\n",
      "450/450 [==============================] - 1s 1ms/step - loss: 8.3301 - val_loss: 8.0365\n",
      "Epoch 14/20\n",
      "450/450 [==============================] - 1s 1ms/step - loss: 8.3340 - val_loss: 8.0384\n",
      "Epoch 15/20\n",
      "450/450 [==============================] - 1s 2ms/step - loss: 8.3348 - val_loss: 8.2228\n",
      "Epoch 16/20\n",
      "450/450 [==============================] - 1s 1ms/step - loss: 8.3337 - val_loss: 8.0625\n",
      "Epoch 17/20\n",
      "450/450 [==============================] - 1s 2ms/step - loss: 8.3346 - val_loss: 8.0323\n",
      "Epoch 18/20\n",
      "450/450 [==============================] - 1s 2ms/step - loss: 8.3359 - val_loss: 8.0715\n",
      "Epoch 19/20\n",
      "450/450 [==============================] - 1s 1ms/step - loss: 8.3351 - val_loss: 8.1187\n",
      "Epoch 20/20\n",
      "450/450 [==============================] - 1s 1ms/step - loss: 8.3458 - val_loss: 8.0323\n",
      "125/125 [==============================] - 0s 876us/step - loss: 8.5304\n",
      "Test Loss: 8.53036880493164\n"
     ]
    }
   ],
   "source": [
    "# Compile the model\n",
    "model.compile(optimizer='adam', loss='mean_squared_error')\n",
    "# Train the model\n",
    "model.fit(train_features, train_prices, epochs=20, batch_size=32, validation_split=0.1)\n",
    "# Evaluate the model\n",
    "loss = model.evaluate(test_features, test_prices)\n",
    "print(\"Test Loss:\", loss)"
   ]
  },
  {
   "cell_type": "code",
   "execution_count": 22,
   "id": "cffd3db6-8907-4bc0-a168-b7ca07ce7e1c",
   "metadata": {},
   "outputs": [],
   "source": [
    "new_features = np.array([[0.8, 0.5, 0.3]])"
   ]
  },
  {
   "cell_type": "code",
   "execution_count": 23,
   "id": "1acdda2b-53ae-4f2c-8caf-8ec36bc9f0af",
   "metadata": {},
   "outputs": [
    {
     "name": "stdout",
     "output_type": "stream",
     "text": [
      "1/1 [==============================] - 0s 35ms/step\n",
      "Predicted Price: [[5.085967]]\n"
     ]
    }
   ],
   "source": [
    "predicted_price = model.predict(new_features)\n",
    "print(\"Predicted Price:\", predicted_price)"
   ]
  },
  {
   "cell_type": "code",
   "execution_count": null,
   "id": "17e12fae-c16f-425c-a8ff-894a8ac29476",
   "metadata": {},
   "outputs": [],
   "source": []
  },
  {
   "cell_type": "code",
   "execution_count": null,
   "id": "dba405be-c738-45bc-8676-da0d731475b4",
   "metadata": {},
   "outputs": [],
   "source": []
  }
 ],
 "metadata": {
  "kernelspec": {
   "display_name": "wf_tf",
   "language": "python",
   "name": "wf_tf"
  },
  "language_info": {
   "codemirror_mode": {
    "name": "ipython",
    "version": 3
   },
   "file_extension": ".py",
   "mimetype": "text/x-python",
   "name": "python",
   "nbconvert_exporter": "python",
   "pygments_lexer": "ipython3",
   "version": "3.8.19"
  }
 },
 "nbformat": 4,
 "nbformat_minor": 5
}
