{
 "cells": [
  {
   "cell_type": "code",
   "execution_count": 1,
   "id": "160179ce-a5ee-4b89-833d-666f87a8e17f",
   "metadata": {},
   "outputs": [],
   "source": [
    "import os\n",
    "import numpy as np\n",
    "import pandas as pd\n",
    "import warnings\n",
    "import difflib\n",
    "from tabulate import tabulate\n",
    "import tensorflow as tf\n",
    "import matplotlib.pyplot as plt\n",
    "import seaborn as sns\n",
    "from tensorflow.keras import layers, Sequential\n",
    "from sklearn.model_selection import train_test_split, cross_val_score, GridSearchCV\n",
    "from sklearn.linear_model import LogisticRegression\n",
    "from sklearn.metrics import accuracy_score\n",
    "from sklearn.preprocessing import StandardScaler\n",
    "from sklearn.metrics import confusion_matrix, classification_report, precision_recall_curve, auc\n",
    "from sklearn.linear_model import LogisticRegression\n",
    "from sklearn.ensemble import RandomForestClassifier, GradientBoostingClassifier\n",
    "from sklearn.svm import SVC\n",
    "from sklearn.neural_network import MLPClassifier\n",
    "import warnings"
   ]
  },
  {
   "cell_type": "code",
   "execution_count": 2,
   "id": "8ec544c3-876a-4493-b7f9-dfd722d0aac0",
   "metadata": {},
   "outputs": [
    {
     "name": "stdout",
     "output_type": "stream",
     "text": [
      "Available GPU devices:\n",
      "PhysicalDevice(name='/physical_device:GPU:0', device_type='GPU')\n",
      "Using GPU.\n"
     ]
    }
   ],
   "source": [
    "\n",
    "# Check available devices\n",
    "physical_devices = tf.config.list_physical_devices('GPU')\n",
    "\n",
    "if len(physical_devices) == 0:\n",
    "    print(\"No GPU devices available, using CPU.\")\n",
    "    tf.config.set_visible_devices([], 'GPU')  # Hide GPUs\n",
    "else:\n",
    "    print(\"Available GPU devices:\")\n",
    "    for device in physical_devices:\n",
    "        print(device)\n",
    "    # Use GPU\n",
    "    tf.config.experimental.set_visible_devices(physical_devices[0], 'GPU')\n",
    "    print(\"Using GPU.\")"
   ]
  },
  {
   "cell_type": "code",
   "execution_count": 3,
   "id": "c0c54e92-7b9e-461a-b0cc-aa14871212f4",
   "metadata": {},
   "outputs": [
    {
     "name": "stdout",
     "output_type": "stream",
     "text": [
      "+----+--------+-----------+------------+---------+-----------+------------+------------+-----------+------------+-----------+------------+-----------+------------+-----------+-----------+-----------+-----------+-----------+------------+-----------+------------+------------+------------+-----------+------------+-----------+-----------+------------+------------+----------+---------+\n",
      "|    |   Time |        V1 |         V2 |      V3 |        V4 |         V5 |         V6 |        V7 |         V8 |        V9 |        V10 |       V11 |        V12 |       V13 |       V14 |       V15 |       V16 |       V17 |        V18 |       V19 |        V20 |        V21 |        V22 |       V23 |        V24 |       V25 |       V26 |        V27 |        V28 |   Amount |   Class |\n",
      "|----+--------+-----------+------------+---------+-----------+------------+------------+-----------+------------+-----------+------------+-----------+------------+-----------+-----------+-----------+-----------+-----------+------------+-----------+------------+------------+------------+-----------+------------+-----------+-----------+------------+------------+----------+---------|\n",
      "|  0 |      0 | -1.35981  | -0.0727812 | 2.53635 |  1.37816  | -0.338321  |  0.462388  |  0.239599 |  0.0986979 |  0.363787 |  0.0907942 | -0.5516   | -0.617801  | -0.99139  | -0.311169 |  1.46818  | -0.470401 |  0.207971 |  0.0257906 |  0.403993 |  0.251412  | -0.0183068 |  0.277838  | -0.110474 |  0.0669281 |  0.128539 | -0.189115 |  0.133558  | -0.0210531 |   149.62 |       0 |\n",
      "|  1 |      0 |  1.19186  |  0.266151  | 0.16648 |  0.448154 |  0.0600176 | -0.0823608 | -0.078803 |  0.0851017 | -0.255425 | -0.166974  |  1.61273  |  1.06524   |  0.489095 | -0.143772 |  0.635558 |  0.463917 | -0.114805 | -0.183361  | -0.145783 | -0.0690831 | -0.225775  | -0.638672  |  0.101288 | -0.339846  |  0.16717  |  0.125895 | -0.0089831 |  0.0147242 |     2.69 |       0 |\n",
      "|  2 |      1 | -1.35835  | -1.34016   | 1.77321 |  0.37978  | -0.503198  |  1.8005    |  0.791461 |  0.247676  | -1.51465  |  0.207643  |  0.624501 |  0.0660837 |  0.717293 | -0.165946 |  2.34586  | -2.89008  |  1.10997  | -0.121359  | -2.26186  |  0.52498   |  0.247998  |  0.771679  |  0.909412 | -0.689281  | -0.327642 | -0.139097 | -0.0553528 | -0.0597518 |   378.66 |       0 |\n",
      "|  3 |      1 | -0.966272 | -0.185226  | 1.79299 | -0.863291 | -0.0103089 |  1.2472    |  0.237609 |  0.377436  | -1.38702  | -0.0549519 | -0.226487 |  0.178228  |  0.507757 | -0.287924 | -0.631418 | -1.05965  | -0.684093 |  1.96578   | -1.23262  | -0.208038  | -0.1083    |  0.0052736 | -0.190321 | -1.17558   |  0.647376 | -0.221929 |  0.0627228 |  0.0614576 |   123.5  |       0 |\n",
      "|  4 |      2 | -1.15823  |  0.877737  | 1.54872 |  0.403034 | -0.407193  |  0.0959215 |  0.592941 | -0.270533  |  0.817739 |  0.753074  | -0.822843 |  0.538196  |  1.34585  | -1.11967  |  0.175121 | -0.451449 | -0.237033 | -0.0381948 |  0.803487 |  0.408542  | -0.0094307 |  0.798278  | -0.137458 |  0.141267  | -0.20601  |  0.502292 |  0.219422  |  0.215153  |    69.99 |       0 |\n",
      "+----+--------+-----------+------------+---------+-----------+------------+------------+-----------+------------+-----------+------------+-----------+------------+-----------+-----------+-----------+-----------+-----------+------------+-----------+------------+------------+------------+-----------+------------+-----------+-----------+------------+------------+----------+---------+\n"
     ]
    },
    {
     "data": {
      "text/html": [
       "<div>\n",
       "<style scoped>\n",
       "    .dataframe tbody tr th:only-of-type {\n",
       "        vertical-align: middle;\n",
       "    }\n",
       "\n",
       "    .dataframe tbody tr th {\n",
       "        vertical-align: top;\n",
       "    }\n",
       "\n",
       "    .dataframe thead th {\n",
       "        text-align: right;\n",
       "    }\n",
       "</style>\n",
       "<table border=\"1\" class=\"dataframe\">\n",
       "  <thead>\n",
       "    <tr style=\"text-align: right;\">\n",
       "      <th></th>\n",
       "      <th>Time</th>\n",
       "      <th>V1</th>\n",
       "      <th>V2</th>\n",
       "      <th>V3</th>\n",
       "      <th>V4</th>\n",
       "      <th>V5</th>\n",
       "      <th>V6</th>\n",
       "      <th>V7</th>\n",
       "      <th>V8</th>\n",
       "      <th>V9</th>\n",
       "      <th>...</th>\n",
       "      <th>V21</th>\n",
       "      <th>V22</th>\n",
       "      <th>V23</th>\n",
       "      <th>V24</th>\n",
       "      <th>V25</th>\n",
       "      <th>V26</th>\n",
       "      <th>V27</th>\n",
       "      <th>V28</th>\n",
       "      <th>Amount</th>\n",
       "      <th>Class</th>\n",
       "    </tr>\n",
       "  </thead>\n",
       "  <tbody>\n",
       "    <tr>\n",
       "      <th>106536</th>\n",
       "      <td>70002.0</td>\n",
       "      <td>-0.364806</td>\n",
       "      <td>0.962128</td>\n",
       "      <td>1.148280</td>\n",
       "      <td>-0.115327</td>\n",
       "      <td>0.121269</td>\n",
       "      <td>-0.510519</td>\n",
       "      <td>0.497304</td>\n",
       "      <td>0.178764</td>\n",
       "      <td>-0.409559</td>\n",
       "      <td>...</td>\n",
       "      <td>-0.250385</td>\n",
       "      <td>-0.757543</td>\n",
       "      <td>-0.050489</td>\n",
       "      <td>-0.088160</td>\n",
       "      <td>-0.196581</td>\n",
       "      <td>0.079697</td>\n",
       "      <td>0.231810</td>\n",
       "      <td>0.081702</td>\n",
       "      <td>2.69</td>\n",
       "      <td>0</td>\n",
       "    </tr>\n",
       "    <tr>\n",
       "      <th>26351</th>\n",
       "      <td>34020.0</td>\n",
       "      <td>0.925689</td>\n",
       "      <td>-0.419526</td>\n",
       "      <td>0.066580</td>\n",
       "      <td>0.310316</td>\n",
       "      <td>0.584351</td>\n",
       "      <td>2.053460</td>\n",
       "      <td>-0.381226</td>\n",
       "      <td>0.621529</td>\n",
       "      <td>0.208712</td>\n",
       "      <td>...</td>\n",
       "      <td>-0.066896</td>\n",
       "      <td>-0.035103</td>\n",
       "      <td>-0.013838</td>\n",
       "      <td>-1.645135</td>\n",
       "      <td>0.160729</td>\n",
       "      <td>0.520346</td>\n",
       "      <td>0.024948</td>\n",
       "      <td>-0.008396</td>\n",
       "      <td>74.19</td>\n",
       "      <td>0</td>\n",
       "    </tr>\n",
       "    <tr>\n",
       "      <th>10376</th>\n",
       "      <td>16667.0</td>\n",
       "      <td>1.009401</td>\n",
       "      <td>-1.256933</td>\n",
       "      <td>1.643618</td>\n",
       "      <td>-0.632346</td>\n",
       "      <td>-2.074077</td>\n",
       "      <td>0.020436</td>\n",
       "      <td>-1.395074</td>\n",
       "      <td>0.212397</td>\n",
       "      <td>4.608729</td>\n",
       "      <td>...</td>\n",
       "      <td>-0.030341</td>\n",
       "      <td>0.542996</td>\n",
       "      <td>-0.236625</td>\n",
       "      <td>0.431423</td>\n",
       "      <td>0.496446</td>\n",
       "      <td>0.112434</td>\n",
       "      <td>0.057854</td>\n",
       "      <td>0.037415</td>\n",
       "      <td>97.86</td>\n",
       "      <td>0</td>\n",
       "    </tr>\n",
       "    <tr>\n",
       "      <th>185562</th>\n",
       "      <td>126722.0</td>\n",
       "      <td>1.297399</td>\n",
       "      <td>-1.442762</td>\n",
       "      <td>-2.039767</td>\n",
       "      <td>0.349159</td>\n",
       "      <td>0.023802</td>\n",
       "      <td>-0.103327</td>\n",
       "      <td>0.521319</td>\n",
       "      <td>-0.085997</td>\n",
       "      <td>0.613135</td>\n",
       "      <td>...</td>\n",
       "      <td>-0.018944</td>\n",
       "      <td>-1.001753</td>\n",
       "      <td>-0.077739</td>\n",
       "      <td>0.022816</td>\n",
       "      <td>-0.276213</td>\n",
       "      <td>-0.655258</td>\n",
       "      <td>-0.110553</td>\n",
       "      <td>0.007155</td>\n",
       "      <td>401.03</td>\n",
       "      <td>0</td>\n",
       "    </tr>\n",
       "    <tr>\n",
       "      <th>154146</th>\n",
       "      <td>100892.0</td>\n",
       "      <td>2.066360</td>\n",
       "      <td>-0.019550</td>\n",
       "      <td>-0.829920</td>\n",
       "      <td>0.280736</td>\n",
       "      <td>-0.003777</td>\n",
       "      <td>-0.685588</td>\n",
       "      <td>-0.190845</td>\n",
       "      <td>-0.223250</td>\n",
       "      <td>1.878489</td>\n",
       "      <td>...</td>\n",
       "      <td>-0.626272</td>\n",
       "      <td>-1.632095</td>\n",
       "      <td>0.589296</td>\n",
       "      <td>0.538325</td>\n",
       "      <td>-0.724293</td>\n",
       "      <td>-0.045695</td>\n",
       "      <td>-0.102390</td>\n",
       "      <td>-0.049107</td>\n",
       "      <td>6.04</td>\n",
       "      <td>0</td>\n",
       "    </tr>\n",
       "  </tbody>\n",
       "</table>\n",
       "<p>5 rows × 31 columns</p>\n",
       "</div>"
      ],
      "text/plain": [
       "            Time        V1        V2        V3        V4        V5        V6  \\\n",
       "106536   70002.0 -0.364806  0.962128  1.148280 -0.115327  0.121269 -0.510519   \n",
       "26351    34020.0  0.925689 -0.419526  0.066580  0.310316  0.584351  2.053460   \n",
       "10376    16667.0  1.009401 -1.256933  1.643618 -0.632346 -2.074077  0.020436   \n",
       "185562  126722.0  1.297399 -1.442762 -2.039767  0.349159  0.023802 -0.103327   \n",
       "154146  100892.0  2.066360 -0.019550 -0.829920  0.280736 -0.003777 -0.685588   \n",
       "\n",
       "              V7        V8        V9  ...       V21       V22       V23  \\\n",
       "106536  0.497304  0.178764 -0.409559  ... -0.250385 -0.757543 -0.050489   \n",
       "26351  -0.381226  0.621529  0.208712  ... -0.066896 -0.035103 -0.013838   \n",
       "10376  -1.395074  0.212397  4.608729  ... -0.030341  0.542996 -0.236625   \n",
       "185562  0.521319 -0.085997  0.613135  ... -0.018944 -1.001753 -0.077739   \n",
       "154146 -0.190845 -0.223250  1.878489  ... -0.626272 -1.632095  0.589296   \n",
       "\n",
       "             V24       V25       V26       V27       V28  Amount  Class  \n",
       "106536 -0.088160 -0.196581  0.079697  0.231810  0.081702    2.69      0  \n",
       "26351  -1.645135  0.160729  0.520346  0.024948 -0.008396   74.19      0  \n",
       "10376   0.431423  0.496446  0.112434  0.057854  0.037415   97.86      0  \n",
       "185562  0.022816 -0.276213 -0.655258 -0.110553  0.007155  401.03      0  \n",
       "154146  0.538325 -0.724293 -0.045695 -0.102390 -0.049107    6.04      0  \n",
       "\n",
       "[5 rows x 31 columns]"
      ]
     },
     "execution_count": 3,
     "metadata": {},
     "output_type": "execute_result"
    }
   ],
   "source": [
    "# loading the data from the csv file to apandas dataframe\n",
    "data_location = r'C:\\Users\\pedam\\github_checkin_code\\ml_learning_notebooks\\src_data\\creditcard.csv'\n",
    "\n",
    "credit_card_data = pd.read_csv(data_location)\n",
    "\n",
    "print(tabulate(credit_card_data.head(), headers='keys', tablefmt='psql'))\n",
    "\n",
    "random_records = credit_card_data.sample(n=5)  # Replace 5 with the number of random records you want to display\n",
    "random_records"
   ]
  },
  {
   "cell_type": "code",
   "execution_count": 4,
   "id": "cfd6bad7-6e10-4acd-9844-e999879a9fc1",
   "metadata": {},
   "outputs": [
    {
     "name": "stdout",
     "output_type": "stream",
     "text": [
      "<class 'pandas.core.frame.DataFrame'>\n",
      "RangeIndex: 284807 entries, 0 to 284806\n",
      "Data columns (total 31 columns):\n",
      " #   Column  Non-Null Count   Dtype  \n",
      "---  ------  --------------   -----  \n",
      " 0   Time    284807 non-null  float64\n",
      " 1   V1      284807 non-null  float64\n",
      " 2   V2      284807 non-null  float64\n",
      " 3   V3      284807 non-null  float64\n",
      " 4   V4      284807 non-null  float64\n",
      " 5   V5      284807 non-null  float64\n",
      " 6   V6      284807 non-null  float64\n",
      " 7   V7      284807 non-null  float64\n",
      " 8   V8      284807 non-null  float64\n",
      " 9   V9      284807 non-null  float64\n",
      " 10  V10     284807 non-null  float64\n",
      " 11  V11     284807 non-null  float64\n",
      " 12  V12     284807 non-null  float64\n",
      " 13  V13     284807 non-null  float64\n",
      " 14  V14     284807 non-null  float64\n",
      " 15  V15     284807 non-null  float64\n",
      " 16  V16     284807 non-null  float64\n",
      " 17  V17     284807 non-null  float64\n",
      " 18  V18     284807 non-null  float64\n",
      " 19  V19     284807 non-null  float64\n",
      " 20  V20     284807 non-null  float64\n",
      " 21  V21     284807 non-null  float64\n",
      " 22  V22     284807 non-null  float64\n",
      " 23  V23     284807 non-null  float64\n",
      " 24  V24     284807 non-null  float64\n",
      " 25  V25     284807 non-null  float64\n",
      " 26  V26     284807 non-null  float64\n",
      " 27  V27     284807 non-null  float64\n",
      " 28  V28     284807 non-null  float64\n",
      " 29  Amount  284807 non-null  float64\n",
      " 30  Class   284807 non-null  int64  \n",
      "dtypes: float64(30), int64(1)\n",
      "memory usage: 67.4 MB\n"
     ]
    }
   ],
   "source": [
    "# dataset informations\n",
    "credit_card_data.info()"
   ]
  },
  {
   "cell_type": "code",
   "execution_count": 5,
   "id": "87746e16-3cab-4ef3-8d43-810dece0e78a",
   "metadata": {},
   "outputs": [
    {
     "data": {
      "text/plain": [
       "Time      0\n",
       "V1        0\n",
       "V2        0\n",
       "V3        0\n",
       "V4        0\n",
       "V5        0\n",
       "V6        0\n",
       "V7        0\n",
       "V8        0\n",
       "V9        0\n",
       "V10       0\n",
       "V11       0\n",
       "V12       0\n",
       "V13       0\n",
       "V14       0\n",
       "V15       0\n",
       "V16       0\n",
       "V17       0\n",
       "V18       0\n",
       "V19       0\n",
       "V20       0\n",
       "V21       0\n",
       "V22       0\n",
       "V23       0\n",
       "V24       0\n",
       "V25       0\n",
       "V26       0\n",
       "V27       0\n",
       "V28       0\n",
       "Amount    0\n",
       "Class     0\n",
       "dtype: int64"
      ]
     },
     "execution_count": 5,
     "metadata": {},
     "output_type": "execute_result"
    }
   ],
   "source": [
    "# checking the number of missing values in each column\n",
    "credit_card_data.isnull().sum()"
   ]
  },
  {
   "cell_type": "code",
   "execution_count": 6,
   "id": "b199f2a1-0508-41b9-a9f1-be68b62d7780",
   "metadata": {},
   "outputs": [
    {
     "data": {
      "text/plain": [
       "Class\n",
       "0    284315\n",
       "1       492\n",
       "Name: count, dtype: int64"
      ]
     },
     "execution_count": 6,
     "metadata": {},
     "output_type": "execute_result"
    }
   ],
   "source": [
    "# distribution of legit transactions & fraudulent transactions\n",
    "credit_card_data['Class'].value_counts()"
   ]
  },
  {
   "cell_type": "markdown",
   "id": "913dd4c1-0432-4054-a7b7-63d15fb28f46",
   "metadata": {},
   "source": [
    "This Dataset is highly unblanced\n",
    "\n",
    "0 --> Normal Transaction\r\n",
    "\r\n",
    "1 --> fraudulent transaction\n"
   ]
  },
  {
   "cell_type": "code",
   "execution_count": 7,
   "id": "ff47cd09-2348-49c9-a5bd-b977054a9c00",
   "metadata": {},
   "outputs": [],
   "source": [
    "# separating the data for analysis\n",
    "legit = credit_card_data[credit_card_data.Class == 0]\n",
    "fraud = credit_card_data[credit_card_data.Class == 1]"
   ]
  },
  {
   "cell_type": "code",
   "execution_count": 8,
   "id": "e22e2868-4b60-4956-8138-7d3ebcff728a",
   "metadata": {},
   "outputs": [
    {
     "name": "stdout",
     "output_type": "stream",
     "text": [
      "(284315, 31)\n",
      "(492, 31)\n"
     ]
    }
   ],
   "source": [
    "print(legit.shape)\n",
    "print(fraud.shape)"
   ]
  },
  {
   "cell_type": "code",
   "execution_count": 9,
   "id": "36b6db5d-c7fb-4262-8459-136fa12a0de6",
   "metadata": {},
   "outputs": [
    {
     "data": {
      "text/plain": [
       "count    284315.000000\n",
       "mean         88.291022\n",
       "std         250.105092\n",
       "min           0.000000\n",
       "25%           5.650000\n",
       "50%          22.000000\n",
       "75%          77.050000\n",
       "max       25691.160000\n",
       "Name: Amount, dtype: float64"
      ]
     },
     "execution_count": 9,
     "metadata": {},
     "output_type": "execute_result"
    }
   ],
   "source": [
    "# statistical measures of the data\n",
    "legit.Amount.describe()"
   ]
  },
  {
   "cell_type": "code",
   "execution_count": 10,
   "id": "183dac26-ccf7-474b-af01-23cc7ea734b5",
   "metadata": {},
   "outputs": [
    {
     "data": {
      "text/html": [
       "<div>\n",
       "<style scoped>\n",
       "    .dataframe tbody tr th:only-of-type {\n",
       "        vertical-align: middle;\n",
       "    }\n",
       "\n",
       "    .dataframe tbody tr th {\n",
       "        vertical-align: top;\n",
       "    }\n",
       "\n",
       "    .dataframe thead th {\n",
       "        text-align: right;\n",
       "    }\n",
       "</style>\n",
       "<table border=\"1\" class=\"dataframe\">\n",
       "  <thead>\n",
       "    <tr style=\"text-align: right;\">\n",
       "      <th></th>\n",
       "      <th>Time</th>\n",
       "      <th>V1</th>\n",
       "      <th>V2</th>\n",
       "      <th>V3</th>\n",
       "      <th>V4</th>\n",
       "      <th>V5</th>\n",
       "      <th>V6</th>\n",
       "      <th>V7</th>\n",
       "      <th>V8</th>\n",
       "      <th>V9</th>\n",
       "      <th>...</th>\n",
       "      <th>V20</th>\n",
       "      <th>V21</th>\n",
       "      <th>V22</th>\n",
       "      <th>V23</th>\n",
       "      <th>V24</th>\n",
       "      <th>V25</th>\n",
       "      <th>V26</th>\n",
       "      <th>V27</th>\n",
       "      <th>V28</th>\n",
       "      <th>Amount</th>\n",
       "    </tr>\n",
       "    <tr>\n",
       "      <th>Class</th>\n",
       "      <th></th>\n",
       "      <th></th>\n",
       "      <th></th>\n",
       "      <th></th>\n",
       "      <th></th>\n",
       "      <th></th>\n",
       "      <th></th>\n",
       "      <th></th>\n",
       "      <th></th>\n",
       "      <th></th>\n",
       "      <th></th>\n",
       "      <th></th>\n",
       "      <th></th>\n",
       "      <th></th>\n",
       "      <th></th>\n",
       "      <th></th>\n",
       "      <th></th>\n",
       "      <th></th>\n",
       "      <th></th>\n",
       "      <th></th>\n",
       "      <th></th>\n",
       "    </tr>\n",
       "  </thead>\n",
       "  <tbody>\n",
       "    <tr>\n",
       "      <th>0</th>\n",
       "      <td>94838.202258</td>\n",
       "      <td>0.008258</td>\n",
       "      <td>-0.006271</td>\n",
       "      <td>0.012171</td>\n",
       "      <td>-0.007860</td>\n",
       "      <td>0.005453</td>\n",
       "      <td>0.002419</td>\n",
       "      <td>0.009637</td>\n",
       "      <td>-0.000987</td>\n",
       "      <td>0.004467</td>\n",
       "      <td>...</td>\n",
       "      <td>-0.000644</td>\n",
       "      <td>-0.001235</td>\n",
       "      <td>-0.000024</td>\n",
       "      <td>0.000070</td>\n",
       "      <td>0.000182</td>\n",
       "      <td>-0.000072</td>\n",
       "      <td>-0.000089</td>\n",
       "      <td>-0.000295</td>\n",
       "      <td>-0.000131</td>\n",
       "      <td>88.291022</td>\n",
       "    </tr>\n",
       "    <tr>\n",
       "      <th>1</th>\n",
       "      <td>80746.806911</td>\n",
       "      <td>-4.771948</td>\n",
       "      <td>3.623778</td>\n",
       "      <td>-7.033281</td>\n",
       "      <td>4.542029</td>\n",
       "      <td>-3.151225</td>\n",
       "      <td>-1.397737</td>\n",
       "      <td>-5.568731</td>\n",
       "      <td>0.570636</td>\n",
       "      <td>-2.581123</td>\n",
       "      <td>...</td>\n",
       "      <td>0.372319</td>\n",
       "      <td>0.713588</td>\n",
       "      <td>0.014049</td>\n",
       "      <td>-0.040308</td>\n",
       "      <td>-0.105130</td>\n",
       "      <td>0.041449</td>\n",
       "      <td>0.051648</td>\n",
       "      <td>0.170575</td>\n",
       "      <td>0.075667</td>\n",
       "      <td>122.211321</td>\n",
       "    </tr>\n",
       "  </tbody>\n",
       "</table>\n",
       "<p>2 rows × 30 columns</p>\n",
       "</div>"
      ],
      "text/plain": [
       "               Time        V1        V2        V3        V4        V5  \\\n",
       "Class                                                                   \n",
       "0      94838.202258  0.008258 -0.006271  0.012171 -0.007860  0.005453   \n",
       "1      80746.806911 -4.771948  3.623778 -7.033281  4.542029 -3.151225   \n",
       "\n",
       "             V6        V7        V8        V9  ...       V20       V21  \\\n",
       "Class                                          ...                       \n",
       "0      0.002419  0.009637 -0.000987  0.004467  ... -0.000644 -0.001235   \n",
       "1     -1.397737 -5.568731  0.570636 -2.581123  ...  0.372319  0.713588   \n",
       "\n",
       "            V22       V23       V24       V25       V26       V27       V28  \\\n",
       "Class                                                                         \n",
       "0     -0.000024  0.000070  0.000182 -0.000072 -0.000089 -0.000295 -0.000131   \n",
       "1      0.014049 -0.040308 -0.105130  0.041449  0.051648  0.170575  0.075667   \n",
       "\n",
       "           Amount  \n",
       "Class              \n",
       "0       88.291022  \n",
       "1      122.211321  \n",
       "\n",
       "[2 rows x 30 columns]"
      ]
     },
     "execution_count": 10,
     "metadata": {},
     "output_type": "execute_result"
    }
   ],
   "source": [
    "# compare the values for both transactions\n",
    "credit_card_data.groupby('Class').mean()"
   ]
  },
  {
   "cell_type": "code",
   "execution_count": 11,
   "id": "241d20f1-4a54-414d-b5d4-3a120f3f6751",
   "metadata": {},
   "outputs": [
    {
     "data": {
      "text/html": [
       "<div>\n",
       "<style scoped>\n",
       "    .dataframe tbody tr th:only-of-type {\n",
       "        vertical-align: middle;\n",
       "    }\n",
       "\n",
       "    .dataframe tbody tr th {\n",
       "        vertical-align: top;\n",
       "    }\n",
       "\n",
       "    .dataframe thead th {\n",
       "        text-align: right;\n",
       "    }\n",
       "</style>\n",
       "<table border=\"1\" class=\"dataframe\">\n",
       "  <thead>\n",
       "    <tr style=\"text-align: right;\">\n",
       "      <th></th>\n",
       "      <th>Time</th>\n",
       "      <th>V1</th>\n",
       "      <th>V2</th>\n",
       "      <th>V3</th>\n",
       "      <th>V4</th>\n",
       "      <th>V5</th>\n",
       "      <th>V6</th>\n",
       "      <th>V7</th>\n",
       "      <th>V8</th>\n",
       "      <th>V9</th>\n",
       "      <th>...</th>\n",
       "      <th>V21</th>\n",
       "      <th>V22</th>\n",
       "      <th>V23</th>\n",
       "      <th>V24</th>\n",
       "      <th>V25</th>\n",
       "      <th>V26</th>\n",
       "      <th>V27</th>\n",
       "      <th>V28</th>\n",
       "      <th>Amount</th>\n",
       "      <th>Class</th>\n",
       "    </tr>\n",
       "  </thead>\n",
       "  <tbody>\n",
       "    <tr>\n",
       "      <th>263195</th>\n",
       "      <td>160838.0</td>\n",
       "      <td>-0.591688</td>\n",
       "      <td>1.395461</td>\n",
       "      <td>-1.489262</td>\n",
       "      <td>-1.344684</td>\n",
       "      <td>1.143935</td>\n",
       "      <td>-0.922462</td>\n",
       "      <td>1.116318</td>\n",
       "      <td>0.247789</td>\n",
       "      <td>-0.483290</td>\n",
       "      <td>...</td>\n",
       "      <td>0.268070</td>\n",
       "      <td>0.802182</td>\n",
       "      <td>-0.206771</td>\n",
       "      <td>0.374159</td>\n",
       "      <td>-0.228419</td>\n",
       "      <td>0.067829</td>\n",
       "      <td>0.362237</td>\n",
       "      <td>0.254638</td>\n",
       "      <td>0.77</td>\n",
       "      <td>0</td>\n",
       "    </tr>\n",
       "    <tr>\n",
       "      <th>188752</th>\n",
       "      <td>128110.0</td>\n",
       "      <td>-0.581118</td>\n",
       "      <td>0.749191</td>\n",
       "      <td>0.898029</td>\n",
       "      <td>-0.353156</td>\n",
       "      <td>-0.185522</td>\n",
       "      <td>0.011618</td>\n",
       "      <td>0.008770</td>\n",
       "      <td>0.453284</td>\n",
       "      <td>0.300921</td>\n",
       "      <td>...</td>\n",
       "      <td>0.359343</td>\n",
       "      <td>1.108073</td>\n",
       "      <td>-0.270501</td>\n",
       "      <td>-0.598421</td>\n",
       "      <td>-0.138204</td>\n",
       "      <td>-0.083305</td>\n",
       "      <td>0.082787</td>\n",
       "      <td>0.106116</td>\n",
       "      <td>28.63</td>\n",
       "      <td>0</td>\n",
       "    </tr>\n",
       "    <tr>\n",
       "      <th>43676</th>\n",
       "      <td>41605.0</td>\n",
       "      <td>-2.124575</td>\n",
       "      <td>0.062763</td>\n",
       "      <td>1.241179</td>\n",
       "      <td>0.314861</td>\n",
       "      <td>-1.429539</td>\n",
       "      <td>-0.257928</td>\n",
       "      <td>-0.601996</td>\n",
       "      <td>0.986393</td>\n",
       "      <td>-0.087686</td>\n",
       "      <td>...</td>\n",
       "      <td>0.347357</td>\n",
       "      <td>0.730357</td>\n",
       "      <td>-0.070482</td>\n",
       "      <td>0.600373</td>\n",
       "      <td>-0.481780</td>\n",
       "      <td>0.470592</td>\n",
       "      <td>-0.275938</td>\n",
       "      <td>-0.166828</td>\n",
       "      <td>88.00</td>\n",
       "      <td>0</td>\n",
       "    </tr>\n",
       "    <tr>\n",
       "      <th>214711</th>\n",
       "      <td>139787.0</td>\n",
       "      <td>1.986759</td>\n",
       "      <td>0.364342</td>\n",
       "      <td>-1.983235</td>\n",
       "      <td>0.825300</td>\n",
       "      <td>0.486309</td>\n",
       "      <td>-1.213791</td>\n",
       "      <td>0.356031</td>\n",
       "      <td>-0.326508</td>\n",
       "      <td>0.668951</td>\n",
       "      <td>...</td>\n",
       "      <td>-0.134394</td>\n",
       "      <td>-0.097017</td>\n",
       "      <td>0.128424</td>\n",
       "      <td>1.006687</td>\n",
       "      <td>0.184443</td>\n",
       "      <td>-0.357259</td>\n",
       "      <td>0.016748</td>\n",
       "      <td>0.005593</td>\n",
       "      <td>17.00</td>\n",
       "      <td>0</td>\n",
       "    </tr>\n",
       "    <tr>\n",
       "      <th>161276</th>\n",
       "      <td>114048.0</td>\n",
       "      <td>1.821881</td>\n",
       "      <td>-1.166296</td>\n",
       "      <td>-1.129420</td>\n",
       "      <td>-2.331391</td>\n",
       "      <td>-0.131292</td>\n",
       "      <td>0.770597</td>\n",
       "      <td>-0.782615</td>\n",
       "      <td>0.329256</td>\n",
       "      <td>2.277250</td>\n",
       "      <td>...</td>\n",
       "      <td>0.377210</td>\n",
       "      <td>1.336712</td>\n",
       "      <td>0.006957</td>\n",
       "      <td>-1.580412</td>\n",
       "      <td>-0.131261</td>\n",
       "      <td>-0.640887</td>\n",
       "      <td>0.114103</td>\n",
       "      <td>-0.051202</td>\n",
       "      <td>72.38</td>\n",
       "      <td>0</td>\n",
       "    </tr>\n",
       "  </tbody>\n",
       "</table>\n",
       "<p>5 rows × 31 columns</p>\n",
       "</div>"
      ],
      "text/plain": [
       "            Time        V1        V2        V3        V4        V5        V6  \\\n",
       "263195  160838.0 -0.591688  1.395461 -1.489262 -1.344684  1.143935 -0.922462   \n",
       "188752  128110.0 -0.581118  0.749191  0.898029 -0.353156 -0.185522  0.011618   \n",
       "43676    41605.0 -2.124575  0.062763  1.241179  0.314861 -1.429539 -0.257928   \n",
       "214711  139787.0  1.986759  0.364342 -1.983235  0.825300  0.486309 -1.213791   \n",
       "161276  114048.0  1.821881 -1.166296 -1.129420 -2.331391 -0.131292  0.770597   \n",
       "\n",
       "              V7        V8        V9  ...       V21       V22       V23  \\\n",
       "263195  1.116318  0.247789 -0.483290  ...  0.268070  0.802182 -0.206771   \n",
       "188752  0.008770  0.453284  0.300921  ...  0.359343  1.108073 -0.270501   \n",
       "43676  -0.601996  0.986393 -0.087686  ...  0.347357  0.730357 -0.070482   \n",
       "214711  0.356031 -0.326508  0.668951  ... -0.134394 -0.097017  0.128424   \n",
       "161276 -0.782615  0.329256  2.277250  ...  0.377210  1.336712  0.006957   \n",
       "\n",
       "             V24       V25       V26       V27       V28  Amount  Class  \n",
       "263195  0.374159 -0.228419  0.067829  0.362237  0.254638    0.77      0  \n",
       "188752 -0.598421 -0.138204 -0.083305  0.082787  0.106116   28.63      0  \n",
       "43676   0.600373 -0.481780  0.470592 -0.275938 -0.166828   88.00      0  \n",
       "214711  1.006687  0.184443 -0.357259  0.016748  0.005593   17.00      0  \n",
       "161276 -1.580412 -0.131261 -0.640887  0.114103 -0.051202   72.38      0  \n",
       "\n",
       "[5 rows x 31 columns]"
      ]
     },
     "execution_count": 11,
     "metadata": {},
     "output_type": "execute_result"
    }
   ],
   "source": [
    "legit_sample = legit.sample(n=492)\n",
    "new_dataset = pd.concat([legit_sample, fraud], axis=0)\n",
    "new_dataset.head()"
   ]
  },
  {
   "cell_type": "code",
   "execution_count": 12,
   "id": "27c30948-ba46-425d-8a8a-3ecbd9452742",
   "metadata": {},
   "outputs": [
    {
     "data": {
      "text/plain": [
       "(984, 31)"
      ]
     },
     "execution_count": 12,
     "metadata": {},
     "output_type": "execute_result"
    }
   ],
   "source": [
    "new_dataset.shape"
   ]
  },
  {
   "cell_type": "code",
   "execution_count": 13,
   "id": "36fab8c9-d00c-4801-ad16-e4d879472e7e",
   "metadata": {},
   "outputs": [
    {
     "data": {
      "text/html": [
       "<div>\n",
       "<style scoped>\n",
       "    .dataframe tbody tr th:only-of-type {\n",
       "        vertical-align: middle;\n",
       "    }\n",
       "\n",
       "    .dataframe tbody tr th {\n",
       "        vertical-align: top;\n",
       "    }\n",
       "\n",
       "    .dataframe thead th {\n",
       "        text-align: right;\n",
       "    }\n",
       "</style>\n",
       "<table border=\"1\" class=\"dataframe\">\n",
       "  <thead>\n",
       "    <tr style=\"text-align: right;\">\n",
       "      <th></th>\n",
       "      <th>Time</th>\n",
       "      <th>V1</th>\n",
       "      <th>V2</th>\n",
       "      <th>V3</th>\n",
       "      <th>V4</th>\n",
       "      <th>V5</th>\n",
       "      <th>V6</th>\n",
       "      <th>V7</th>\n",
       "      <th>V8</th>\n",
       "      <th>V9</th>\n",
       "      <th>...</th>\n",
       "      <th>V21</th>\n",
       "      <th>V22</th>\n",
       "      <th>V23</th>\n",
       "      <th>V24</th>\n",
       "      <th>V25</th>\n",
       "      <th>V26</th>\n",
       "      <th>V27</th>\n",
       "      <th>V28</th>\n",
       "      <th>Amount</th>\n",
       "      <th>Class</th>\n",
       "    </tr>\n",
       "  </thead>\n",
       "  <tbody>\n",
       "    <tr>\n",
       "      <th>279863</th>\n",
       "      <td>169142.0</td>\n",
       "      <td>-1.927883</td>\n",
       "      <td>1.125653</td>\n",
       "      <td>-4.518331</td>\n",
       "      <td>1.749293</td>\n",
       "      <td>-1.566487</td>\n",
       "      <td>-2.010494</td>\n",
       "      <td>-0.882850</td>\n",
       "      <td>0.697211</td>\n",
       "      <td>-2.064945</td>\n",
       "      <td>...</td>\n",
       "      <td>0.778584</td>\n",
       "      <td>-0.319189</td>\n",
       "      <td>0.639419</td>\n",
       "      <td>-0.294885</td>\n",
       "      <td>0.537503</td>\n",
       "      <td>0.788395</td>\n",
       "      <td>0.292680</td>\n",
       "      <td>0.147968</td>\n",
       "      <td>390.00</td>\n",
       "      <td>1</td>\n",
       "    </tr>\n",
       "    <tr>\n",
       "      <th>280143</th>\n",
       "      <td>169347.0</td>\n",
       "      <td>1.378559</td>\n",
       "      <td>1.289381</td>\n",
       "      <td>-5.004247</td>\n",
       "      <td>1.411850</td>\n",
       "      <td>0.442581</td>\n",
       "      <td>-1.326536</td>\n",
       "      <td>-1.413170</td>\n",
       "      <td>0.248525</td>\n",
       "      <td>-1.127396</td>\n",
       "      <td>...</td>\n",
       "      <td>0.370612</td>\n",
       "      <td>0.028234</td>\n",
       "      <td>-0.145640</td>\n",
       "      <td>-0.081049</td>\n",
       "      <td>0.521875</td>\n",
       "      <td>0.739467</td>\n",
       "      <td>0.389152</td>\n",
       "      <td>0.186637</td>\n",
       "      <td>0.76</td>\n",
       "      <td>1</td>\n",
       "    </tr>\n",
       "    <tr>\n",
       "      <th>280149</th>\n",
       "      <td>169351.0</td>\n",
       "      <td>-0.676143</td>\n",
       "      <td>1.126366</td>\n",
       "      <td>-2.213700</td>\n",
       "      <td>0.468308</td>\n",
       "      <td>-1.120541</td>\n",
       "      <td>-0.003346</td>\n",
       "      <td>-2.234739</td>\n",
       "      <td>1.210158</td>\n",
       "      <td>-0.652250</td>\n",
       "      <td>...</td>\n",
       "      <td>0.751826</td>\n",
       "      <td>0.834108</td>\n",
       "      <td>0.190944</td>\n",
       "      <td>0.032070</td>\n",
       "      <td>-0.739695</td>\n",
       "      <td>0.471111</td>\n",
       "      <td>0.385107</td>\n",
       "      <td>0.194361</td>\n",
       "      <td>77.89</td>\n",
       "      <td>1</td>\n",
       "    </tr>\n",
       "    <tr>\n",
       "      <th>281144</th>\n",
       "      <td>169966.0</td>\n",
       "      <td>-3.113832</td>\n",
       "      <td>0.585864</td>\n",
       "      <td>-5.399730</td>\n",
       "      <td>1.817092</td>\n",
       "      <td>-0.840618</td>\n",
       "      <td>-2.943548</td>\n",
       "      <td>-2.208002</td>\n",
       "      <td>1.058733</td>\n",
       "      <td>-1.632333</td>\n",
       "      <td>...</td>\n",
       "      <td>0.583276</td>\n",
       "      <td>-0.269209</td>\n",
       "      <td>-0.456108</td>\n",
       "      <td>-0.183659</td>\n",
       "      <td>-0.328168</td>\n",
       "      <td>0.606116</td>\n",
       "      <td>0.884876</td>\n",
       "      <td>-0.253700</td>\n",
       "      <td>245.00</td>\n",
       "      <td>1</td>\n",
       "    </tr>\n",
       "    <tr>\n",
       "      <th>281674</th>\n",
       "      <td>170348.0</td>\n",
       "      <td>1.991976</td>\n",
       "      <td>0.158476</td>\n",
       "      <td>-2.583441</td>\n",
       "      <td>0.408670</td>\n",
       "      <td>1.151147</td>\n",
       "      <td>-0.096695</td>\n",
       "      <td>0.223050</td>\n",
       "      <td>-0.068384</td>\n",
       "      <td>0.577829</td>\n",
       "      <td>...</td>\n",
       "      <td>-0.164350</td>\n",
       "      <td>-0.295135</td>\n",
       "      <td>-0.072173</td>\n",
       "      <td>-0.450261</td>\n",
       "      <td>0.313267</td>\n",
       "      <td>-0.289617</td>\n",
       "      <td>0.002988</td>\n",
       "      <td>-0.015309</td>\n",
       "      <td>42.53</td>\n",
       "      <td>1</td>\n",
       "    </tr>\n",
       "  </tbody>\n",
       "</table>\n",
       "<p>5 rows × 31 columns</p>\n",
       "</div>"
      ],
      "text/plain": [
       "            Time        V1        V2        V3        V4        V5        V6  \\\n",
       "279863  169142.0 -1.927883  1.125653 -4.518331  1.749293 -1.566487 -2.010494   \n",
       "280143  169347.0  1.378559  1.289381 -5.004247  1.411850  0.442581 -1.326536   \n",
       "280149  169351.0 -0.676143  1.126366 -2.213700  0.468308 -1.120541 -0.003346   \n",
       "281144  169966.0 -3.113832  0.585864 -5.399730  1.817092 -0.840618 -2.943548   \n",
       "281674  170348.0  1.991976  0.158476 -2.583441  0.408670  1.151147 -0.096695   \n",
       "\n",
       "              V7        V8        V9  ...       V21       V22       V23  \\\n",
       "279863 -0.882850  0.697211 -2.064945  ...  0.778584 -0.319189  0.639419   \n",
       "280143 -1.413170  0.248525 -1.127396  ...  0.370612  0.028234 -0.145640   \n",
       "280149 -2.234739  1.210158 -0.652250  ...  0.751826  0.834108  0.190944   \n",
       "281144 -2.208002  1.058733 -1.632333  ...  0.583276 -0.269209 -0.456108   \n",
       "281674  0.223050 -0.068384  0.577829  ... -0.164350 -0.295135 -0.072173   \n",
       "\n",
       "             V24       V25       V26       V27       V28  Amount  Class  \n",
       "279863 -0.294885  0.537503  0.788395  0.292680  0.147968  390.00      1  \n",
       "280143 -0.081049  0.521875  0.739467  0.389152  0.186637    0.76      1  \n",
       "280149  0.032070 -0.739695  0.471111  0.385107  0.194361   77.89      1  \n",
       "281144 -0.183659 -0.328168  0.606116  0.884876 -0.253700  245.00      1  \n",
       "281674 -0.450261  0.313267 -0.289617  0.002988 -0.015309   42.53      1  \n",
       "\n",
       "[5 rows x 31 columns]"
      ]
     },
     "execution_count": 13,
     "metadata": {},
     "output_type": "execute_result"
    }
   ],
   "source": [
    "new_dataset.tail()"
   ]
  },
  {
   "cell_type": "code",
   "execution_count": 14,
   "id": "01681bfe-411b-4328-be1c-7922d257123d",
   "metadata": {},
   "outputs": [
    {
     "data": {
      "text/plain": [
       "Class\n",
       "0    492\n",
       "1    492\n",
       "Name: count, dtype: int64"
      ]
     },
     "execution_count": 14,
     "metadata": {},
     "output_type": "execute_result"
    }
   ],
   "source": [
    "new_dataset['Class'].value_counts()"
   ]
  },
  {
   "cell_type": "code",
   "execution_count": 15,
   "id": "b714409d-6e2a-4174-be1f-dc6d535a4e23",
   "metadata": {},
   "outputs": [
    {
     "data": {
      "text/html": [
       "<div>\n",
       "<style scoped>\n",
       "    .dataframe tbody tr th:only-of-type {\n",
       "        vertical-align: middle;\n",
       "    }\n",
       "\n",
       "    .dataframe tbody tr th {\n",
       "        vertical-align: top;\n",
       "    }\n",
       "\n",
       "    .dataframe thead th {\n",
       "        text-align: right;\n",
       "    }\n",
       "</style>\n",
       "<table border=\"1\" class=\"dataframe\">\n",
       "  <thead>\n",
       "    <tr style=\"text-align: right;\">\n",
       "      <th></th>\n",
       "      <th>Time</th>\n",
       "      <th>V1</th>\n",
       "      <th>V2</th>\n",
       "      <th>V3</th>\n",
       "      <th>V4</th>\n",
       "      <th>V5</th>\n",
       "      <th>V6</th>\n",
       "      <th>V7</th>\n",
       "      <th>V8</th>\n",
       "      <th>V9</th>\n",
       "      <th>...</th>\n",
       "      <th>V20</th>\n",
       "      <th>V21</th>\n",
       "      <th>V22</th>\n",
       "      <th>V23</th>\n",
       "      <th>V24</th>\n",
       "      <th>V25</th>\n",
       "      <th>V26</th>\n",
       "      <th>V27</th>\n",
       "      <th>V28</th>\n",
       "      <th>Amount</th>\n",
       "    </tr>\n",
       "    <tr>\n",
       "      <th>Class</th>\n",
       "      <th></th>\n",
       "      <th></th>\n",
       "      <th></th>\n",
       "      <th></th>\n",
       "      <th></th>\n",
       "      <th></th>\n",
       "      <th></th>\n",
       "      <th></th>\n",
       "      <th></th>\n",
       "      <th></th>\n",
       "      <th></th>\n",
       "      <th></th>\n",
       "      <th></th>\n",
       "      <th></th>\n",
       "      <th></th>\n",
       "      <th></th>\n",
       "      <th></th>\n",
       "      <th></th>\n",
       "      <th></th>\n",
       "      <th></th>\n",
       "      <th></th>\n",
       "    </tr>\n",
       "  </thead>\n",
       "  <tbody>\n",
       "    <tr>\n",
       "      <th>0</th>\n",
       "      <td>94854.180894</td>\n",
       "      <td>-0.074303</td>\n",
       "      <td>0.053578</td>\n",
       "      <td>0.054788</td>\n",
       "      <td>-0.075796</td>\n",
       "      <td>0.058703</td>\n",
       "      <td>-0.061318</td>\n",
       "      <td>0.042396</td>\n",
       "      <td>-0.026805</td>\n",
       "      <td>0.021337</td>\n",
       "      <td>...</td>\n",
       "      <td>0.020952</td>\n",
       "      <td>0.007800</td>\n",
       "      <td>0.005683</td>\n",
       "      <td>-0.004604</td>\n",
       "      <td>0.019516</td>\n",
       "      <td>-0.001085</td>\n",
       "      <td>-0.019943</td>\n",
       "      <td>-0.042728</td>\n",
       "      <td>0.006668</td>\n",
       "      <td>81.376809</td>\n",
       "    </tr>\n",
       "    <tr>\n",
       "      <th>1</th>\n",
       "      <td>80746.806911</td>\n",
       "      <td>-4.771948</td>\n",
       "      <td>3.623778</td>\n",
       "      <td>-7.033281</td>\n",
       "      <td>4.542029</td>\n",
       "      <td>-3.151225</td>\n",
       "      <td>-1.397737</td>\n",
       "      <td>-5.568731</td>\n",
       "      <td>0.570636</td>\n",
       "      <td>-2.581123</td>\n",
       "      <td>...</td>\n",
       "      <td>0.372319</td>\n",
       "      <td>0.713588</td>\n",
       "      <td>0.014049</td>\n",
       "      <td>-0.040308</td>\n",
       "      <td>-0.105130</td>\n",
       "      <td>0.041449</td>\n",
       "      <td>0.051648</td>\n",
       "      <td>0.170575</td>\n",
       "      <td>0.075667</td>\n",
       "      <td>122.211321</td>\n",
       "    </tr>\n",
       "  </tbody>\n",
       "</table>\n",
       "<p>2 rows × 30 columns</p>\n",
       "</div>"
      ],
      "text/plain": [
       "               Time        V1        V2        V3        V4        V5  \\\n",
       "Class                                                                   \n",
       "0      94854.180894 -0.074303  0.053578  0.054788 -0.075796  0.058703   \n",
       "1      80746.806911 -4.771948  3.623778 -7.033281  4.542029 -3.151225   \n",
       "\n",
       "             V6        V7        V8        V9  ...       V20       V21  \\\n",
       "Class                                          ...                       \n",
       "0     -0.061318  0.042396 -0.026805  0.021337  ...  0.020952  0.007800   \n",
       "1     -1.397737 -5.568731  0.570636 -2.581123  ...  0.372319  0.713588   \n",
       "\n",
       "            V22       V23       V24       V25       V26       V27       V28  \\\n",
       "Class                                                                         \n",
       "0      0.005683 -0.004604  0.019516 -0.001085 -0.019943 -0.042728  0.006668   \n",
       "1      0.014049 -0.040308 -0.105130  0.041449  0.051648  0.170575  0.075667   \n",
       "\n",
       "           Amount  \n",
       "Class              \n",
       "0       81.376809  \n",
       "1      122.211321  \n",
       "\n",
       "[2 rows x 30 columns]"
      ]
     },
     "execution_count": 15,
     "metadata": {},
     "output_type": "execute_result"
    }
   ],
   "source": [
    "new_dataset.groupby('Class').mean()"
   ]
  },
  {
   "cell_type": "code",
   "execution_count": 16,
   "id": "eeee8e07-3cab-4c60-b611-559bc1df21cb",
   "metadata": {},
   "outputs": [],
   "source": [
    "X = new_dataset.drop(columns='Class', axis=1)\n",
    "Y = new_dataset['Class']"
   ]
  },
  {
   "cell_type": "code",
   "execution_count": 17,
   "id": "d4768851-b8fe-4762-be88-d1fff1c06e64",
   "metadata": {},
   "outputs": [
    {
     "name": "stdout",
     "output_type": "stream",
     "text": [
      "            Time        V1        V2        V3        V4        V5        V6  \\\n",
      "263195  160838.0 -0.591688  1.395461 -1.489262 -1.344684  1.143935 -0.922462   \n",
      "188752  128110.0 -0.581118  0.749191  0.898029 -0.353156 -0.185522  0.011618   \n",
      "43676    41605.0 -2.124575  0.062763  1.241179  0.314861 -1.429539 -0.257928   \n",
      "214711  139787.0  1.986759  0.364342 -1.983235  0.825300  0.486309 -1.213791   \n",
      "161276  114048.0  1.821881 -1.166296 -1.129420 -2.331391 -0.131292  0.770597   \n",
      "...          ...       ...       ...       ...       ...       ...       ...   \n",
      "279863  169142.0 -1.927883  1.125653 -4.518331  1.749293 -1.566487 -2.010494   \n",
      "280143  169347.0  1.378559  1.289381 -5.004247  1.411850  0.442581 -1.326536   \n",
      "280149  169351.0 -0.676143  1.126366 -2.213700  0.468308 -1.120541 -0.003346   \n",
      "281144  169966.0 -3.113832  0.585864 -5.399730  1.817092 -0.840618 -2.943548   \n",
      "281674  170348.0  1.991976  0.158476 -2.583441  0.408670  1.151147 -0.096695   \n",
      "\n",
      "              V7        V8        V9  ...       V20       V21       V22  \\\n",
      "263195  1.116318  0.247789 -0.483290  ... -0.070063  0.268070  0.802182   \n",
      "188752  0.008770  0.453284  0.300921  ... -0.073607  0.359343  1.108073   \n",
      "43676  -0.601996  0.986393 -0.087686  ... -0.344862  0.347357  0.730357   \n",
      "214711  0.356031 -0.326508  0.668951  ... -0.093417 -0.134394 -0.097017   \n",
      "161276 -0.782615  0.329256  2.277250  ... -0.094380  0.377210  1.336712   \n",
      "...          ...       ...       ...  ...       ...       ...       ...   \n",
      "279863 -0.882850  0.697211 -2.064945  ...  1.252967  0.778584 -0.319189   \n",
      "280143 -1.413170  0.248525 -1.127396  ...  0.226138  0.370612  0.028234   \n",
      "280149 -2.234739  1.210158 -0.652250  ...  0.247968  0.751826  0.834108   \n",
      "281144 -2.208002  1.058733 -1.632333  ...  0.306271  0.583276 -0.269209   \n",
      "281674  0.223050 -0.068384  0.577829  ... -0.017652 -0.164350 -0.295135   \n",
      "\n",
      "             V23       V24       V25       V26       V27       V28  Amount  \n",
      "263195 -0.206771  0.374159 -0.228419  0.067829  0.362237  0.254638    0.77  \n",
      "188752 -0.270501 -0.598421 -0.138204 -0.083305  0.082787  0.106116   28.63  \n",
      "43676  -0.070482  0.600373 -0.481780  0.470592 -0.275938 -0.166828   88.00  \n",
      "214711  0.128424  1.006687  0.184443 -0.357259  0.016748  0.005593   17.00  \n",
      "161276  0.006957 -1.580412 -0.131261 -0.640887  0.114103 -0.051202   72.38  \n",
      "...          ...       ...       ...       ...       ...       ...     ...  \n",
      "279863  0.639419 -0.294885  0.537503  0.788395  0.292680  0.147968  390.00  \n",
      "280143 -0.145640 -0.081049  0.521875  0.739467  0.389152  0.186637    0.76  \n",
      "280149  0.190944  0.032070 -0.739695  0.471111  0.385107  0.194361   77.89  \n",
      "281144 -0.456108 -0.183659 -0.328168  0.606116  0.884876 -0.253700  245.00  \n",
      "281674 -0.072173 -0.450261  0.313267 -0.289617  0.002988 -0.015309   42.53  \n",
      "\n",
      "[984 rows x 30 columns]\n"
     ]
    }
   ],
   "source": [
    "print(X)"
   ]
  },
  {
   "cell_type": "code",
   "execution_count": 18,
   "id": "1b33a505-b559-4a2f-8b56-8f9ee6285b90",
   "metadata": {},
   "outputs": [
    {
     "name": "stdout",
     "output_type": "stream",
     "text": [
      "263195    0\n",
      "188752    0\n",
      "43676     0\n",
      "214711    0\n",
      "161276    0\n",
      "         ..\n",
      "279863    1\n",
      "280143    1\n",
      "280149    1\n",
      "281144    1\n",
      "281674    1\n",
      "Name: Class, Length: 984, dtype: int64\n"
     ]
    }
   ],
   "source": [
    "print(Y)"
   ]
  },
  {
   "cell_type": "code",
   "execution_count": 19,
   "id": "a8e090dc-2422-4766-8d33-f39a816a69e6",
   "metadata": {},
   "outputs": [],
   "source": [
    "X_train, X_test, Y_train, Y_test = train_test_split(X, Y, test_size=0.2, stratify=Y, random_state=2)"
   ]
  },
  {
   "cell_type": "code",
   "execution_count": 20,
   "id": "305f2cb7-4f3a-4a92-b6a2-c288f9e8b9ad",
   "metadata": {},
   "outputs": [
    {
     "name": "stdout",
     "output_type": "stream",
     "text": [
      "(984, 30) (787, 30) (197, 30)\n"
     ]
    }
   ],
   "source": [
    "print(X.shape, X_train.shape, X_test.shape)"
   ]
  },
  {
   "cell_type": "code",
   "execution_count": 21,
   "id": "3522ae9b-8e5e-4cef-b349-ab05ceb7b619",
   "metadata": {},
   "outputs": [],
   "source": [
    "model = LogisticRegression()"
   ]
  },
  {
   "cell_type": "code",
   "execution_count": 22,
   "id": "eaeb6543-f6ee-4986-ad0d-47fff61481e6",
   "metadata": {},
   "outputs": [
    {
     "data": {
      "text/html": [
       "<style>#sk-container-id-1 {color: black;}#sk-container-id-1 pre{padding: 0;}#sk-container-id-1 div.sk-toggleable {background-color: white;}#sk-container-id-1 label.sk-toggleable__label {cursor: pointer;display: block;width: 100%;margin-bottom: 0;padding: 0.3em;box-sizing: border-box;text-align: center;}#sk-container-id-1 label.sk-toggleable__label-arrow:before {content: \"▸\";float: left;margin-right: 0.25em;color: #696969;}#sk-container-id-1 label.sk-toggleable__label-arrow:hover:before {color: black;}#sk-container-id-1 div.sk-estimator:hover label.sk-toggleable__label-arrow:before {color: black;}#sk-container-id-1 div.sk-toggleable__content {max-height: 0;max-width: 0;overflow: hidden;text-align: left;background-color: #f0f8ff;}#sk-container-id-1 div.sk-toggleable__content pre {margin: 0.2em;color: black;border-radius: 0.25em;background-color: #f0f8ff;}#sk-container-id-1 input.sk-toggleable__control:checked~div.sk-toggleable__content {max-height: 200px;max-width: 100%;overflow: auto;}#sk-container-id-1 input.sk-toggleable__control:checked~label.sk-toggleable__label-arrow:before {content: \"▾\";}#sk-container-id-1 div.sk-estimator input.sk-toggleable__control:checked~label.sk-toggleable__label {background-color: #d4ebff;}#sk-container-id-1 div.sk-label input.sk-toggleable__control:checked~label.sk-toggleable__label {background-color: #d4ebff;}#sk-container-id-1 input.sk-hidden--visually {border: 0;clip: rect(1px 1px 1px 1px);clip: rect(1px, 1px, 1px, 1px);height: 1px;margin: -1px;overflow: hidden;padding: 0;position: absolute;width: 1px;}#sk-container-id-1 div.sk-estimator {font-family: monospace;background-color: #f0f8ff;border: 1px dotted black;border-radius: 0.25em;box-sizing: border-box;margin-bottom: 0.5em;}#sk-container-id-1 div.sk-estimator:hover {background-color: #d4ebff;}#sk-container-id-1 div.sk-parallel-item::after {content: \"\";width: 100%;border-bottom: 1px solid gray;flex-grow: 1;}#sk-container-id-1 div.sk-label:hover label.sk-toggleable__label {background-color: #d4ebff;}#sk-container-id-1 div.sk-serial::before {content: \"\";position: absolute;border-left: 1px solid gray;box-sizing: border-box;top: 0;bottom: 0;left: 50%;z-index: 0;}#sk-container-id-1 div.sk-serial {display: flex;flex-direction: column;align-items: center;background-color: white;padding-right: 0.2em;padding-left: 0.2em;position: relative;}#sk-container-id-1 div.sk-item {position: relative;z-index: 1;}#sk-container-id-1 div.sk-parallel {display: flex;align-items: stretch;justify-content: center;background-color: white;position: relative;}#sk-container-id-1 div.sk-item::before, #sk-container-id-1 div.sk-parallel-item::before {content: \"\";position: absolute;border-left: 1px solid gray;box-sizing: border-box;top: 0;bottom: 0;left: 50%;z-index: -1;}#sk-container-id-1 div.sk-parallel-item {display: flex;flex-direction: column;z-index: 1;position: relative;background-color: white;}#sk-container-id-1 div.sk-parallel-item:first-child::after {align-self: flex-end;width: 50%;}#sk-container-id-1 div.sk-parallel-item:last-child::after {align-self: flex-start;width: 50%;}#sk-container-id-1 div.sk-parallel-item:only-child::after {width: 0;}#sk-container-id-1 div.sk-dashed-wrapped {border: 1px dashed gray;margin: 0 0.4em 0.5em 0.4em;box-sizing: border-box;padding-bottom: 0.4em;background-color: white;}#sk-container-id-1 div.sk-label label {font-family: monospace;font-weight: bold;display: inline-block;line-height: 1.2em;}#sk-container-id-1 div.sk-label-container {text-align: center;}#sk-container-id-1 div.sk-container {/* jupyter's `normalize.less` sets `[hidden] { display: none; }` but bootstrap.min.css set `[hidden] { display: none !important; }` so we also need the `!important` here to be able to override the default hidden behavior on the sphinx rendered scikit-learn.org. See: https://github.com/scikit-learn/scikit-learn/issues/21755 */display: inline-block !important;position: relative;}#sk-container-id-1 div.sk-text-repr-fallback {display: none;}</style><div id=\"sk-container-id-1\" class=\"sk-top-container\"><div class=\"sk-text-repr-fallback\"><pre>LogisticRegression()</pre><b>In a Jupyter environment, please rerun this cell to show the HTML representation or trust the notebook. <br />On GitHub, the HTML representation is unable to render, please try loading this page with nbviewer.org.</b></div><div class=\"sk-container\" hidden><div class=\"sk-item\"><div class=\"sk-estimator sk-toggleable\"><input class=\"sk-toggleable__control sk-hidden--visually\" id=\"sk-estimator-id-1\" type=\"checkbox\" checked><label for=\"sk-estimator-id-1\" class=\"sk-toggleable__label sk-toggleable__label-arrow\">LogisticRegression</label><div class=\"sk-toggleable__content\"><pre>LogisticRegression()</pre></div></div></div></div></div>"
      ],
      "text/plain": [
       "LogisticRegression()"
      ]
     },
     "execution_count": 22,
     "metadata": {},
     "output_type": "execute_result"
    }
   ],
   "source": [
    "# training the Logistic Regression Model with Training Data\n",
    "model.fit(X_train, Y_train)"
   ]
  },
  {
   "cell_type": "code",
   "execution_count": 23,
   "id": "a5162dd2-16e6-4454-af23-6371a43b1315",
   "metadata": {},
   "outputs": [
    {
     "data": {
      "text/html": [
       "<style>#sk-container-id-2 {color: black;}#sk-container-id-2 pre{padding: 0;}#sk-container-id-2 div.sk-toggleable {background-color: white;}#sk-container-id-2 label.sk-toggleable__label {cursor: pointer;display: block;width: 100%;margin-bottom: 0;padding: 0.3em;box-sizing: border-box;text-align: center;}#sk-container-id-2 label.sk-toggleable__label-arrow:before {content: \"▸\";float: left;margin-right: 0.25em;color: #696969;}#sk-container-id-2 label.sk-toggleable__label-arrow:hover:before {color: black;}#sk-container-id-2 div.sk-estimator:hover label.sk-toggleable__label-arrow:before {color: black;}#sk-container-id-2 div.sk-toggleable__content {max-height: 0;max-width: 0;overflow: hidden;text-align: left;background-color: #f0f8ff;}#sk-container-id-2 div.sk-toggleable__content pre {margin: 0.2em;color: black;border-radius: 0.25em;background-color: #f0f8ff;}#sk-container-id-2 input.sk-toggleable__control:checked~div.sk-toggleable__content {max-height: 200px;max-width: 100%;overflow: auto;}#sk-container-id-2 input.sk-toggleable__control:checked~label.sk-toggleable__label-arrow:before {content: \"▾\";}#sk-container-id-2 div.sk-estimator input.sk-toggleable__control:checked~label.sk-toggleable__label {background-color: #d4ebff;}#sk-container-id-2 div.sk-label input.sk-toggleable__control:checked~label.sk-toggleable__label {background-color: #d4ebff;}#sk-container-id-2 input.sk-hidden--visually {border: 0;clip: rect(1px 1px 1px 1px);clip: rect(1px, 1px, 1px, 1px);height: 1px;margin: -1px;overflow: hidden;padding: 0;position: absolute;width: 1px;}#sk-container-id-2 div.sk-estimator {font-family: monospace;background-color: #f0f8ff;border: 1px dotted black;border-radius: 0.25em;box-sizing: border-box;margin-bottom: 0.5em;}#sk-container-id-2 div.sk-estimator:hover {background-color: #d4ebff;}#sk-container-id-2 div.sk-parallel-item::after {content: \"\";width: 100%;border-bottom: 1px solid gray;flex-grow: 1;}#sk-container-id-2 div.sk-label:hover label.sk-toggleable__label {background-color: #d4ebff;}#sk-container-id-2 div.sk-serial::before {content: \"\";position: absolute;border-left: 1px solid gray;box-sizing: border-box;top: 0;bottom: 0;left: 50%;z-index: 0;}#sk-container-id-2 div.sk-serial {display: flex;flex-direction: column;align-items: center;background-color: white;padding-right: 0.2em;padding-left: 0.2em;position: relative;}#sk-container-id-2 div.sk-item {position: relative;z-index: 1;}#sk-container-id-2 div.sk-parallel {display: flex;align-items: stretch;justify-content: center;background-color: white;position: relative;}#sk-container-id-2 div.sk-item::before, #sk-container-id-2 div.sk-parallel-item::before {content: \"\";position: absolute;border-left: 1px solid gray;box-sizing: border-box;top: 0;bottom: 0;left: 50%;z-index: -1;}#sk-container-id-2 div.sk-parallel-item {display: flex;flex-direction: column;z-index: 1;position: relative;background-color: white;}#sk-container-id-2 div.sk-parallel-item:first-child::after {align-self: flex-end;width: 50%;}#sk-container-id-2 div.sk-parallel-item:last-child::after {align-self: flex-start;width: 50%;}#sk-container-id-2 div.sk-parallel-item:only-child::after {width: 0;}#sk-container-id-2 div.sk-dashed-wrapped {border: 1px dashed gray;margin: 0 0.4em 0.5em 0.4em;box-sizing: border-box;padding-bottom: 0.4em;background-color: white;}#sk-container-id-2 div.sk-label label {font-family: monospace;font-weight: bold;display: inline-block;line-height: 1.2em;}#sk-container-id-2 div.sk-label-container {text-align: center;}#sk-container-id-2 div.sk-container {/* jupyter's `normalize.less` sets `[hidden] { display: none; }` but bootstrap.min.css set `[hidden] { display: none !important; }` so we also need the `!important` here to be able to override the default hidden behavior on the sphinx rendered scikit-learn.org. See: https://github.com/scikit-learn/scikit-learn/issues/21755 */display: inline-block !important;position: relative;}#sk-container-id-2 div.sk-text-repr-fallback {display: none;}</style><div id=\"sk-container-id-2\" class=\"sk-top-container\"><div class=\"sk-text-repr-fallback\"><pre>LogisticRegression()</pre><b>In a Jupyter environment, please rerun this cell to show the HTML representation or trust the notebook. <br />On GitHub, the HTML representation is unable to render, please try loading this page with nbviewer.org.</b></div><div class=\"sk-container\" hidden><div class=\"sk-item\"><div class=\"sk-estimator sk-toggleable\"><input class=\"sk-toggleable__control sk-hidden--visually\" id=\"sk-estimator-id-2\" type=\"checkbox\" checked><label for=\"sk-estimator-id-2\" class=\"sk-toggleable__label sk-toggleable__label-arrow\">LogisticRegression</label><div class=\"sk-toggleable__content\"><pre>LogisticRegression()</pre></div></div></div></div></div>"
      ],
      "text/plain": [
       "LogisticRegression()"
      ]
     },
     "execution_count": 23,
     "metadata": {},
     "output_type": "execute_result"
    }
   ],
   "source": [
    "LogisticRegression(C=1.0, class_weight=None, dual=False, fit_intercept=True,\n",
    "                   intercept_scaling=1, l1_ratio=None, max_iter=100,\n",
    "                   multi_class='auto', n_jobs=None, penalty='l2',\n",
    "                   random_state=None, solver='lbfgs', tol=0.0001, verbose=0,\n",
    "                   warm_start=False)"
   ]
  },
  {
   "cell_type": "code",
   "execution_count": 24,
   "id": "c9fd29a9-2862-4953-b022-00a2d334e89e",
   "metadata": {},
   "outputs": [],
   "source": [
    "# accuracy on training data\n",
    "X_train_prediction = model.predict(X_train)\n",
    "training_data_accuracy = accuracy_score(X_train_prediction, Y_train)"
   ]
  },
  {
   "cell_type": "code",
   "execution_count": 25,
   "id": "07d4f1c2-4981-44f3-9a16-52af6ea4d6be",
   "metadata": {},
   "outputs": [
    {
     "name": "stdout",
     "output_type": "stream",
     "text": [
      "Accuracy on Training data :  0.9364675984752223\n"
     ]
    }
   ],
   "source": [
    "print('Accuracy on Training data : ', training_data_accuracy)"
   ]
  },
  {
   "cell_type": "code",
   "execution_count": 26,
   "id": "7c6816dd-9450-4198-aa9b-cf8f9af36197",
   "metadata": {},
   "outputs": [],
   "source": [
    "# accuracy on test data\n",
    "X_test_prediction = model.predict(X_test)\n",
    "test_data_accuracy = accuracy_score(X_test_prediction, Y_test)"
   ]
  },
  {
   "cell_type": "code",
   "execution_count": 27,
   "id": "8ebef3b1-7fe5-4308-9cd1-3cc51af25253",
   "metadata": {},
   "outputs": [
    {
     "name": "stdout",
     "output_type": "stream",
     "text": [
      "Accuracy score on Test Data :  0.9238578680203046\n"
     ]
    }
   ],
   "source": [
    "print('Accuracy score on Test Data : ', test_data_accuracy)"
   ]
  },
  {
   "cell_type": "markdown",
   "id": "7637a6b0-8159-4ed6-aa11-ed8b4f9753da",
   "metadata": {},
   "source": [
    "**Second  type of running...**"
   ]
  },
  {
   "cell_type": "code",
   "execution_count": 28,
   "id": "54f6de96-babf-4689-8ff6-8cd0b1d3229c",
   "metadata": {},
   "outputs": [],
   "source": [
    "# Data preprocessing\n",
    "scaler = StandardScaler()\n",
    "credit_card_data['Amount'] = scaler.fit_transform(credit_card_data['Amount'].values.reshape(-1, 1))"
   ]
  },
  {
   "cell_type": "code",
   "execution_count": 29,
   "id": "a78c7c87-8f60-4a83-b6d1-5b38ea8de6b6",
   "metadata": {},
   "outputs": [],
   "source": [
    "from sklearn.impute import SimpleImputer\n",
    "\n",
    "# Impute missing values in the features\n",
    "imputer = SimpleImputer(strategy='mean')\n",
    "X_train_imputed = imputer.fit_transform(X_train)\n",
    "X_test_imputed = imputer.transform(X_test) "
   ]
  },
  {
   "cell_type": "code",
   "execution_count": 30,
   "id": "51dfcdb9-7022-42aa-9da9-06afb1778f59",
   "metadata": {},
   "outputs": [],
   "source": [
    "# Scale the features\n",
    "scaler = StandardScaler()\n",
    "X_train_scaled = scaler.fit_transform(X_train_imputed)\n",
    "X_test_scaled = scaler.transform(X_test_imputed)"
   ]
  },
  {
   "cell_type": "code",
   "execution_count": 31,
   "id": "de2b228a-7c04-4b09-8327-6c72b27319e9",
   "metadata": {},
   "outputs": [],
   "source": [
    "# Impute or remove NaN values in y_train\n",
    "y_train_imputed = Y_train.fillna(Y_train.mean())"
   ]
  },
  {
   "cell_type": "code",
   "execution_count": 32,
   "id": "aebb4c8f-7ce9-4f37-997d-156a73de3489",
   "metadata": {},
   "outputs": [
    {
     "name": "stdout",
     "output_type": "stream",
     "text": [
      "Number of NaN values in X_train_scaled: 0\n",
      "Number of NaN values in X_test_scaled: 0\n"
     ]
    }
   ],
   "source": [
    "print(\"Number of NaN values in X_train_scaled:\", np.isnan(X_train_scaled).sum())\n",
    "print(\"Number of NaN values in X_test_scaled:\", np.isnan(X_test_scaled).sum())"
   ]
  },
  {
   "cell_type": "code",
   "execution_count": 33,
   "id": "5a20597f-0b58-4dd3-a64b-af046c803197",
   "metadata": {},
   "outputs": [],
   "source": [
    "# Model training and evaluation\n",
    "models = {\n",
    "    'Logistic Regression': LogisticRegression(),\n",
    "    'Random Forest': RandomForestClassifier(),\n",
    "    'Gradient Boosting': GradientBoostingClassifier(),\n",
    "    'Support Vector Machine': SVC(),\n",
    "    'Neural Network': MLPClassifier()\n",
    "}"
   ]
  },
  {
   "cell_type": "code",
   "execution_count": 34,
   "id": "82a369fd-b00e-4fc1-8b7c-1420a4f1d4ae",
   "metadata": {},
   "outputs": [
    {
     "name": "stderr",
     "output_type": "stream",
     "text": [
      "C:\\ProgramData\\anaconda3\\envs\\wf_tf\\lib\\site-packages\\sklearn\\neural_network\\_multilayer_perceptron.py:691: ConvergenceWarning: Stochastic Optimizer: Maximum iterations (200) reached and the optimization hasn't converged yet.\n",
      "  warnings.warn(\n"
     ]
    }
   ],
   "source": [
    "# Convert continuous labels to binary labels\n",
    "threshold = 0.5  # Set a threshold to determine fraud (1) and non-fraud (0)\n",
    "y_train_binary = (y_train_imputed > threshold).astype(int)\n",
    "\n",
    "# Model training and evaluation\n",
    "results = {}\n",
    "for name, model in models.items():\n",
    "    # Fit the model to the training data with binary labels\n",
    "    model.fit(X_train_scaled, y_train_binary)\n",
    "\n",
    "    if isinstance(model, SVC) and not model.probability:\n",
    "        # Use decision_function instead\n",
    "        y_pred_scores = model.decision_function(X_test_scaled)\n",
    "        y_pred_proba = (y_pred_scores - y_pred_scores.min()) / (y_pred_scores.max() - y_pred_scores.min())  # Normalize scores\n",
    "    else:\n",
    "        # Use predict_proba for other models\n",
    "        y_pred_proba = model.predict_proba(X_test_scaled)[:, 1]\n",
    "\n",
    "    y_pred = model.predict(X_test_scaled)\n",
    "    cm = confusion_matrix(Y_test, y_pred)\n",
    "    precision, recall, _ = precision_recall_curve(Y_test, y_pred_proba)\n",
    "    pr_auc = auc(recall, precision)\n",
    "\n",
    "    results[name] = {'confusion_matrix': cm, 'precision_recall_auc': pr_auc}"
   ]
  },
  {
   "cell_type": "code",
   "execution_count": 35,
   "id": "d0eddfdb-0c07-482d-9efd-b008f9af15ac",
   "metadata": {},
   "outputs": [
    {
     "name": "stdout",
     "output_type": "stream",
     "text": [
      "Logistic Regression\n",
      "AUPRC: 0.9836558258571062\n",
      "Confusion Matrix:\n",
      "[[97  2]\n",
      " [11 87]]\n",
      "\n",
      "Random Forest\n",
      "AUPRC: 0.9815230691804524\n",
      "Confusion Matrix:\n",
      "[[96  3]\n",
      " [13 85]]\n",
      "\n",
      "Gradient Boosting\n",
      "AUPRC: 0.9793455494954197\n",
      "Confusion Matrix:\n",
      "[[95  4]\n",
      " [12 86]]\n",
      "\n",
      "Support Vector Machine\n",
      "AUPRC: 0.9827928206930325\n",
      "Confusion Matrix:\n",
      "[[98  1]\n",
      " [14 84]]\n",
      "\n",
      "Neural Network\n",
      "AUPRC: 0.9769144289912413\n",
      "Confusion Matrix:\n",
      "[[96  3]\n",
      " [13 85]]\n",
      "\n"
     ]
    }
   ],
   "source": [
    "# Visualize results\n",
    "for name, result in results.items():\n",
    "    print(name)\n",
    "    print(\"AUPRC:\", result['precision_recall_auc'])\n",
    "    print(\"Confusion Matrix:\")\n",
    "    print(result['confusion_matrix'])\n",
    "    print()"
   ]
  },
  {
   "cell_type": "markdown",
   "id": "a33b3ab0-fead-4be1-8347-a9e788f34f15",
   "metadata": {},
   "source": [
    "To determine the best-performing model, we typically consider both the AUPRC (Area Under the Precision-Recall Curve) and the confusion matrix. In this case, both the Support Vector Machine and Random Forest models have the highest AUPRC values (0.921 and 0.918, respectively). Additionally, both models have relatively low false positive and false negative rates based on their confusion matrices.\n",
    "\n",
    "Therefore, based on the provided information, the Support Vector Machine and Random Forest models appear to perform the best."
   ]
  },
  {
   "cell_type": "markdown",
   "id": "9826a343-b1dd-4acc-ba18-d01aac576741",
   "metadata": {},
   "source": [
    "Let's break down the confusion matrix:\n",
    "\n",
    "True Negative (TN): This indicates the number of instances that are correctly predicted as negative by the model. In a fraud detection scenario, this would represent the number of non-fraudulent transactions correctly identified by the model as non-fraudulent. So, in this case, there are 96 instances correctly predicted as non-fraudulent.\n",
    "\n",
    "False Positive (FP): This indicates the number of instances that are incorrectly predicted as positive by the model. In a fraud detection scenario, this would represent the number of non-fraudulent transactions incorrectly identified by the model as fraudulent. So, in this case, there are 3 instances incorrectly predicted as fraudulent.\n",
    "\n",
    "False Negative (FN): This indicates the number of instances that are incorrectly predicted as negative by the model. In a fraud detection scenario, this would represent the number of fraudulent transactions incorrectly identified by the model as non-fraudulent. So, in this case, there are 11 instances incorrectly predicted as non-fraudulent.\n",
    "\n",
    "True Positive (TP): This indicates the number of instances that are correctly predicted as positive by the model. In a fraud detection scenario, this would represent the number of fraudulent transactions correctly identified by the model as fraudulent. So, in this case, there are 87 instances correctly predicted as fraudulent."
   ]
  },
  {
   "cell_type": "code",
   "execution_count": 36,
   "id": "5ca80b1a-fc34-4b3c-b223-31ac3f1a7773",
   "metadata": {},
   "outputs": [
    {
     "name": "stdout",
     "output_type": "stream",
     "text": [
      "Logistic Regression\n",
      "AUPRC: 0.9836558258571062\n"
     ]
    },
    {
     "data": {
      "image/png": "[encoded data removed]",
      "text/plain": [
       "<Figure size 200x200 with 1 Axes>"
      ]
     },
     "metadata": {},
     "output_type": "display_data"
    },
    {
     "name": "stdout",
     "output_type": "stream",
     "text": [
      "Random Forest\n",
      "AUPRC: 0.9815230691804524\n"
     ]
    },
    {
     "data": {
      "image/png": "[encoded data removed]",
      "text/plain": [
       "<Figure size 200x200 with 1 Axes>"
      ]
     },
     "metadata": {},
     "output_type": "display_data"
    },
    {
     "name": "stdout",
     "output_type": "stream",
     "text": [
      "Gradient Boosting\n",
      "AUPRC: 0.9793455494954197\n"
     ]
    },
    {
     "data": {
      "image/png": "[encoded data removed]",
      "text/plain": [
       "<Figure size 200x200 with 1 Axes>"
      ]
     },
     "metadata": {},
     "output_type": "display_data"
    },
    {
     "name": "stdout",
     "output_type": "stream",
     "text": [
      "Support Vector Machine\n",
      "AUPRC: 0.9827928206930325\n"
     ]
    },
    {
     "data": {
      "image/png": "[encoded data removed]",
      "text/plain": [
       "<Figure size 200x200 with 1 Axes>"
      ]
     },
     "metadata": {},
     "output_type": "display_data"
    },
    {
     "name": "stdout",
     "output_type": "stream",
     "text": [
      "Neural Network\n",
      "AUPRC: 0.9769144289912413\n"
     ]
    },
    {
     "data": {
      "image/png": "[encoded data removed]",
      "text/plain": [
       "<Figure size 200x200 with 1 Axes>"
      ]
     },
     "metadata": {},
     "output_type": "display_data"
    }
   ],
   "source": [
    "\n",
    "# Visualize results\n",
    "for name, result in results.items():\n",
    "    print(name)\n",
    "    print(\"AUPRC:\", result['precision_recall_auc'])\n",
    "    \n",
    "    # Plot confusion matrix\n",
    "    plt.figure(figsize=(2, 2))\n",
    "    sns.heatmap(result['confusion_matrix'], annot=True, fmt='d', cmap='Blues', cbar=False,\n",
    "                #xticklabels=['fraud', 'not_fraud'], yticklabels=['fraud', 'not_fraud']\n",
    "               )\n",
    "    plt.title(f'Confusion Matrix - {name}')\n",
    "    plt.xlabel('predicted')\n",
    "    plt.ylabel('actual')\n",
    "    plt.show()\n"
   ]
  },
  {
   "cell_type": "code",
   "execution_count": null,
   "id": "dee9e995-193e-46a4-925b-f8a0fe18d41b",
   "metadata": {},
   "outputs": [],
   "source": []
  },
  {
   "cell_type": "code",
   "execution_count": 37,
   "id": "b65d23cb-39d6-4261-a354-055f603e7c8a",
   "metadata": {},
   "outputs": [
    {
     "data": {
      "image/png": "[encoded data removed]",
      "text/plain": [
       "<Figure size 600x400 with 1 Axes>"
      ]
     },
     "metadata": {},
     "output_type": "display_data"
    }
   ],
   "source": [
    "plt.figure(figsize=(6, 4))\n",
    "\n",
    "for name, result in results.items():\n",
    "    precision, recall, _ = precision_recall_curve(Y_test, y_pred_proba)\n",
    "    plt.plot(recall, precision, label=f\"{name} (AUPRC = {result['precision_recall_auc']:.2f})\")\n",
    "\n",
    "plt.xlabel('Recall')\n",
    "plt.ylabel('Precision')\n",
    "plt.title('Precision-Recall Curve')\n",
    "plt.legend()\n",
    "plt.grid(True)\n",
    "plt.show()"
   ]
  },
  {
   "cell_type": "code",
   "execution_count": 38,
   "id": "ad4d046f-8a54-46e5-90b6-cc8029d67f0c",
   "metadata": {},
   "outputs": [
    {
     "name": "stdout",
     "output_type": "stream",
     "text": [
      "Model Accuracies:\n",
      "Logistic Regression: 0.9340\n",
      "Random Forest: 0.9188\n",
      "Gradient Boosting: 0.9188\n",
      "Support Vector Machine: 0.9239\n",
      "Neural Network: 0.9188\n"
     ]
    }
   ],
   "source": [
    "from sklearn.metrics import accuracy_score\n",
    "\n",
    "accuracies = {}\n",
    "for name, model in models.items():\n",
    "    y_pred = model.predict(X_test_scaled)\n",
    "    accuracy = accuracy_score(Y_test, y_pred)\n",
    "    accuracies[name] = accuracy\n",
    "\n",
    "print(\"Model Accuracies:\")\n",
    "for name, accuracy in accuracies.items():\n",
    "    print(f\"{name}: {accuracy:.4f}\")"
   ]
  },
  {
   "cell_type": "code",
   "execution_count": 46,
   "id": "04904683-083a-4193-ae8f-fd3c966898cb",
   "metadata": {},
   "outputs": [
    {
     "data": {
      "text/plain": [
       "['Logistic Regression',\n",
       " 'Random Forest',\n",
       " 'Gradient Boosting',\n",
       " 'Support Vector Machine',\n",
       " 'Neural Network']"
      ]
     },
     "execution_count": 46,
     "metadata": {},
     "output_type": "execute_result"
    }
   ],
   "source": [
    "model_names = list(accuracies.keys())\n",
    "model_names"
   ]
  },
  {
   "cell_type": "code",
   "execution_count": 47,
   "id": "e07f6399-a75d-470d-adf9-e49c2d44b425",
   "metadata": {},
   "outputs": [
    {
     "data": {
      "text/plain": [
       "[0.934010152284264,\n",
       " 0.9187817258883249,\n",
       " 0.9187817258883249,\n",
       " 0.9238578680203046,\n",
       " 0.9187817258883249]"
      ]
     },
     "execution_count": 47,
     "metadata": {},
     "output_type": "execute_result"
    }
   ],
   "source": [
    "# Extract model names and accuracy scores\n",
    "accuracy_scores = list(accuracies.values())\n",
    "accuracy_scores"
   ]
  },
  {
   "cell_type": "code",
   "execution_count": 54,
   "id": "92e09c03-6165-4d4a-8e61-75d5ad13402d",
   "metadata": {},
   "outputs": [
    {
     "data": {
      "image/png": "[encoded data removed]",
      "text/plain": [
       "<Figure size 1000x600 with 1 Axes>"
      ]
     },
     "metadata": {},
     "output_type": "display_data"
    }
   ],
   "source": [
    "# Create a bar plot\n",
    "plt.figure(figsize=(10, 6))\n",
    "plt.bar(model_names, accuracy_scores, color='lightgreen')\n",
    "plt.xlabel('Models')\n",
    "plt.ylabel('Accuracy')\n",
    "plt.title('Accuracy of Different Models')\n",
    "plt.ylim(0.9, 0.94)\n",
    "#plt.ylim(0.998, 1)  # Set y-axis limits to better visualize differences\n",
    "plt.xticks(rotation=45)  # Rotate x-axis labels for better readability\n",
    "plt.show()"
   ]
  },
  {
   "cell_type": "code",
   "execution_count": 55,
   "id": "78a1e789-f192-4fa6-8f04-17b6da15745c",
   "metadata": {},
   "outputs": [
    {
     "data": {
      "text/plain": [
       "((787, 30), (197, 30), (787,), (197,))"
      ]
     },
     "execution_count": 55,
     "metadata": {},
     "output_type": "execute_result"
    }
   ],
   "source": [
    "\n",
    "# we will divide the dataset into training and testing dataset\n",
    "X_train,X_test,y_train,y_test=train_test_split(X,Y,test_size=0.2,random_state=99)\n",
    "\n",
    "# check the shape again\n",
    "X_train.shape,X_test.shape,y_train.shape,y_test.shape"
   ]
  },
  {
   "cell_type": "code",
   "execution_count": 56,
   "id": "e5823fc6-b10c-4a80-bd9a-97c43fae2b4b",
   "metadata": {},
   "outputs": [],
   "source": [
    "# scaler\n",
    "scaler=StandardScaler()\n",
    "X_train=scaler.fit_transform(X_train)\n",
    "X_test=scaler.fit_transform(X_test)"
   ]
  },
  {
   "cell_type": "code",
   "execution_count": 57,
   "id": "c167db51-199d-4b38-b652-ec53797cef57",
   "metadata": {},
   "outputs": [
    {
     "data": {
      "text/plain": [
       "(array([[-1.59166988e+00,  5.14385455e-01,  5.39679711e-01, ...,\n",
       "          4.36137169e-01,  7.74158032e-01, -4.31413386e-01],\n",
       "        [ 7.55941500e-01, -1.26285228e+00, -1.26509649e+00, ...,\n",
       "         -5.44702417e+00,  7.35694053e+00,  3.34606751e-01],\n",
       "        [ 1.37827153e+00,  5.74448929e-01,  1.93163965e-01, ...,\n",
       "          6.83534924e-01,  7.33044335e-01, -4.19003004e-01],\n",
       "        ...,\n",
       "        [ 1.30244131e+00,  8.36162015e-01, -4.52722256e-01, ...,\n",
       "         -1.66257139e-01, -2.68297394e-01, -4.35692829e-01],\n",
       "        [-1.27046065e+00,  3.75792803e-01, -4.79484242e-01, ...,\n",
       "         -2.45686485e-01, -3.75740524e-01, -2.21720723e-01],\n",
       "        [-9.04098719e-01,  4.03743115e-01, -4.10763666e-01, ...,\n",
       "          6.73459601e-02, -1.30913360e-03, -4.31413386e-01]]),\n",
       " 8312      1\n",
       " 182128    0\n",
       " 251866    1\n",
       " 249333    0\n",
       " 6870      1\n",
       "          ..\n",
       " 96994     1\n",
       " 282677    0\n",
       " 243224    0\n",
       " 15330     0\n",
       " 50537     1\n",
       " Name: Class, Length: 787, dtype: int64)"
      ]
     },
     "execution_count": 57,
     "metadata": {},
     "output_type": "execute_result"
    }
   ],
   "source": [
    "X_train,y_train"
   ]
  },
  {
   "cell_type": "code",
   "execution_count": 58,
   "id": "58f49344-1d64-4c3a-be3a-7735f334194e",
   "metadata": {},
   "outputs": [],
   "source": [
    "y_train=y_train.to_numpy()\n",
    "y_test=y_test.to_numpy()"
   ]
  },
  {
   "cell_type": "code",
   "execution_count": 59,
   "id": "0ebb0b31-2d80-47fa-822b-00d381e3acf6",
   "metadata": {},
   "outputs": [
    {
     "data": {
      "text/plain": [
       "(787, 30)"
      ]
     },
     "execution_count": 59,
     "metadata": {},
     "output_type": "execute_result"
    }
   ],
   "source": [
    "X_train.shape"
   ]
  },
  {
   "cell_type": "code",
   "execution_count": 60,
   "id": "7c24c741-2aff-476e-99b0-4cac0a578f50",
   "metadata": {},
   "outputs": [
    {
     "data": {
      "text/plain": [
       "((787, 30, 1), (197, 30, 1))"
      ]
     },
     "execution_count": 60,
     "metadata": {},
     "output_type": "execute_result"
    }
   ],
   "source": [
    "X_train=X_train.reshape(X_train.shape[0],X_train.shape[1],1)\n",
    "X_test=X_test.reshape(X_test.shape[0],X_test.shape[1],1)\n",
    "\n",
    "# check the shape again\n",
    "X_train.shape, X_test.shape"
   ]
  },
  {
   "cell_type": "code",
   "execution_count": 61,
   "id": "726fde69-ffd2-49c6-a0a0-e9b9a6e77088",
   "metadata": {},
   "outputs": [],
   "source": [
    "# import the libraries\n",
    "from tensorflow.keras.models import Sequential\n",
    "from tensorflow.keras.layers import Dense,Flatten,Conv1D,BatchNormalization,Dropout"
   ]
  },
  {
   "cell_type": "code",
   "execution_count": 62,
   "id": "0311f1bc-5dc5-4d1b-96a5-9c45e3b25308",
   "metadata": {},
   "outputs": [],
   "source": [
    "# import model\n",
    "model=Sequential()\n",
    "# layers\n",
    "model.add(Conv1D(filters=32, kernel_size=2, activation='relu', input_shape=X_train[0].shape))\n",
    "model.add(BatchNormalization())\n",
    "model.add(Dropout(0.2))\n",
    "\n",
    "model.add(Conv1D(filters=64, kernel_size=2, activation='relu'))\n",
    "model.add(BatchNormalization())\n",
    "model.add(Dropout(0.2))\n",
    "\n",
    "# build ANN\n",
    "model.add(Flatten())\n",
    "model.add(Dense(64, activation='relu'))\n",
    "model.add(Dropout(0.5))\n",
    "model.add(Dense(1, activation='relu'))"
   ]
  },
  {
   "cell_type": "code",
   "execution_count": 63,
   "id": "49258980-1ea5-4f65-a3cc-f2b3a1b046b1",
   "metadata": {},
   "outputs": [
    {
     "name": "stdout",
     "output_type": "stream",
     "text": [
      "Model: \"sequential\"\n",
      "_________________________________________________________________\n",
      " Layer (type)                Output Shape              Param #   \n",
      "=================================================================\n",
      " conv1d (Conv1D)             (None, 29, 32)            96        \n",
      "                                                                 \n",
      " batch_normalization (BatchN  (None, 29, 32)           128       \n",
      " ormalization)                                                   \n",
      "                                                                 \n",
      " dropout (Dropout)           (None, 29, 32)            0         \n",
      "                                                                 \n",
      " conv1d_1 (Conv1D)           (None, 28, 64)            4160      \n",
      "                                                                 \n",
      " batch_normalization_1 (Batc  (None, 28, 64)           256       \n",
      " hNormalization)                                                 \n",
      "                                                                 \n",
      " dropout_1 (Dropout)         (None, 28, 64)            0         \n",
      "                                                                 \n",
      " flatten (Flatten)           (None, 1792)              0         \n",
      "                                                                 \n",
      " dense (Dense)               (None, 64)                114752    \n",
      "                                                                 \n",
      " dropout_2 (Dropout)         (None, 64)                0         \n",
      "                                                                 \n",
      " dense_1 (Dense)             (None, 1)                 65        \n",
      "                                                                 \n",
      "=================================================================\n",
      "Total params: 119,457\n",
      "Trainable params: 119,265\n",
      "Non-trainable params: 192\n",
      "_________________________________________________________________\n"
     ]
    }
   ],
   "source": [
    "# summary\n",
    "model.summary()"
   ]
  },
  {
   "cell_type": "code",
   "execution_count": 64,
   "id": "b6872679-24dd-45f1-ae80-5b0646f902bd",
   "metadata": {},
   "outputs": [],
   "source": [
    "# compile the model\n",
    "model.compile(optimizer='adam', loss='binary_crossentropy', metrics=['accuracy'])"
   ]
  },
  {
   "cell_type": "code",
   "execution_count": 65,
   "id": "8916ff56-831f-4aa3-87e1-f8e67965f601",
   "metadata": {},
   "outputs": [
    {
     "name": "stdout",
     "output_type": "stream",
     "text": [
      "Epoch 1/20\n",
      "25/25 [==============================] - 5s 19ms/step - loss: 2.6007 - accuracy: 0.8030 - val_loss: 2.1153 - val_accuracy: 0.7766\n",
      "Epoch 2/20\n",
      "25/25 [==============================] - 0s 7ms/step - loss: 1.3958 - accuracy: 0.9022 - val_loss: 0.4783 - val_accuracy: 0.9086\n",
      "Epoch 3/20\n",
      "25/25 [==============================] - 0s 7ms/step - loss: 1.2664 - accuracy: 0.9111 - val_loss: 0.8980 - val_accuracy: 0.7411\n",
      "Epoch 4/20\n",
      "25/25 [==============================] - 0s 7ms/step - loss: 1.3633 - accuracy: 0.9047 - val_loss: 1.3146 - val_accuracy: 0.7310\n",
      "Epoch 5/20\n",
      "25/25 [==============================] - 0s 7ms/step - loss: 1.2588 - accuracy: 0.9161 - val_loss: 0.8738 - val_accuracy: 0.8020\n",
      "Epoch 6/20\n",
      "25/25 [==============================] - 0s 7ms/step - loss: 1.1439 - accuracy: 0.9212 - val_loss: 1.5542 - val_accuracy: 0.7766\n",
      "Epoch 7/20\n",
      "25/25 [==============================] - 0s 6ms/step - loss: 1.1806 - accuracy: 0.9199 - val_loss: 1.1817 - val_accuracy: 0.8376\n",
      "Epoch 8/20\n",
      "25/25 [==============================] - 0s 7ms/step - loss: 1.1644 - accuracy: 0.9199 - val_loss: 1.3528 - val_accuracy: 0.8274\n",
      "Epoch 9/20\n",
      "25/25 [==============================] - 0s 7ms/step - loss: 1.0041 - accuracy: 0.9314 - val_loss: 1.0295 - val_accuracy: 0.8883\n",
      "Epoch 10/20\n",
      "25/25 [==============================] - 0s 7ms/step - loss: 1.0637 - accuracy: 0.9276 - val_loss: 1.3926 - val_accuracy: 0.8376\n",
      "Epoch 11/20\n",
      "25/25 [==============================] - 0s 7ms/step - loss: 0.8575 - accuracy: 0.9365 - val_loss: 3.2881 - val_accuracy: 0.7310\n",
      "Epoch 12/20\n",
      "25/25 [==============================] - 0s 7ms/step - loss: 0.9439 - accuracy: 0.9365 - val_loss: 0.7356 - val_accuracy: 0.9137\n",
      "Epoch 13/20\n",
      "25/25 [==============================] - 0s 7ms/step - loss: 1.1278 - accuracy: 0.9225 - val_loss: 1.0974 - val_accuracy: 0.9289\n",
      "Epoch 14/20\n",
      "25/25 [==============================] - 0s 7ms/step - loss: 1.1179 - accuracy: 0.9263 - val_loss: 1.0994 - val_accuracy: 0.9289\n",
      "Epoch 15/20\n",
      "25/25 [==============================] - 0s 7ms/step - loss: 1.0025 - accuracy: 0.9339 - val_loss: 1.0457 - val_accuracy: 0.9289\n",
      "Epoch 16/20\n",
      "25/25 [==============================] - 0s 7ms/step - loss: 1.0018 - accuracy: 0.9339 - val_loss: 1.0302 - val_accuracy: 0.9289\n",
      "Epoch 17/20\n",
      "25/25 [==============================] - 0s 6ms/step - loss: 1.0415 - accuracy: 0.9314 - val_loss: 1.0962 - val_accuracy: 0.9289\n",
      "Epoch 18/20\n",
      "25/25 [==============================] - 0s 7ms/step - loss: 0.9816 - accuracy: 0.9352 - val_loss: 1.0962 - val_accuracy: 0.9289\n",
      "Epoch 19/20\n",
      "25/25 [==============================] - 0s 8ms/step - loss: 1.0062 - accuracy: 0.9314 - val_loss: 0.8692 - val_accuracy: 0.9391\n",
      "Epoch 20/20\n",
      "25/25 [==============================] - 0s 7ms/step - loss: 0.9812 - accuracy: 0.9352 - val_loss: 1.0238 - val_accuracy: 0.9289\n",
      "CPU times: total: 1.39 s\n",
      "Wall time: 7.99 s\n"
     ]
    }
   ],
   "source": [
    "%%time\n",
    "# fitting the model\n",
    "history=model.fit(X_train,y_train,epochs=20,validation_data=(X_test,y_test))"
   ]
  },
  {
   "cell_type": "code",
   "execution_count": 66,
   "id": "4c976c1a-7b86-4e94-b7a4-e80c64f69e7e",
   "metadata": {},
   "outputs": [],
   "source": [
    "# plot\n",
    "def plot_learningcurve(history,epochs):\n",
    "  epoch=range(1,epochs+1)\n",
    "  # accuracy\n",
    "  plt.plot(epoch, history.history['accuracy'])\n",
    "  plt.plot(epoch, history.history['val_accuracy'])\n",
    "  plt.title('Model accuracy')\n",
    "  plt.xlabel('epoch')\n",
    "  plt.ylabel('accuracy')\n",
    "  plt.legend(['train','val'], loc='upper left')\n",
    "  plt.show()\n",
    "\n",
    "  # loss\n",
    "  plt.plot(epoch, history.history['loss'])\n",
    "  plt.plot(epoch, history.history['val_loss'])\n",
    "  plt.title('Model loss')\n",
    "  plt.xlabel('epoch')\n",
    "  plt.ylabel('loss')\n",
    "  plt.legend(['train','val'], loc='upper left')\n",
    "  plt.show()"
   ]
  },
  {
   "cell_type": "code",
   "execution_count": 67,
   "id": "28c52772-6f75-48ee-9a11-8f82d0a4d56c",
   "metadata": {},
   "outputs": [
    {
     "data": {
      "image/png": "[encoded data removed]",
      "text/plain": [
       "<Figure size 640x480 with 1 Axes>"
      ]
     },
     "metadata": {},
     "output_type": "display_data"
    },
    {
     "data": {
      "image/png": "[encoded data removed]",
      "text/plain": [
       "<Figure size 640x480 with 1 Axes>"
      ]
     },
     "metadata": {},
     "output_type": "display_data"
    }
   ],
   "source": [
    "plot_learningcurve(history,20)"
   ]
  },
  {
   "cell_type": "markdown",
   "id": "1c32573d-a42c-4d5f-b2f4-68a0cd551f7a",
   "metadata": {},
   "source": [
    "***Credit Card Fraud Detection with CNN 99% Accuracy***"
   ]
  },
  {
   "cell_type": "code",
   "execution_count": 68,
   "id": "153651d0-4a7e-4998-bc4f-ace9913a01fb",
   "metadata": {},
   "outputs": [
    {
     "data": {
      "text/plain": [
       "(284807, 31)"
      ]
     },
     "execution_count": 68,
     "metadata": {},
     "output_type": "execute_result"
    }
   ],
   "source": [
    "credit_card_data.shape"
   ]
  },
  {
   "cell_type": "code",
   "execution_count": 70,
   "id": "6fdf6fdd-613e-40ed-a7a0-ceb685e17633",
   "metadata": {},
   "outputs": [
    {
     "name": "stdout",
     "output_type": "stream",
     "text": [
      "<class 'pandas.core.frame.DataFrame'>\n",
      "RangeIndex: 284807 entries, 0 to 284806\n",
      "Data columns (total 31 columns):\n",
      " #   Column  Non-Null Count   Dtype  \n",
      "---  ------  --------------   -----  \n",
      " 0   Time    284807 non-null  float64\n",
      " 1   V1      284807 non-null  float64\n",
      " 2   V2      284807 non-null  float64\n",
      " 3   V3      284807 non-null  float64\n",
      " 4   V4      284807 non-null  float64\n",
      " 5   V5      284807 non-null  float64\n",
      " 6   V6      284807 non-null  float64\n",
      " 7   V7      284807 non-null  float64\n",
      " 8   V8      284807 non-null  float64\n",
      " 9   V9      284807 non-null  float64\n",
      " 10  V10     284807 non-null  float64\n",
      " 11  V11     284807 non-null  float64\n",
      " 12  V12     284807 non-null  float64\n",
      " 13  V13     284807 non-null  float64\n",
      " 14  V14     284807 non-null  float64\n",
      " 15  V15     284807 non-null  float64\n",
      " 16  V16     284807 non-null  float64\n",
      " 17  V17     284807 non-null  float64\n",
      " 18  V18     284807 non-null  float64\n",
      " 19  V19     284807 non-null  float64\n",
      " 20  V20     284807 non-null  float64\n",
      " 21  V21     284807 non-null  float64\n",
      " 22  V22     284807 non-null  float64\n",
      " 23  V23     284807 non-null  float64\n",
      " 24  V24     284807 non-null  float64\n",
      " 25  V25     284807 non-null  float64\n",
      " 26  V26     284807 non-null  float64\n",
      " 27  V27     284807 non-null  float64\n",
      " 28  V28     284807 non-null  float64\n",
      " 29  Amount  284807 non-null  float64\n",
      " 30  Class   284807 non-null  int64  \n",
      "dtypes: float64(30), int64(1)\n",
      "memory usage: 67.4 MB\n"
     ]
    },
    {
     "data": {
      "text/plain": [
       "(Time      0\n",
       " V1        0\n",
       " V2        0\n",
       " V3        0\n",
       " V4        0\n",
       " V5        0\n",
       " V6        0\n",
       " V7        0\n",
       " V8        0\n",
       " V9        0\n",
       " V10       0\n",
       " V11       0\n",
       " V12       0\n",
       " V13       0\n",
       " V14       0\n",
       " V15       0\n",
       " V16       0\n",
       " V17       0\n",
       " V18       0\n",
       " V19       0\n",
       " V20       0\n",
       " V21       0\n",
       " V22       0\n",
       " V23       0\n",
       " V24       0\n",
       " V25       0\n",
       " V26       0\n",
       " V27       0\n",
       " V28       0\n",
       " Amount    0\n",
       " Class     0\n",
       " dtype: int64,\n",
       " None)"
      ]
     },
     "execution_count": 70,
     "metadata": {},
     "output_type": "execute_result"
    }
   ],
   "source": [
    "credit_card_data.isnull().sum(), credit_card_data.info()"
   ]
  },
  {
   "cell_type": "code",
   "execution_count": 71,
   "id": "b4ec9c89-9592-48eb-89dc-573ddff644a4",
   "metadata": {},
   "outputs": [
    {
     "data": {
      "text/plain": [
       "array([0, 0, 0, ..., 0, 0, 0], dtype=int64)"
      ]
     },
     "execution_count": 71,
     "metadata": {},
     "output_type": "execute_result"
    }
   ],
   "source": [
    "credit_card_data.Class.values"
   ]
  },
  {
   "cell_type": "code",
   "execution_count": 72,
   "id": "db0ee9ee-e9bc-4b7f-938b-54c63c75da0a",
   "metadata": {},
   "outputs": [
    {
     "data": {
      "text/plain": [
       "Class\n",
       "0    284315\n",
       "1       492\n",
       "Name: count, dtype: int64"
      ]
     },
     "execution_count": 72,
     "metadata": {},
     "output_type": "execute_result"
    }
   ],
   "source": [
    "credit_card_data.Class.value_counts()"
   ]
  },
  {
   "cell_type": "code",
   "execution_count": 78,
   "id": "30decb2f-af26-4c81-be85-fb047f1eadb8",
   "metadata": {},
   "outputs": [
    {
     "data": {
      "image/png": "[encoded data removed]",
      "text/plain": [
       "<Figure size 400x300 with 1 Axes>"
      ]
     },
     "metadata": {},
     "output_type": "display_data"
    }
   ],
   "source": [
    "\n",
    "\n",
    "# Assuming credit_card_data is your DataFrame containing the Class column\n",
    "\n",
    "# Plotting\n",
    "plt.figure(figsize=(4, 3))\n",
    "sns.countplot(x='Class', data=credit_card_data, color='orange')\n",
    "plt.xlabel('Class')\n",
    "plt.ylabel('Count')\n",
    "plt.title('Class Distribution')\n",
    "plt.show()\n"
   ]
  },
  {
   "cell_type": "code",
   "execution_count": 79,
   "id": "2d229a09-2994-4058-9d5d-fa13cd86f10a",
   "metadata": {},
   "outputs": [
    {
     "data": {
      "image/png": "[encoded data removed]",
      "text/plain": [
       "<Figure size 3000x3000 with 36 Axes>"
      ]
     },
     "metadata": {},
     "output_type": "display_data"
    }
   ],
   "source": [
    "credit_card_data.hist(figsize=(30,30))\n",
    "plt.show()\n"
   ]
  },
  {
   "cell_type": "code",
   "execution_count": 80,
   "id": "a6eb6ac9-291d-4dfa-ba19-c851a06921df",
   "metadata": {},
   "outputs": [],
   "source": [
    "fraud = credit_card_data[credit_card_data.Class == 1]"
   ]
  },
  {
   "cell_type": "code",
   "execution_count": 81,
   "id": "01bbd21d-d5aa-4a1c-9aad-7ad8b2698655",
   "metadata": {},
   "outputs": [],
   "source": [
    "non_fraud = credit_card_data[credit_card_data.Class == 0]"
   ]
  },
  {
   "cell_type": "code",
   "execution_count": 83,
   "id": "6c3d75b7-896b-431a-a0e9-55d45262aebf",
   "metadata": {},
   "outputs": [
    {
     "data": {
      "text/html": [
       "<div>\n",
       "<style scoped>\n",
       "    .dataframe tbody tr th:only-of-type {\n",
       "        vertical-align: middle;\n",
       "    }\n",
       "\n",
       "    .dataframe tbody tr th {\n",
       "        vertical-align: top;\n",
       "    }\n",
       "\n",
       "    .dataframe thead th {\n",
       "        text-align: right;\n",
       "    }\n",
       "</style>\n",
       "<table border=\"1\" class=\"dataframe\">\n",
       "  <thead>\n",
       "    <tr style=\"text-align: right;\">\n",
       "      <th></th>\n",
       "      <th>Time</th>\n",
       "      <th>V1</th>\n",
       "      <th>V2</th>\n",
       "      <th>V3</th>\n",
       "      <th>V4</th>\n",
       "      <th>V5</th>\n",
       "      <th>V6</th>\n",
       "      <th>V7</th>\n",
       "      <th>V8</th>\n",
       "      <th>V9</th>\n",
       "      <th>...</th>\n",
       "      <th>V21</th>\n",
       "      <th>V22</th>\n",
       "      <th>V23</th>\n",
       "      <th>V24</th>\n",
       "      <th>V25</th>\n",
       "      <th>V26</th>\n",
       "      <th>V27</th>\n",
       "      <th>V28</th>\n",
       "      <th>Amount</th>\n",
       "      <th>Class</th>\n",
       "    </tr>\n",
       "  </thead>\n",
       "  <tbody>\n",
       "    <tr>\n",
       "      <th>541</th>\n",
       "      <td>406.0</td>\n",
       "      <td>-2.312227</td>\n",
       "      <td>1.951992</td>\n",
       "      <td>-1.609851</td>\n",
       "      <td>3.997906</td>\n",
       "      <td>-0.522188</td>\n",
       "      <td>-1.426545</td>\n",
       "      <td>-2.537387</td>\n",
       "      <td>1.391657</td>\n",
       "      <td>-2.770089</td>\n",
       "      <td>...</td>\n",
       "      <td>0.517232</td>\n",
       "      <td>-0.035049</td>\n",
       "      <td>-0.465211</td>\n",
       "      <td>0.320198</td>\n",
       "      <td>0.044519</td>\n",
       "      <td>0.177840</td>\n",
       "      <td>0.261145</td>\n",
       "      <td>-0.143276</td>\n",
       "      <td>-0.353229</td>\n",
       "      <td>1</td>\n",
       "    </tr>\n",
       "    <tr>\n",
       "      <th>623</th>\n",
       "      <td>472.0</td>\n",
       "      <td>-3.043541</td>\n",
       "      <td>-3.157307</td>\n",
       "      <td>1.088463</td>\n",
       "      <td>2.288644</td>\n",
       "      <td>1.359805</td>\n",
       "      <td>-1.064823</td>\n",
       "      <td>0.325574</td>\n",
       "      <td>-0.067794</td>\n",
       "      <td>-0.270953</td>\n",
       "      <td>...</td>\n",
       "      <td>0.661696</td>\n",
       "      <td>0.435477</td>\n",
       "      <td>1.375966</td>\n",
       "      <td>-0.293803</td>\n",
       "      <td>0.279798</td>\n",
       "      <td>-0.145362</td>\n",
       "      <td>-0.252773</td>\n",
       "      <td>0.035764</td>\n",
       "      <td>1.761758</td>\n",
       "      <td>1</td>\n",
       "    </tr>\n",
       "    <tr>\n",
       "      <th>4920</th>\n",
       "      <td>4462.0</td>\n",
       "      <td>-2.303350</td>\n",
       "      <td>1.759247</td>\n",
       "      <td>-0.359745</td>\n",
       "      <td>2.330243</td>\n",
       "      <td>-0.821628</td>\n",
       "      <td>-0.075788</td>\n",
       "      <td>0.562320</td>\n",
       "      <td>-0.399147</td>\n",
       "      <td>-0.238253</td>\n",
       "      <td>...</td>\n",
       "      <td>-0.294166</td>\n",
       "      <td>-0.932391</td>\n",
       "      <td>0.172726</td>\n",
       "      <td>-0.087330</td>\n",
       "      <td>-0.156114</td>\n",
       "      <td>-0.542628</td>\n",
       "      <td>0.039566</td>\n",
       "      <td>-0.153029</td>\n",
       "      <td>0.606031</td>\n",
       "      <td>1</td>\n",
       "    </tr>\n",
       "    <tr>\n",
       "      <th>6108</th>\n",
       "      <td>6986.0</td>\n",
       "      <td>-4.397974</td>\n",
       "      <td>1.358367</td>\n",
       "      <td>-2.592844</td>\n",
       "      <td>2.679787</td>\n",
       "      <td>-1.128131</td>\n",
       "      <td>-1.706536</td>\n",
       "      <td>-3.496197</td>\n",
       "      <td>-0.248778</td>\n",
       "      <td>-0.247768</td>\n",
       "      <td>...</td>\n",
       "      <td>0.573574</td>\n",
       "      <td>0.176968</td>\n",
       "      <td>-0.436207</td>\n",
       "      <td>-0.053502</td>\n",
       "      <td>0.252405</td>\n",
       "      <td>-0.657488</td>\n",
       "      <td>-0.827136</td>\n",
       "      <td>0.849573</td>\n",
       "      <td>-0.117342</td>\n",
       "      <td>1</td>\n",
       "    </tr>\n",
       "    <tr>\n",
       "      <th>6329</th>\n",
       "      <td>7519.0</td>\n",
       "      <td>1.234235</td>\n",
       "      <td>3.019740</td>\n",
       "      <td>-4.304597</td>\n",
       "      <td>4.732795</td>\n",
       "      <td>3.624201</td>\n",
       "      <td>-1.357746</td>\n",
       "      <td>1.713445</td>\n",
       "      <td>-0.496358</td>\n",
       "      <td>-1.282858</td>\n",
       "      <td>...</td>\n",
       "      <td>-0.379068</td>\n",
       "      <td>-0.704181</td>\n",
       "      <td>-0.656805</td>\n",
       "      <td>-1.632653</td>\n",
       "      <td>1.488901</td>\n",
       "      <td>0.566797</td>\n",
       "      <td>-0.010016</td>\n",
       "      <td>0.146793</td>\n",
       "      <td>-0.349231</td>\n",
       "      <td>1</td>\n",
       "    </tr>\n",
       "    <tr>\n",
       "      <th>...</th>\n",
       "      <td>...</td>\n",
       "      <td>...</td>\n",
       "      <td>...</td>\n",
       "      <td>...</td>\n",
       "      <td>...</td>\n",
       "      <td>...</td>\n",
       "      <td>...</td>\n",
       "      <td>...</td>\n",
       "      <td>...</td>\n",
       "      <td>...</td>\n",
       "      <td>...</td>\n",
       "      <td>...</td>\n",
       "      <td>...</td>\n",
       "      <td>...</td>\n",
       "      <td>...</td>\n",
       "      <td>...</td>\n",
       "      <td>...</td>\n",
       "      <td>...</td>\n",
       "      <td>...</td>\n",
       "      <td>...</td>\n",
       "      <td>...</td>\n",
       "    </tr>\n",
       "    <tr>\n",
       "      <th>279863</th>\n",
       "      <td>169142.0</td>\n",
       "      <td>-1.927883</td>\n",
       "      <td>1.125653</td>\n",
       "      <td>-4.518331</td>\n",
       "      <td>1.749293</td>\n",
       "      <td>-1.566487</td>\n",
       "      <td>-2.010494</td>\n",
       "      <td>-0.882850</td>\n",
       "      <td>0.697211</td>\n",
       "      <td>-2.064945</td>\n",
       "      <td>...</td>\n",
       "      <td>0.778584</td>\n",
       "      <td>-0.319189</td>\n",
       "      <td>0.639419</td>\n",
       "      <td>-0.294885</td>\n",
       "      <td>0.537503</td>\n",
       "      <td>0.788395</td>\n",
       "      <td>0.292680</td>\n",
       "      <td>0.147968</td>\n",
       "      <td>1.206024</td>\n",
       "      <td>1</td>\n",
       "    </tr>\n",
       "    <tr>\n",
       "      <th>280143</th>\n",
       "      <td>169347.0</td>\n",
       "      <td>1.378559</td>\n",
       "      <td>1.289381</td>\n",
       "      <td>-5.004247</td>\n",
       "      <td>1.411850</td>\n",
       "      <td>0.442581</td>\n",
       "      <td>-1.326536</td>\n",
       "      <td>-1.413170</td>\n",
       "      <td>0.248525</td>\n",
       "      <td>-1.127396</td>\n",
       "      <td>...</td>\n",
       "      <td>0.370612</td>\n",
       "      <td>0.028234</td>\n",
       "      <td>-0.145640</td>\n",
       "      <td>-0.081049</td>\n",
       "      <td>0.521875</td>\n",
       "      <td>0.739467</td>\n",
       "      <td>0.389152</td>\n",
       "      <td>0.186637</td>\n",
       "      <td>-0.350191</td>\n",
       "      <td>1</td>\n",
       "    </tr>\n",
       "    <tr>\n",
       "      <th>280149</th>\n",
       "      <td>169351.0</td>\n",
       "      <td>-0.676143</td>\n",
       "      <td>1.126366</td>\n",
       "      <td>-2.213700</td>\n",
       "      <td>0.468308</td>\n",
       "      <td>-1.120541</td>\n",
       "      <td>-0.003346</td>\n",
       "      <td>-2.234739</td>\n",
       "      <td>1.210158</td>\n",
       "      <td>-0.652250</td>\n",
       "      <td>...</td>\n",
       "      <td>0.751826</td>\n",
       "      <td>0.834108</td>\n",
       "      <td>0.190944</td>\n",
       "      <td>0.032070</td>\n",
       "      <td>-0.739695</td>\n",
       "      <td>0.471111</td>\n",
       "      <td>0.385107</td>\n",
       "      <td>0.194361</td>\n",
       "      <td>-0.041818</td>\n",
       "      <td>1</td>\n",
       "    </tr>\n",
       "    <tr>\n",
       "      <th>281144</th>\n",
       "      <td>169966.0</td>\n",
       "      <td>-3.113832</td>\n",
       "      <td>0.585864</td>\n",
       "      <td>-5.399730</td>\n",
       "      <td>1.817092</td>\n",
       "      <td>-0.840618</td>\n",
       "      <td>-2.943548</td>\n",
       "      <td>-2.208002</td>\n",
       "      <td>1.058733</td>\n",
       "      <td>-1.632333</td>\n",
       "      <td>...</td>\n",
       "      <td>0.583276</td>\n",
       "      <td>-0.269209</td>\n",
       "      <td>-0.456108</td>\n",
       "      <td>-0.183659</td>\n",
       "      <td>-0.328168</td>\n",
       "      <td>0.606116</td>\n",
       "      <td>0.884876</td>\n",
       "      <td>-0.253700</td>\n",
       "      <td>0.626302</td>\n",
       "      <td>1</td>\n",
       "    </tr>\n",
       "    <tr>\n",
       "      <th>281674</th>\n",
       "      <td>170348.0</td>\n",
       "      <td>1.991976</td>\n",
       "      <td>0.158476</td>\n",
       "      <td>-2.583441</td>\n",
       "      <td>0.408670</td>\n",
       "      <td>1.151147</td>\n",
       "      <td>-0.096695</td>\n",
       "      <td>0.223050</td>\n",
       "      <td>-0.068384</td>\n",
       "      <td>0.577829</td>\n",
       "      <td>...</td>\n",
       "      <td>-0.164350</td>\n",
       "      <td>-0.295135</td>\n",
       "      <td>-0.072173</td>\n",
       "      <td>-0.450261</td>\n",
       "      <td>0.313267</td>\n",
       "      <td>-0.289617</td>\n",
       "      <td>0.002988</td>\n",
       "      <td>-0.015309</td>\n",
       "      <td>-0.183191</td>\n",
       "      <td>1</td>\n",
       "    </tr>\n",
       "  </tbody>\n",
       "</table>\n",
       "<p>492 rows × 31 columns</p>\n",
       "</div>"
      ],
      "text/plain": [
       "            Time        V1        V2        V3        V4        V5        V6  \\\n",
       "541        406.0 -2.312227  1.951992 -1.609851  3.997906 -0.522188 -1.426545   \n",
       "623        472.0 -3.043541 -3.157307  1.088463  2.288644  1.359805 -1.064823   \n",
       "4920      4462.0 -2.303350  1.759247 -0.359745  2.330243 -0.821628 -0.075788   \n",
       "6108      6986.0 -4.397974  1.358367 -2.592844  2.679787 -1.128131 -1.706536   \n",
       "6329      7519.0  1.234235  3.019740 -4.304597  4.732795  3.624201 -1.357746   \n",
       "...          ...       ...       ...       ...       ...       ...       ...   \n",
       "279863  169142.0 -1.927883  1.125653 -4.518331  1.749293 -1.566487 -2.010494   \n",
       "280143  169347.0  1.378559  1.289381 -5.004247  1.411850  0.442581 -1.326536   \n",
       "280149  169351.0 -0.676143  1.126366 -2.213700  0.468308 -1.120541 -0.003346   \n",
       "281144  169966.0 -3.113832  0.585864 -5.399730  1.817092 -0.840618 -2.943548   \n",
       "281674  170348.0  1.991976  0.158476 -2.583441  0.408670  1.151147 -0.096695   \n",
       "\n",
       "              V7        V8        V9  ...       V21       V22       V23  \\\n",
       "541    -2.537387  1.391657 -2.770089  ...  0.517232 -0.035049 -0.465211   \n",
       "623     0.325574 -0.067794 -0.270953  ...  0.661696  0.435477  1.375966   \n",
       "4920    0.562320 -0.399147 -0.238253  ... -0.294166 -0.932391  0.172726   \n",
       "6108   -3.496197 -0.248778 -0.247768  ...  0.573574  0.176968 -0.436207   \n",
       "6329    1.713445 -0.496358 -1.282858  ... -0.379068 -0.704181 -0.656805   \n",
       "...          ...       ...       ...  ...       ...       ...       ...   \n",
       "279863 -0.882850  0.697211 -2.064945  ...  0.778584 -0.319189  0.639419   \n",
       "280143 -1.413170  0.248525 -1.127396  ...  0.370612  0.028234 -0.145640   \n",
       "280149 -2.234739  1.210158 -0.652250  ...  0.751826  0.834108  0.190944   \n",
       "281144 -2.208002  1.058733 -1.632333  ...  0.583276 -0.269209 -0.456108   \n",
       "281674  0.223050 -0.068384  0.577829  ... -0.164350 -0.295135 -0.072173   \n",
       "\n",
       "             V24       V25       V26       V27       V28    Amount  Class  \n",
       "541     0.320198  0.044519  0.177840  0.261145 -0.143276 -0.353229      1  \n",
       "623    -0.293803  0.279798 -0.145362 -0.252773  0.035764  1.761758      1  \n",
       "4920   -0.087330 -0.156114 -0.542628  0.039566 -0.153029  0.606031      1  \n",
       "6108   -0.053502  0.252405 -0.657488 -0.827136  0.849573 -0.117342      1  \n",
       "6329   -1.632653  1.488901  0.566797 -0.010016  0.146793 -0.349231      1  \n",
       "...          ...       ...       ...       ...       ...       ...    ...  \n",
       "279863 -0.294885  0.537503  0.788395  0.292680  0.147968  1.206024      1  \n",
       "280143 -0.081049  0.521875  0.739467  0.389152  0.186637 -0.350191      1  \n",
       "280149  0.032070 -0.739695  0.471111  0.385107  0.194361 -0.041818      1  \n",
       "281144 -0.183659 -0.328168  0.606116  0.884876 -0.253700  0.626302      1  \n",
       "281674 -0.450261  0.313267 -0.289617  0.002988 -0.015309 -0.183191      1  \n",
       "\n",
       "[492 rows x 31 columns]"
      ]
     },
     "execution_count": 83,
     "metadata": {},
     "output_type": "execute_result"
    }
   ],
   "source": [
    "fraud"
   ]
  },
  {
   "cell_type": "code",
   "execution_count": 85,
   "id": "c3bebc18-f8d7-46d4-aa26-b165af519e08",
   "metadata": {},
   "outputs": [
    {
     "name": "stdout",
     "output_type": "stream",
     "text": [
      "Shape of fraud data: (492, 31)\n",
      "Shape of non-frauds data: (284315, 31)\n"
     ]
    }
   ],
   "source": [
    "print(\"Shape of fraud data:\", fraud.shape)\n",
    "print(\"Shape of non-frauds data:\", non_fraud.shape)"
   ]
  },
  {
   "cell_type": "markdown",
   "id": "cce8c907-d418-4a92-b795-087f27afd154",
   "metadata": {},
   "source": [
    "**Balancing the Dataset**"
   ]
  },
  {
   "cell_type": "code",
   "execution_count": 86,
   "id": "e7acb311-f8f3-4afe-a729-a11789732eab",
   "metadata": {},
   "outputs": [],
   "source": [
    "nan_fraud_balanced = non_fraud.sample(4000)"
   ]
  },
  {
   "cell_type": "code",
   "execution_count": 87,
   "id": "237c473e-4e3f-4ce2-a59a-c1c768d543f8",
   "metadata": {},
   "outputs": [
    {
     "data": {
      "text/html": [
       "<div>\n",
       "<style scoped>\n",
       "    .dataframe tbody tr th:only-of-type {\n",
       "        vertical-align: middle;\n",
       "    }\n",
       "\n",
       "    .dataframe tbody tr th {\n",
       "        vertical-align: top;\n",
       "    }\n",
       "\n",
       "    .dataframe thead th {\n",
       "        text-align: right;\n",
       "    }\n",
       "</style>\n",
       "<table border=\"1\" class=\"dataframe\">\n",
       "  <thead>\n",
       "    <tr style=\"text-align: right;\">\n",
       "      <th></th>\n",
       "      <th>Time</th>\n",
       "      <th>V1</th>\n",
       "      <th>V2</th>\n",
       "      <th>V3</th>\n",
       "      <th>V4</th>\n",
       "      <th>V5</th>\n",
       "      <th>V6</th>\n",
       "      <th>V7</th>\n",
       "      <th>V8</th>\n",
       "      <th>V9</th>\n",
       "      <th>...</th>\n",
       "      <th>V21</th>\n",
       "      <th>V22</th>\n",
       "      <th>V23</th>\n",
       "      <th>V24</th>\n",
       "      <th>V25</th>\n",
       "      <th>V26</th>\n",
       "      <th>V27</th>\n",
       "      <th>V28</th>\n",
       "      <th>Amount</th>\n",
       "      <th>Class</th>\n",
       "    </tr>\n",
       "  </thead>\n",
       "  <tbody>\n",
       "    <tr>\n",
       "      <th>46309</th>\n",
       "      <td>42726.0</td>\n",
       "      <td>0.699689</td>\n",
       "      <td>-0.941045</td>\n",
       "      <td>1.594844</td>\n",
       "      <td>1.899042</td>\n",
       "      <td>-1.325942</td>\n",
       "      <td>1.040024</td>\n",
       "      <td>-0.833724</td>\n",
       "      <td>0.387331</td>\n",
       "      <td>1.617704</td>\n",
       "      <td>...</td>\n",
       "      <td>0.072995</td>\n",
       "      <td>0.367643</td>\n",
       "      <td>-0.231113</td>\n",
       "      <td>0.131303</td>\n",
       "      <td>0.433256</td>\n",
       "      <td>-0.215123</td>\n",
       "      <td>0.094318</td>\n",
       "      <td>0.067511</td>\n",
       "      <td>0.402409</td>\n",
       "      <td>0</td>\n",
       "    </tr>\n",
       "    <tr>\n",
       "      <th>22125</th>\n",
       "      <td>32049.0</td>\n",
       "      <td>-0.352753</td>\n",
       "      <td>-0.505905</td>\n",
       "      <td>0.777811</td>\n",
       "      <td>-4.058765</td>\n",
       "      <td>-0.719717</td>\n",
       "      <td>-0.287478</td>\n",
       "      <td>-0.054924</td>\n",
       "      <td>0.134132</td>\n",
       "      <td>0.900778</td>\n",
       "      <td>...</td>\n",
       "      <td>-0.274380</td>\n",
       "      <td>-0.269197</td>\n",
       "      <td>-0.256945</td>\n",
       "      <td>-0.905589</td>\n",
       "      <td>-0.097144</td>\n",
       "      <td>-0.906312</td>\n",
       "      <td>0.081995</td>\n",
       "      <td>0.125693</td>\n",
       "      <td>-0.202661</td>\n",
       "      <td>0</td>\n",
       "    </tr>\n",
       "    <tr>\n",
       "      <th>65986</th>\n",
       "      <td>51834.0</td>\n",
       "      <td>1.190920</td>\n",
       "      <td>0.247497</td>\n",
       "      <td>0.564973</td>\n",
       "      <td>2.136856</td>\n",
       "      <td>-0.001719</td>\n",
       "      <td>0.660712</td>\n",
       "      <td>-0.441826</td>\n",
       "      <td>0.291968</td>\n",
       "      <td>-0.424790</td>\n",
       "      <td>...</td>\n",
       "      <td>0.103474</td>\n",
       "      <td>0.178527</td>\n",
       "      <td>-0.203011</td>\n",
       "      <td>-0.862840</td>\n",
       "      <td>0.513256</td>\n",
       "      <td>0.155777</td>\n",
       "      <td>-0.002540</td>\n",
       "      <td>0.005935</td>\n",
       "      <td>-0.310650</td>\n",
       "      <td>0</td>\n",
       "    </tr>\n",
       "    <tr>\n",
       "      <th>109142</th>\n",
       "      <td>71239.0</td>\n",
       "      <td>1.237674</td>\n",
       "      <td>-0.579219</td>\n",
       "      <td>0.783164</td>\n",
       "      <td>0.206540</td>\n",
       "      <td>-1.183894</td>\n",
       "      <td>-0.325809</td>\n",
       "      <td>-0.626070</td>\n",
       "      <td>0.042567</td>\n",
       "      <td>-0.442275</td>\n",
       "      <td>...</td>\n",
       "      <td>-0.610668</td>\n",
       "      <td>-1.158261</td>\n",
       "      <td>0.224262</td>\n",
       "      <td>0.367493</td>\n",
       "      <td>0.080931</td>\n",
       "      <td>0.192235</td>\n",
       "      <td>0.020074</td>\n",
       "      <td>0.022990</td>\n",
       "      <td>-0.264392</td>\n",
       "      <td>0</td>\n",
       "    </tr>\n",
       "    <tr>\n",
       "      <th>185983</th>\n",
       "      <td>126905.0</td>\n",
       "      <td>1.948762</td>\n",
       "      <td>-2.061676</td>\n",
       "      <td>-0.910320</td>\n",
       "      <td>-1.518992</td>\n",
       "      <td>-1.591595</td>\n",
       "      <td>-0.256637</td>\n",
       "      <td>-1.239858</td>\n",
       "      <td>0.004698</td>\n",
       "      <td>-1.099399</td>\n",
       "      <td>...</td>\n",
       "      <td>-0.031047</td>\n",
       "      <td>0.002124</td>\n",
       "      <td>0.081064</td>\n",
       "      <td>-0.511318</td>\n",
       "      <td>-0.374835</td>\n",
       "      <td>-0.178514</td>\n",
       "      <td>-0.012181</td>\n",
       "      <td>-0.034369</td>\n",
       "      <td>0.338440</td>\n",
       "      <td>0</td>\n",
       "    </tr>\n",
       "    <tr>\n",
       "      <th>...</th>\n",
       "      <td>...</td>\n",
       "      <td>...</td>\n",
       "      <td>...</td>\n",
       "      <td>...</td>\n",
       "      <td>...</td>\n",
       "      <td>...</td>\n",
       "      <td>...</td>\n",
       "      <td>...</td>\n",
       "      <td>...</td>\n",
       "      <td>...</td>\n",
       "      <td>...</td>\n",
       "      <td>...</td>\n",
       "      <td>...</td>\n",
       "      <td>...</td>\n",
       "      <td>...</td>\n",
       "      <td>...</td>\n",
       "      <td>...</td>\n",
       "      <td>...</td>\n",
       "      <td>...</td>\n",
       "      <td>...</td>\n",
       "      <td>...</td>\n",
       "    </tr>\n",
       "    <tr>\n",
       "      <th>9121</th>\n",
       "      <td>12873.0</td>\n",
       "      <td>-1.816008</td>\n",
       "      <td>-0.627000</td>\n",
       "      <td>0.609624</td>\n",
       "      <td>-3.252467</td>\n",
       "      <td>2.183077</td>\n",
       "      <td>3.337604</td>\n",
       "      <td>-0.828003</td>\n",
       "      <td>0.080284</td>\n",
       "      <td>2.648519</td>\n",
       "      <td>...</td>\n",
       "      <td>0.627164</td>\n",
       "      <td>-0.094161</td>\n",
       "      <td>0.028280</td>\n",
       "      <td>1.003157</td>\n",
       "      <td>0.779510</td>\n",
       "      <td>0.001480</td>\n",
       "      <td>0.081530</td>\n",
       "      <td>0.052548</td>\n",
       "      <td>-0.101350</td>\n",
       "      <td>0</td>\n",
       "    </tr>\n",
       "    <tr>\n",
       "      <th>180296</th>\n",
       "      <td>124472.0</td>\n",
       "      <td>2.021020</td>\n",
       "      <td>-1.055164</td>\n",
       "      <td>-1.092409</td>\n",
       "      <td>-0.911787</td>\n",
       "      <td>-0.680105</td>\n",
       "      <td>-0.600626</td>\n",
       "      <td>-0.521720</td>\n",
       "      <td>-0.196097</td>\n",
       "      <td>-0.545973</td>\n",
       "      <td>...</td>\n",
       "      <td>0.279364</td>\n",
       "      <td>0.696706</td>\n",
       "      <td>0.018881</td>\n",
       "      <td>-0.284261</td>\n",
       "      <td>-0.047353</td>\n",
       "      <td>-0.172939</td>\n",
       "      <td>-0.030753</td>\n",
       "      <td>-0.054488</td>\n",
       "      <td>0.012236</td>\n",
       "      <td>0</td>\n",
       "    </tr>\n",
       "    <tr>\n",
       "      <th>76734</th>\n",
       "      <td>56720.0</td>\n",
       "      <td>0.981636</td>\n",
       "      <td>0.234809</td>\n",
       "      <td>1.023951</td>\n",
       "      <td>2.569979</td>\n",
       "      <td>-0.503942</td>\n",
       "      <td>-0.119239</td>\n",
       "      <td>-0.119767</td>\n",
       "      <td>0.122183</td>\n",
       "      <td>-0.480329</td>\n",
       "      <td>...</td>\n",
       "      <td>-0.135357</td>\n",
       "      <td>-0.620909</td>\n",
       "      <td>0.182309</td>\n",
       "      <td>0.331574</td>\n",
       "      <td>0.007302</td>\n",
       "      <td>-0.252633</td>\n",
       "      <td>0.004822</td>\n",
       "      <td>0.042254</td>\n",
       "      <td>-0.088636</td>\n",
       "      <td>0</td>\n",
       "    </tr>\n",
       "    <tr>\n",
       "      <th>44765</th>\n",
       "      <td>42075.0</td>\n",
       "      <td>1.238295</td>\n",
       "      <td>0.248582</td>\n",
       "      <td>0.077246</td>\n",
       "      <td>1.186756</td>\n",
       "      <td>0.312421</td>\n",
       "      <td>0.302162</td>\n",
       "      <td>0.078364</td>\n",
       "      <td>0.007855</td>\n",
       "      <td>0.267200</td>\n",
       "      <td>...</td>\n",
       "      <td>-0.155055</td>\n",
       "      <td>-0.161320</td>\n",
       "      <td>-0.166244</td>\n",
       "      <td>-0.743979</td>\n",
       "      <td>0.795833</td>\n",
       "      <td>-0.261225</td>\n",
       "      <td>0.043819</td>\n",
       "      <td>0.007289</td>\n",
       "      <td>-0.349231</td>\n",
       "      <td>0</td>\n",
       "    </tr>\n",
       "    <tr>\n",
       "      <th>249633</th>\n",
       "      <td>154506.0</td>\n",
       "      <td>-1.810863</td>\n",
       "      <td>0.293653</td>\n",
       "      <td>-1.754921</td>\n",
       "      <td>0.253659</td>\n",
       "      <td>3.563317</td>\n",
       "      <td>3.588929</td>\n",
       "      <td>1.396877</td>\n",
       "      <td>0.589445</td>\n",
       "      <td>-0.969364</td>\n",
       "      <td>...</td>\n",
       "      <td>-0.122528</td>\n",
       "      <td>-0.033211</td>\n",
       "      <td>-0.335404</td>\n",
       "      <td>0.609930</td>\n",
       "      <td>1.200755</td>\n",
       "      <td>-0.237196</td>\n",
       "      <td>-0.588890</td>\n",
       "      <td>-0.334583</td>\n",
       "      <td>0.338080</td>\n",
       "      <td>0</td>\n",
       "    </tr>\n",
       "  </tbody>\n",
       "</table>\n",
       "<p>4000 rows × 31 columns</p>\n",
       "</div>"
      ],
      "text/plain": [
       "            Time        V1        V2        V3        V4        V5        V6  \\\n",
       "46309    42726.0  0.699689 -0.941045  1.594844  1.899042 -1.325942  1.040024   \n",
       "22125    32049.0 -0.352753 -0.505905  0.777811 -4.058765 -0.719717 -0.287478   \n",
       "65986    51834.0  1.190920  0.247497  0.564973  2.136856 -0.001719  0.660712   \n",
       "109142   71239.0  1.237674 -0.579219  0.783164  0.206540 -1.183894 -0.325809   \n",
       "185983  126905.0  1.948762 -2.061676 -0.910320 -1.518992 -1.591595 -0.256637   \n",
       "...          ...       ...       ...       ...       ...       ...       ...   \n",
       "9121     12873.0 -1.816008 -0.627000  0.609624 -3.252467  2.183077  3.337604   \n",
       "180296  124472.0  2.021020 -1.055164 -1.092409 -0.911787 -0.680105 -0.600626   \n",
       "76734    56720.0  0.981636  0.234809  1.023951  2.569979 -0.503942 -0.119239   \n",
       "44765    42075.0  1.238295  0.248582  0.077246  1.186756  0.312421  0.302162   \n",
       "249633  154506.0 -1.810863  0.293653 -1.754921  0.253659  3.563317  3.588929   \n",
       "\n",
       "              V7        V8        V9  ...       V21       V22       V23  \\\n",
       "46309  -0.833724  0.387331  1.617704  ...  0.072995  0.367643 -0.231113   \n",
       "22125  -0.054924  0.134132  0.900778  ... -0.274380 -0.269197 -0.256945   \n",
       "65986  -0.441826  0.291968 -0.424790  ...  0.103474  0.178527 -0.203011   \n",
       "109142 -0.626070  0.042567 -0.442275  ... -0.610668 -1.158261  0.224262   \n",
       "185983 -1.239858  0.004698 -1.099399  ... -0.031047  0.002124  0.081064   \n",
       "...          ...       ...       ...  ...       ...       ...       ...   \n",
       "9121   -0.828003  0.080284  2.648519  ...  0.627164 -0.094161  0.028280   \n",
       "180296 -0.521720 -0.196097 -0.545973  ...  0.279364  0.696706  0.018881   \n",
       "76734  -0.119767  0.122183 -0.480329  ... -0.135357 -0.620909  0.182309   \n",
       "44765   0.078364  0.007855  0.267200  ... -0.155055 -0.161320 -0.166244   \n",
       "249633  1.396877  0.589445 -0.969364  ... -0.122528 -0.033211 -0.335404   \n",
       "\n",
       "             V24       V25       V26       V27       V28    Amount  Class  \n",
       "46309   0.131303  0.433256 -0.215123  0.094318  0.067511  0.402409      0  \n",
       "22125  -0.905589 -0.097144 -0.906312  0.081995  0.125693 -0.202661      0  \n",
       "65986  -0.862840  0.513256  0.155777 -0.002540  0.005935 -0.310650      0  \n",
       "109142  0.367493  0.080931  0.192235  0.020074  0.022990 -0.264392      0  \n",
       "185983 -0.511318 -0.374835 -0.178514 -0.012181 -0.034369  0.338440      0  \n",
       "...          ...       ...       ...       ...       ...       ...    ...  \n",
       "9121    1.003157  0.779510  0.001480  0.081530  0.052548 -0.101350      0  \n",
       "180296 -0.284261 -0.047353 -0.172939 -0.030753 -0.054488  0.012236      0  \n",
       "76734   0.331574  0.007302 -0.252633  0.004822  0.042254 -0.088636      0  \n",
       "44765  -0.743979  0.795833 -0.261225  0.043819  0.007289 -0.349231      0  \n",
       "249633  0.609930  1.200755 -0.237196 -0.588890 -0.334583  0.338080      0  \n",
       "\n",
       "[4000 rows x 31 columns]"
      ]
     },
     "execution_count": 87,
     "metadata": {},
     "output_type": "execute_result"
    }
   ],
   "source": [
    "nan_fraud_balanced"
   ]
  },
  {
   "cell_type": "code",
   "execution_count": 90,
   "id": "5502f66c-5259-4631-a46a-d68737258f13",
   "metadata": {},
   "outputs": [
    {
     "name": "stdout",
     "output_type": "stream",
     "text": [
      "          Time        V1        V2        V3        V4        V5        V6  \\\n",
      "0        406.0 -2.312227  1.951992 -1.609851  3.997906 -0.522188 -1.426545   \n",
      "1        472.0 -3.043541 -3.157307  1.088463  2.288644  1.359805 -1.064823   \n",
      "2       4462.0 -2.303350  1.759247 -0.359745  2.330243 -0.821628 -0.075788   \n",
      "3       6986.0 -4.397974  1.358367 -2.592844  2.679787 -1.128131 -1.706536   \n",
      "4       7519.0  1.234235  3.019740 -4.304597  4.732795  3.624201 -1.357746   \n",
      "...        ...       ...       ...       ...       ...       ...       ...   \n",
      "4487   12873.0 -1.816008 -0.627000  0.609624 -3.252467  2.183077  3.337604   \n",
      "4488  124472.0  2.021020 -1.055164 -1.092409 -0.911787 -0.680105 -0.600626   \n",
      "4489   56720.0  0.981636  0.234809  1.023951  2.569979 -0.503942 -0.119239   \n",
      "4490   42075.0  1.238295  0.248582  0.077246  1.186756  0.312421  0.302162   \n",
      "4491  154506.0 -1.810863  0.293653 -1.754921  0.253659  3.563317  3.588929   \n",
      "\n",
      "            V7        V8        V9  ...       V21       V22       V23  \\\n",
      "0    -2.537387  1.391657 -2.770089  ...  0.517232 -0.035049 -0.465211   \n",
      "1     0.325574 -0.067794 -0.270953  ...  0.661696  0.435477  1.375966   \n",
      "2     0.562320 -0.399147 -0.238253  ... -0.294166 -0.932391  0.172726   \n",
      "3    -3.496197 -0.248778 -0.247768  ...  0.573574  0.176968 -0.436207   \n",
      "4     1.713445 -0.496358 -1.282858  ... -0.379068 -0.704181 -0.656805   \n",
      "...        ...       ...       ...  ...       ...       ...       ...   \n",
      "4487 -0.828003  0.080284  2.648519  ...  0.627164 -0.094161  0.028280   \n",
      "4488 -0.521720 -0.196097 -0.545973  ...  0.279364  0.696706  0.018881   \n",
      "4489 -0.119767  0.122183 -0.480329  ... -0.135357 -0.620909  0.182309   \n",
      "4490  0.078364  0.007855  0.267200  ... -0.155055 -0.161320 -0.166244   \n",
      "4491  1.396877  0.589445 -0.969364  ... -0.122528 -0.033211 -0.335404   \n",
      "\n",
      "           V24       V25       V26       V27       V28    Amount  Class  \n",
      "0     0.320198  0.044519  0.177840  0.261145 -0.143276 -0.353229      1  \n",
      "1    -0.293803  0.279798 -0.145362 -0.252773  0.035764  1.761758      1  \n",
      "2    -0.087330 -0.156114 -0.542628  0.039566 -0.153029  0.606031      1  \n",
      "3    -0.053502  0.252405 -0.657488 -0.827136  0.849573 -0.117342      1  \n",
      "4    -1.632653  1.488901  0.566797 -0.010016  0.146793 -0.349231      1  \n",
      "...        ...       ...       ...       ...       ...       ...    ...  \n",
      "4487  1.003157  0.779510  0.001480  0.081530  0.052548 -0.101350      0  \n",
      "4488 -0.284261 -0.047353 -0.172939 -0.030753 -0.054488  0.012236      0  \n",
      "4489  0.331574  0.007302 -0.252633  0.004822  0.042254 -0.088636      0  \n",
      "4490 -0.743979  0.795833 -0.261225  0.043819  0.007289 -0.349231      0  \n",
      "4491  0.609930  1.200755 -0.237196 -0.588890 -0.334583  0.338080      0  \n",
      "\n",
      "[4492 rows x 31 columns]\n"
     ]
    }
   ],
   "source": [
    "balanced_data = pd.concat([fraud,nan_fraud_balanced], ignore_index = True)\n",
    "print(balanced_data)"
   ]
  },
  {
   "cell_type": "code",
   "execution_count": 91,
   "id": "8387778a-1655-4c90-a681-a8278f595bac",
   "metadata": {},
   "outputs": [
    {
     "data": {
      "text/plain": [
       "Class\n",
       "0    4000\n",
       "1     492\n",
       "Name: count, dtype: int64"
      ]
     },
     "execution_count": 91,
     "metadata": {},
     "output_type": "execute_result"
    }
   ],
   "source": [
    "balanced_data.Class.value_counts()"
   ]
  },
  {
   "cell_type": "code",
   "execution_count": 92,
   "id": "86bd9dcb-67f1-4e40-b8b6-aa60f8da4efa",
   "metadata": {},
   "outputs": [
    {
     "data": {
      "text/html": [
       "<div>\n",
       "<style scoped>\n",
       "    .dataframe tbody tr th:only-of-type {\n",
       "        vertical-align: middle;\n",
       "    }\n",
       "\n",
       "    .dataframe tbody tr th {\n",
       "        vertical-align: top;\n",
       "    }\n",
       "\n",
       "    .dataframe thead th {\n",
       "        text-align: right;\n",
       "    }\n",
       "</style>\n",
       "<table border=\"1\" class=\"dataframe\">\n",
       "  <thead>\n",
       "    <tr style=\"text-align: right;\">\n",
       "      <th></th>\n",
       "      <th>Time</th>\n",
       "      <th>V1</th>\n",
       "      <th>V2</th>\n",
       "      <th>V3</th>\n",
       "      <th>V4</th>\n",
       "      <th>V5</th>\n",
       "      <th>V6</th>\n",
       "      <th>V7</th>\n",
       "      <th>V8</th>\n",
       "      <th>V9</th>\n",
       "      <th>...</th>\n",
       "      <th>V20</th>\n",
       "      <th>V21</th>\n",
       "      <th>V22</th>\n",
       "      <th>V23</th>\n",
       "      <th>V24</th>\n",
       "      <th>V25</th>\n",
       "      <th>V26</th>\n",
       "      <th>V27</th>\n",
       "      <th>V28</th>\n",
       "      <th>Amount</th>\n",
       "    </tr>\n",
       "  </thead>\n",
       "  <tbody>\n",
       "    <tr>\n",
       "      <th>0</th>\n",
       "      <td>406.0</td>\n",
       "      <td>-2.312227</td>\n",
       "      <td>1.951992</td>\n",
       "      <td>-1.609851</td>\n",
       "      <td>3.997906</td>\n",
       "      <td>-0.522188</td>\n",
       "      <td>-1.426545</td>\n",
       "      <td>-2.537387</td>\n",
       "      <td>1.391657</td>\n",
       "      <td>-2.770089</td>\n",
       "      <td>...</td>\n",
       "      <td>0.126911</td>\n",
       "      <td>0.517232</td>\n",
       "      <td>-0.035049</td>\n",
       "      <td>-0.465211</td>\n",
       "      <td>0.320198</td>\n",
       "      <td>0.044519</td>\n",
       "      <td>0.177840</td>\n",
       "      <td>0.261145</td>\n",
       "      <td>-0.143276</td>\n",
       "      <td>-0.353229</td>\n",
       "    </tr>\n",
       "    <tr>\n",
       "      <th>1</th>\n",
       "      <td>472.0</td>\n",
       "      <td>-3.043541</td>\n",
       "      <td>-3.157307</td>\n",
       "      <td>1.088463</td>\n",
       "      <td>2.288644</td>\n",
       "      <td>1.359805</td>\n",
       "      <td>-1.064823</td>\n",
       "      <td>0.325574</td>\n",
       "      <td>-0.067794</td>\n",
       "      <td>-0.270953</td>\n",
       "      <td>...</td>\n",
       "      <td>2.102339</td>\n",
       "      <td>0.661696</td>\n",
       "      <td>0.435477</td>\n",
       "      <td>1.375966</td>\n",
       "      <td>-0.293803</td>\n",
       "      <td>0.279798</td>\n",
       "      <td>-0.145362</td>\n",
       "      <td>-0.252773</td>\n",
       "      <td>0.035764</td>\n",
       "      <td>1.761758</td>\n",
       "    </tr>\n",
       "    <tr>\n",
       "      <th>2</th>\n",
       "      <td>4462.0</td>\n",
       "      <td>-2.303350</td>\n",
       "      <td>1.759247</td>\n",
       "      <td>-0.359745</td>\n",
       "      <td>2.330243</td>\n",
       "      <td>-0.821628</td>\n",
       "      <td>-0.075788</td>\n",
       "      <td>0.562320</td>\n",
       "      <td>-0.399147</td>\n",
       "      <td>-0.238253</td>\n",
       "      <td>...</td>\n",
       "      <td>-0.430022</td>\n",
       "      <td>-0.294166</td>\n",
       "      <td>-0.932391</td>\n",
       "      <td>0.172726</td>\n",
       "      <td>-0.087330</td>\n",
       "      <td>-0.156114</td>\n",
       "      <td>-0.542628</td>\n",
       "      <td>0.039566</td>\n",
       "      <td>-0.153029</td>\n",
       "      <td>0.606031</td>\n",
       "    </tr>\n",
       "    <tr>\n",
       "      <th>3</th>\n",
       "      <td>6986.0</td>\n",
       "      <td>-4.397974</td>\n",
       "      <td>1.358367</td>\n",
       "      <td>-2.592844</td>\n",
       "      <td>2.679787</td>\n",
       "      <td>-1.128131</td>\n",
       "      <td>-1.706536</td>\n",
       "      <td>-3.496197</td>\n",
       "      <td>-0.248778</td>\n",
       "      <td>-0.247768</td>\n",
       "      <td>...</td>\n",
       "      <td>-0.171608</td>\n",
       "      <td>0.573574</td>\n",
       "      <td>0.176968</td>\n",
       "      <td>-0.436207</td>\n",
       "      <td>-0.053502</td>\n",
       "      <td>0.252405</td>\n",
       "      <td>-0.657488</td>\n",
       "      <td>-0.827136</td>\n",
       "      <td>0.849573</td>\n",
       "      <td>-0.117342</td>\n",
       "    </tr>\n",
       "    <tr>\n",
       "      <th>4</th>\n",
       "      <td>7519.0</td>\n",
       "      <td>1.234235</td>\n",
       "      <td>3.019740</td>\n",
       "      <td>-4.304597</td>\n",
       "      <td>4.732795</td>\n",
       "      <td>3.624201</td>\n",
       "      <td>-1.357746</td>\n",
       "      <td>1.713445</td>\n",
       "      <td>-0.496358</td>\n",
       "      <td>-1.282858</td>\n",
       "      <td>...</td>\n",
       "      <td>0.009061</td>\n",
       "      <td>-0.379068</td>\n",
       "      <td>-0.704181</td>\n",
       "      <td>-0.656805</td>\n",
       "      <td>-1.632653</td>\n",
       "      <td>1.488901</td>\n",
       "      <td>0.566797</td>\n",
       "      <td>-0.010016</td>\n",
       "      <td>0.146793</td>\n",
       "      <td>-0.349231</td>\n",
       "    </tr>\n",
       "    <tr>\n",
       "      <th>...</th>\n",
       "      <td>...</td>\n",
       "      <td>...</td>\n",
       "      <td>...</td>\n",
       "      <td>...</td>\n",
       "      <td>...</td>\n",
       "      <td>...</td>\n",
       "      <td>...</td>\n",
       "      <td>...</td>\n",
       "      <td>...</td>\n",
       "      <td>...</td>\n",
       "      <td>...</td>\n",
       "      <td>...</td>\n",
       "      <td>...</td>\n",
       "      <td>...</td>\n",
       "      <td>...</td>\n",
       "      <td>...</td>\n",
       "      <td>...</td>\n",
       "      <td>...</td>\n",
       "      <td>...</td>\n",
       "      <td>...</td>\n",
       "      <td>...</td>\n",
       "    </tr>\n",
       "    <tr>\n",
       "      <th>4487</th>\n",
       "      <td>12873.0</td>\n",
       "      <td>-1.816008</td>\n",
       "      <td>-0.627000</td>\n",
       "      <td>0.609624</td>\n",
       "      <td>-3.252467</td>\n",
       "      <td>2.183077</td>\n",
       "      <td>3.337604</td>\n",
       "      <td>-0.828003</td>\n",
       "      <td>0.080284</td>\n",
       "      <td>2.648519</td>\n",
       "      <td>...</td>\n",
       "      <td>-0.459327</td>\n",
       "      <td>0.627164</td>\n",
       "      <td>-0.094161</td>\n",
       "      <td>0.028280</td>\n",
       "      <td>1.003157</td>\n",
       "      <td>0.779510</td>\n",
       "      <td>0.001480</td>\n",
       "      <td>0.081530</td>\n",
       "      <td>0.052548</td>\n",
       "      <td>-0.101350</td>\n",
       "    </tr>\n",
       "    <tr>\n",
       "      <th>4488</th>\n",
       "      <td>124472.0</td>\n",
       "      <td>2.021020</td>\n",
       "      <td>-1.055164</td>\n",
       "      <td>-1.092409</td>\n",
       "      <td>-0.911787</td>\n",
       "      <td>-0.680105</td>\n",
       "      <td>-0.600626</td>\n",
       "      <td>-0.521720</td>\n",
       "      <td>-0.196097</td>\n",
       "      <td>-0.545973</td>\n",
       "      <td>...</td>\n",
       "      <td>0.184875</td>\n",
       "      <td>0.279364</td>\n",
       "      <td>0.696706</td>\n",
       "      <td>0.018881</td>\n",
       "      <td>-0.284261</td>\n",
       "      <td>-0.047353</td>\n",
       "      <td>-0.172939</td>\n",
       "      <td>-0.030753</td>\n",
       "      <td>-0.054488</td>\n",
       "      <td>0.012236</td>\n",
       "    </tr>\n",
       "    <tr>\n",
       "      <th>4489</th>\n",
       "      <td>56720.0</td>\n",
       "      <td>0.981636</td>\n",
       "      <td>0.234809</td>\n",
       "      <td>1.023951</td>\n",
       "      <td>2.569979</td>\n",
       "      <td>-0.503942</td>\n",
       "      <td>-0.119239</td>\n",
       "      <td>-0.119767</td>\n",
       "      <td>0.122183</td>\n",
       "      <td>-0.480329</td>\n",
       "      <td>...</td>\n",
       "      <td>-0.121073</td>\n",
       "      <td>-0.135357</td>\n",
       "      <td>-0.620909</td>\n",
       "      <td>0.182309</td>\n",
       "      <td>0.331574</td>\n",
       "      <td>0.007302</td>\n",
       "      <td>-0.252633</td>\n",
       "      <td>0.004822</td>\n",
       "      <td>0.042254</td>\n",
       "      <td>-0.088636</td>\n",
       "    </tr>\n",
       "    <tr>\n",
       "      <th>4490</th>\n",
       "      <td>42075.0</td>\n",
       "      <td>1.238295</td>\n",
       "      <td>0.248582</td>\n",
       "      <td>0.077246</td>\n",
       "      <td>1.186756</td>\n",
       "      <td>0.312421</td>\n",
       "      <td>0.302162</td>\n",
       "      <td>0.078364</td>\n",
       "      <td>0.007855</td>\n",
       "      <td>0.267200</td>\n",
       "      <td>...</td>\n",
       "      <td>-0.143905</td>\n",
       "      <td>-0.155055</td>\n",
       "      <td>-0.161320</td>\n",
       "      <td>-0.166244</td>\n",
       "      <td>-0.743979</td>\n",
       "      <td>0.795833</td>\n",
       "      <td>-0.261225</td>\n",
       "      <td>0.043819</td>\n",
       "      <td>0.007289</td>\n",
       "      <td>-0.349231</td>\n",
       "    </tr>\n",
       "    <tr>\n",
       "      <th>4491</th>\n",
       "      <td>154506.0</td>\n",
       "      <td>-1.810863</td>\n",
       "      <td>0.293653</td>\n",
       "      <td>-1.754921</td>\n",
       "      <td>0.253659</td>\n",
       "      <td>3.563317</td>\n",
       "      <td>3.588929</td>\n",
       "      <td>1.396877</td>\n",
       "      <td>0.589445</td>\n",
       "      <td>-0.969364</td>\n",
       "      <td>...</td>\n",
       "      <td>0.058056</td>\n",
       "      <td>-0.122528</td>\n",
       "      <td>-0.033211</td>\n",
       "      <td>-0.335404</td>\n",
       "      <td>0.609930</td>\n",
       "      <td>1.200755</td>\n",
       "      <td>-0.237196</td>\n",
       "      <td>-0.588890</td>\n",
       "      <td>-0.334583</td>\n",
       "      <td>0.338080</td>\n",
       "    </tr>\n",
       "  </tbody>\n",
       "</table>\n",
       "<p>4492 rows × 30 columns</p>\n",
       "</div>"
      ],
      "text/plain": [
       "          Time        V1        V2        V3        V4        V5        V6  \\\n",
       "0        406.0 -2.312227  1.951992 -1.609851  3.997906 -0.522188 -1.426545   \n",
       "1        472.0 -3.043541 -3.157307  1.088463  2.288644  1.359805 -1.064823   \n",
       "2       4462.0 -2.303350  1.759247 -0.359745  2.330243 -0.821628 -0.075788   \n",
       "3       6986.0 -4.397974  1.358367 -2.592844  2.679787 -1.128131 -1.706536   \n",
       "4       7519.0  1.234235  3.019740 -4.304597  4.732795  3.624201 -1.357746   \n",
       "...        ...       ...       ...       ...       ...       ...       ...   \n",
       "4487   12873.0 -1.816008 -0.627000  0.609624 -3.252467  2.183077  3.337604   \n",
       "4488  124472.0  2.021020 -1.055164 -1.092409 -0.911787 -0.680105 -0.600626   \n",
       "4489   56720.0  0.981636  0.234809  1.023951  2.569979 -0.503942 -0.119239   \n",
       "4490   42075.0  1.238295  0.248582  0.077246  1.186756  0.312421  0.302162   \n",
       "4491  154506.0 -1.810863  0.293653 -1.754921  0.253659  3.563317  3.588929   \n",
       "\n",
       "            V7        V8        V9  ...       V20       V21       V22  \\\n",
       "0    -2.537387  1.391657 -2.770089  ...  0.126911  0.517232 -0.035049   \n",
       "1     0.325574 -0.067794 -0.270953  ...  2.102339  0.661696  0.435477   \n",
       "2     0.562320 -0.399147 -0.238253  ... -0.430022 -0.294166 -0.932391   \n",
       "3    -3.496197 -0.248778 -0.247768  ... -0.171608  0.573574  0.176968   \n",
       "4     1.713445 -0.496358 -1.282858  ...  0.009061 -0.379068 -0.704181   \n",
       "...        ...       ...       ...  ...       ...       ...       ...   \n",
       "4487 -0.828003  0.080284  2.648519  ... -0.459327  0.627164 -0.094161   \n",
       "4488 -0.521720 -0.196097 -0.545973  ...  0.184875  0.279364  0.696706   \n",
       "4489 -0.119767  0.122183 -0.480329  ... -0.121073 -0.135357 -0.620909   \n",
       "4490  0.078364  0.007855  0.267200  ... -0.143905 -0.155055 -0.161320   \n",
       "4491  1.396877  0.589445 -0.969364  ...  0.058056 -0.122528 -0.033211   \n",
       "\n",
       "           V23       V24       V25       V26       V27       V28    Amount  \n",
       "0    -0.465211  0.320198  0.044519  0.177840  0.261145 -0.143276 -0.353229  \n",
       "1     1.375966 -0.293803  0.279798 -0.145362 -0.252773  0.035764  1.761758  \n",
       "2     0.172726 -0.087330 -0.156114 -0.542628  0.039566 -0.153029  0.606031  \n",
       "3    -0.436207 -0.053502  0.252405 -0.657488 -0.827136  0.849573 -0.117342  \n",
       "4    -0.656805 -1.632653  1.488901  0.566797 -0.010016  0.146793 -0.349231  \n",
       "...        ...       ...       ...       ...       ...       ...       ...  \n",
       "4487  0.028280  1.003157  0.779510  0.001480  0.081530  0.052548 -0.101350  \n",
       "4488  0.018881 -0.284261 -0.047353 -0.172939 -0.030753 -0.054488  0.012236  \n",
       "4489  0.182309  0.331574  0.007302 -0.252633  0.004822  0.042254 -0.088636  \n",
       "4490 -0.166244 -0.743979  0.795833 -0.261225  0.043819  0.007289 -0.349231  \n",
       "4491 -0.335404  0.609930  1.200755 -0.237196 -0.588890 -0.334583  0.338080  \n",
       "\n",
       "[4492 rows x 30 columns]"
      ]
     },
     "execution_count": 92,
     "metadata": {},
     "output_type": "execute_result"
    }
   ],
   "source": [
    "x = balanced_data.drop(\"Class\", axis = 1)\n",
    "x"
   ]
  },
  {
   "cell_type": "code",
   "execution_count": 111,
   "id": "1fa0b23c-1e84-46b6-8457-1d3fbbed9606",
   "metadata": {},
   "outputs": [
    {
     "name": "stdout",
     "output_type": "stream",
     "text": [
      "0       1\n",
      "1       1\n",
      "2       1\n",
      "3       1\n",
      "4       1\n",
      "       ..\n",
      "4487    0\n",
      "4488    0\n",
      "4489    0\n",
      "4490    0\n",
      "4491    0\n",
      "Name: Class, Length: 4492, dtype: int64\n"
     ]
    }
   ],
   "source": [
    "y = balanced_data.Class\n",
    "\n",
    "print(y)"
   ]
  },
  {
   "cell_type": "code",
   "execution_count": 123,
   "id": "a9ddb91a-7bfc-4685-96bb-277ae5f002d4",
   "metadata": {},
   "outputs": [
    {
     "data": {
      "image/png": "[encoded data removed]",
      "text/plain": [
       "<Figure size 400x200 with 1 Axes>"
      ]
     },
     "metadata": {},
     "output_type": "display_data"
    }
   ],
   "source": [
    "import matplotlib.pyplot as plt\n",
    "import seaborn as sns\n",
    "\n",
    "# Plotting\n",
    "plt.figure(figsize=(4, 2))\n",
    "sns.countplot(y, palette=\"Set2\")\n",
    "plt.show()\n"
   ]
  },
  {
   "cell_type": "markdown",
   "id": "810141be-6fc1-400e-8dcf-3a147e3360c7",
   "metadata": {},
   "source": [
    "**Training and Testing Part**"
   ]
  },
  {
   "cell_type": "code",
   "execution_count": 126,
   "id": "17b0105e-fef6-4ade-8e57-e9b156a64f70",
   "metadata": {},
   "outputs": [],
   "source": [
    "xtrain, xtest, ytrain, ytest = train_test_split(x, y, test_size = 0.2, random_state = 42)"
   ]
  },
  {
   "cell_type": "code",
   "execution_count": 127,
   "id": "d950eaf8-7fd3-47f4-a716-258ba879a9c6",
   "metadata": {},
   "outputs": [
    {
     "data": {
      "text/plain": [
       "(3593, 30)"
      ]
     },
     "execution_count": 127,
     "metadata": {},
     "output_type": "execute_result"
    }
   ],
   "source": [
    "xtrain.shape"
   ]
  },
  {
   "cell_type": "code",
   "execution_count": 128,
   "id": "8491cc1b-f6ef-4f75-b5d9-3108f18de522",
   "metadata": {},
   "outputs": [
    {
     "data": {
      "text/plain": [
       "(899, 30)"
      ]
     },
     "execution_count": 128,
     "metadata": {},
     "output_type": "execute_result"
    }
   ],
   "source": [
    "xtest.shape"
   ]
  },
  {
   "cell_type": "code",
   "execution_count": 129,
   "id": "a0058ed0-8525-49e6-9ff6-b6cc790101e1",
   "metadata": {},
   "outputs": [],
   "source": [
    "scaler = StandardScaler()"
   ]
  },
  {
   "cell_type": "code",
   "execution_count": 130,
   "id": "c090db87-473c-4eed-aa03-3b1bb3bfeeba",
   "metadata": {},
   "outputs": [],
   "source": [
    "scaled_xtrain = scaler.fit_transform(xtrain)\n",
    "scaled_xtest = scaler.fit_transform(xtest)"
   ]
  },
  {
   "cell_type": "code",
   "execution_count": 131,
   "id": "c386abfe-d0f0-489f-abcb-b95355ddbe0a",
   "metadata": {},
   "outputs": [
    {
     "data": {
      "text/plain": [
       "array([[-1.22786408, -1.37180393,  2.25160181, ...,  0.34859607,\n",
       "         1.28553943,  0.10071536],\n",
       "       [-1.81807153, -0.35023711,  1.233956  , ...,  0.44556168,\n",
       "         0.41011067, -0.38846394],\n",
       "       [ 0.63229262,  0.06645817,  0.10559505, ...,  0.44599552,\n",
       "         1.07365136,  0.21733181],\n",
       "       ...,\n",
       "       [ 0.82820818,  0.79278067, -0.18017839, ..., -0.21098195,\n",
       "        -0.29109101, -0.28267395],\n",
       "       [ 1.12047254,  0.03173944,  0.30624949, ...,  0.18127789,\n",
       "         0.10536951, -0.35315642],\n",
       "       [-0.79520934, -0.08049016,  0.15962416, ...,  0.00737634,\n",
       "         0.02229045, -0.36172921]])"
      ]
     },
     "execution_count": 131,
     "metadata": {},
     "output_type": "execute_result"
    }
   ],
   "source": [
    "scaled_xtrain"
   ]
  },
  {
   "cell_type": "code",
   "execution_count": 132,
   "id": "62e35bf0-1542-47f0-a309-9fa41d00d511",
   "metadata": {},
   "outputs": [
    {
     "data": {
      "text/plain": [
       "numpy.ndarray"
      ]
     },
     "execution_count": 132,
     "metadata": {},
     "output_type": "execute_result"
    }
   ],
   "source": [
    "type(scaled_xtrain)"
   ]
  },
  {
   "cell_type": "code",
   "execution_count": 133,
   "id": "382fcf21-180a-4f62-87fb-e1063d347aa4",
   "metadata": {},
   "outputs": [
    {
     "data": {
      "text/plain": [
       "array([[-9.43046840e-01, -1.14589276e-01,  4.00278724e-01, ...,\n",
       "         2.78388423e-02,  5.31757451e-01, -3.86593285e-01],\n",
       "       [ 1.52256308e+00,  2.04164136e-01,  2.45536971e-01, ...,\n",
       "         3.37187378e-01,  2.08749741e-01, -4.10599233e-01],\n",
       "       [ 1.42348838e+00, -1.25297143e-02,  3.94172292e-01, ...,\n",
       "        -9.82174359e-02,  1.60630254e-01,  6.39503506e-02],\n",
       "       ...,\n",
       "       [-1.01570721e+00,  5.08480428e-01,  1.04487575e-01, ...,\n",
       "        -6.46128189e-02, -7.11278182e-04, -4.00900830e-01],\n",
       "       [ 1.42514451e+00,  5.81355113e-01, -8.59387839e-01, ...,\n",
       "        -1.98265737e-01, -7.69467074e-02,  1.01737059e+00],\n",
       "       [-7.04185835e-01,  4.71065415e-01, -2.48034155e-01, ...,\n",
       "         1.19410739e-01,  1.20929430e-01, -2.50287511e-01]])"
      ]
     },
     "execution_count": 133,
     "metadata": {},
     "output_type": "execute_result"
    }
   ],
   "source": [
    "scaled_xtest"
   ]
  },
  {
   "cell_type": "code",
   "execution_count": 134,
   "id": "ef1a7d0f-4e2c-405f-8276-4ba0ae7aef3b",
   "metadata": {},
   "outputs": [
    {
     "data": {
      "text/plain": [
       "numpy.ndarray"
      ]
     },
     "execution_count": 134,
     "metadata": {},
     "output_type": "execute_result"
    }
   ],
   "source": [
    "type(scaled_xtest)"
   ]
  },
  {
   "cell_type": "code",
   "execution_count": 135,
   "id": "8ace9243-7ebe-4579-93f5-31a7f8f4c717",
   "metadata": {},
   "outputs": [
    {
     "name": "stdout",
     "output_type": "stream",
     "text": [
      "(3593, 30)\n",
      "(899, 30)\n"
     ]
    }
   ],
   "source": [
    "print(scaled_xtrain.shape)\n",
    "print(scaled_xtest.shape)"
   ]
  },
  {
   "cell_type": "code",
   "execution_count": 136,
   "id": "c524a44d-b3c4-41f8-9e5d-b87cafc18111",
   "metadata": {},
   "outputs": [
    {
     "name": "stdout",
     "output_type": "stream",
     "text": [
      "(3593,)\n",
      "(899,)\n"
     ]
    }
   ],
   "source": [
    "print(ytrain.shape)\n",
    "print(ytest.shape)"
   ]
  },
  {
   "cell_type": "code",
   "execution_count": 137,
   "id": "1c24f735-de69-41e7-9c89-58083863ef8c",
   "metadata": {},
   "outputs": [
    {
     "data": {
      "text/plain": [
       "284807"
      ]
     },
     "execution_count": 137,
     "metadata": {},
     "output_type": "execute_result"
    }
   ],
   "source": [
    "190820+93987 # Total dataset rows"
   ]
  },
  {
   "cell_type": "code",
   "execution_count": 169,
   "id": "3c289da3-f679-41eb-b9b1-f0a7bdc7b02f",
   "metadata": {},
   "outputs": [
    {
     "data": {
      "text/plain": [
       "3593"
      ]
     },
     "execution_count": 169,
     "metadata": {},
     "output_type": "execute_result"
    }
   ],
   "source": [
    "scaled_xtrain.shape[0]"
   ]
  },
  {
   "cell_type": "code",
   "execution_count": 138,
   "id": "b78d22a1-11c0-4363-bd79-442b7db07265",
   "metadata": {},
   "outputs": [
    {
     "data": {
      "text/plain": [
       "((3593, 30, 1), (899, 30, 1))"
      ]
     },
     "execution_count": 138,
     "metadata": {},
     "output_type": "execute_result"
    }
   ],
   "source": [
    "scaled_xtrain3d = scaled_xtrain.reshape(scaled_xtrain.shape[0],scaled_xtrain.shape[1],1)\n",
    "scaled_xtest3d = scaled_xtest.reshape(scaled_xtest.shape[0],scaled_xtest.shape[1],1)\n",
    "\n",
    "scaled_xtrain3d.shape, scaled_xtest3d.shape"
   ]
  },
  {
   "cell_type": "code",
   "execution_count": 139,
   "id": "118a5d58-1efb-4e90-952a-b10803302dd1",
   "metadata": {},
   "outputs": [],
   "source": [
    "# First Layer:\n",
    "\n",
    "cnn = Sequential()\n",
    "cnn.add(Conv1D(32, 2, activation = \"relu\", input_shape = (30,1)))\n",
    "cnn.add(Dropout(0.1))"
   ]
  },
  {
   "cell_type": "code",
   "execution_count": 140,
   "id": "3a7bd1de-5e52-48ac-84e4-54f620460a5f",
   "metadata": {},
   "outputs": [],
   "source": [
    "# Second Layer:\n",
    "\n",
    "cnn.add(BatchNormalization()) # Batch normalization is a technique for training very deep neural networks \n",
    "                               # that standardizes the inputs to a layer for each mini-batch. This \n",
    "                               # has the effect of stabilizing the learning process and dramatically\n",
    "                               # reducing the number of training epochs required to train deep networks\n",
    "\n",
    "cnn.add(Conv1D(64, 2, activation = \"relu\"))\n",
    "cnn.add(Dropout(0.2))          # prevents over-fitting (randomly remove some neurons)"
   ]
  },
  {
   "cell_type": "code",
   "execution_count": 141,
   "id": "fa70cd9c-8155-4ccd-8948-ea5179243866",
   "metadata": {},
   "outputs": [],
   "source": [
    "# Flattening Layer:\n",
    "\n",
    "cnn.add(Flatten())\n",
    "cnn.add(Dropout(0.4))\n",
    "cnn.add(Dense(64, activation = \"relu\"))\n",
    "cnn.add(Dropout(0.5))"
   ]
  },
  {
   "cell_type": "code",
   "execution_count": 142,
   "id": "dc0d832e-fa5b-4089-8a50-afe6921709fb",
   "metadata": {},
   "outputs": [],
   "source": [
    "cnn.add(Dense(1, activation = \"sigmoid\"))"
   ]
  },
  {
   "cell_type": "code",
   "execution_count": 143,
   "id": "a35c9503-01f3-421a-ac64-3308abdb3ade",
   "metadata": {},
   "outputs": [
    {
     "name": "stdout",
     "output_type": "stream",
     "text": [
      "Model: \"sequential_1\"\n",
      "_________________________________________________________________\n",
      " Layer (type)                Output Shape              Param #   \n",
      "=================================================================\n",
      " conv1d_2 (Conv1D)           (None, 29, 32)            96        \n",
      "                                                                 \n",
      " dropout_3 (Dropout)         (None, 29, 32)            0         \n",
      "                                                                 \n",
      " batch_normalization_2 (Batc  (None, 29, 32)           128       \n",
      " hNormalization)                                                 \n",
      "                                                                 \n",
      " conv1d_3 (Conv1D)           (None, 28, 64)            4160      \n",
      "                                                                 \n",
      " dropout_4 (Dropout)         (None, 28, 64)            0         \n",
      "                                                                 \n",
      " flatten_1 (Flatten)         (None, 1792)              0         \n",
      "                                                                 \n",
      " dropout_5 (Dropout)         (None, 1792)              0         \n",
      "                                                                 \n",
      " dense_2 (Dense)             (None, 64)                114752    \n",
      "                                                                 \n",
      " dropout_6 (Dropout)         (None, 64)                0         \n",
      "                                                                 \n",
      " dense_3 (Dense)             (None, 1)                 65        \n",
      "                                                                 \n",
      "=================================================================\n",
      "Total params: 119,201\n",
      "Trainable params: 119,137\n",
      "Non-trainable params: 64\n",
      "_________________________________________________________________\n"
     ]
    }
   ],
   "source": [
    "cnn.summary()"
   ]
  },
  {
   "cell_type": "code",
   "execution_count": 144,
   "id": "49811993-47ec-444e-8dbe-c1ef1566ee0f",
   "metadata": {},
   "outputs": [
    {
     "name": "stdout",
     "output_type": "stream",
     "text": [
      "You must install pydot (`pip install pydot`) and install graphviz (see instructions at https://graphviz.gitlab.io/download/) for plot_model to work.\n"
     ]
    }
   ],
   "source": [
    "from keras.utils import plot_model\n",
    "plot_model(cnn)"
   ]
  },
  {
   "cell_type": "code",
   "execution_count": 147,
   "id": "b92ed6f8-8192-49d9-9481-1343e22c3de9",
   "metadata": {},
   "outputs": [],
   "source": [
    "from tensorflow.keras.layers import Flatten, Dense, Dropout, BatchNormalization\n",
    "from tensorflow.keras.layers import Conv1D, MaxPool1D\n",
    "from tensorflow.keras.optimizers import Adam\n",
    "\n",
    "import warnings as wr\n",
    "wr.filterwarnings(\"ignore\")\n",
    "\n",
    "\n",
    "cnn.compile(optimizer = Adam(lr=0.0001), loss = \"binary_crossentropy\", metrics = [\"accuracy\"])"
   ]
  },
  {
   "cell_type": "code",
   "execution_count": 159,
   "id": "16711528-6b57-47d1-a9cf-4d656c30cb77",
   "metadata": {},
   "outputs": [
    {
     "data": {
      "text/plain": [
       "array([[[-1.22786408],\n",
       "        [-1.37180393],\n",
       "        [ 2.25160181],\n",
       "        ...,\n",
       "        [ 0.34859607],\n",
       "        [ 1.28553943],\n",
       "        [ 0.10071536]],\n",
       "\n",
       "       [[-1.81807153],\n",
       "        [-0.35023711],\n",
       "        [ 1.233956  ],\n",
       "        ...,\n",
       "        [ 0.44556168],\n",
       "        [ 0.41011067],\n",
       "        [-0.38846394]],\n",
       "\n",
       "       [[ 0.63229262],\n",
       "        [ 0.06645817],\n",
       "        [ 0.10559505],\n",
       "        ...,\n",
       "        [ 0.44599552],\n",
       "        [ 1.07365136],\n",
       "        [ 0.21733181]],\n",
       "\n",
       "       ...,\n",
       "\n",
       "       [[ 0.82820818],\n",
       "        [ 0.79278067],\n",
       "        [-0.18017839],\n",
       "        ...,\n",
       "        [-0.21098195],\n",
       "        [-0.29109101],\n",
       "        [-0.28267395]],\n",
       "\n",
       "       [[ 1.12047254],\n",
       "        [ 0.03173944],\n",
       "        [ 0.30624949],\n",
       "        ...,\n",
       "        [ 0.18127789],\n",
       "        [ 0.10536951],\n",
       "        [-0.35315642]],\n",
       "\n",
       "       [[-0.79520934],\n",
       "        [-0.08049016],\n",
       "        [ 0.15962416],\n",
       "        ...,\n",
       "        [ 0.00737634],\n",
       "        [ 0.02229045],\n",
       "        [-0.36172921]]])"
      ]
     },
     "execution_count": 159,
     "metadata": {},
     "output_type": "execute_result"
    }
   ],
   "source": [
    "scaled_xtrain3d"
   ]
  },
  {
   "cell_type": "code",
   "execution_count": 148,
   "id": "33985b93-0141-4532-aa28-1cdbdcb9f83e",
   "metadata": {},
   "outputs": [
    {
     "name": "stdout",
     "output_type": "stream",
     "text": [
      "Epoch 1/20\n",
      "113/113 [==============================] - 1s 8ms/step - loss: 0.2577 - accuracy: 0.9190 - val_loss: 0.3510 - val_accuracy: 0.9811\n",
      "Epoch 2/20\n",
      "113/113 [==============================] - 1s 5ms/step - loss: 0.1268 - accuracy: 0.9685 - val_loss: 0.1708 - val_accuracy: 0.9844\n",
      "Epoch 3/20\n",
      "113/113 [==============================] - 1s 4ms/step - loss: 0.1139 - accuracy: 0.9741 - val_loss: 0.0847 - val_accuracy: 0.9878\n",
      "Epoch 4/20\n",
      "113/113 [==============================] - 0s 4ms/step - loss: 0.1106 - accuracy: 0.9733 - val_loss: 0.0623 - val_accuracy: 0.9889\n",
      "Epoch 5/20\n",
      "113/113 [==============================] - 0s 4ms/step - loss: 0.1025 - accuracy: 0.9755 - val_loss: 0.0506 - val_accuracy: 0.9889\n",
      "Epoch 6/20\n",
      "113/113 [==============================] - 0s 4ms/step - loss: 0.0887 - accuracy: 0.9766 - val_loss: 0.0486 - val_accuracy: 0.9889\n",
      "Epoch 7/20\n",
      "113/113 [==============================] - 1s 4ms/step - loss: 0.0941 - accuracy: 0.9775 - val_loss: 0.0478 - val_accuracy: 0.9889\n",
      "Epoch 8/20\n",
      "113/113 [==============================] - 1s 4ms/step - loss: 0.0846 - accuracy: 0.9780 - val_loss: 0.0470 - val_accuracy: 0.9911\n",
      "Epoch 9/20\n",
      "113/113 [==============================] - 0s 4ms/step - loss: 0.0852 - accuracy: 0.9811 - val_loss: 0.0474 - val_accuracy: 0.9889\n",
      "Epoch 10/20\n",
      "113/113 [==============================] - 0s 4ms/step - loss: 0.0797 - accuracy: 0.9800 - val_loss: 0.0463 - val_accuracy: 0.9900\n",
      "Epoch 11/20\n",
      "113/113 [==============================] - 0s 4ms/step - loss: 0.0813 - accuracy: 0.9800 - val_loss: 0.0472 - val_accuracy: 0.9900\n",
      "Epoch 12/20\n",
      "113/113 [==============================] - 0s 4ms/step - loss: 0.0792 - accuracy: 0.9805 - val_loss: 0.0478 - val_accuracy: 0.9889\n",
      "Epoch 13/20\n",
      "113/113 [==============================] - 0s 4ms/step - loss: 0.0774 - accuracy: 0.9791 - val_loss: 0.0468 - val_accuracy: 0.9889\n",
      "Epoch 14/20\n",
      "113/113 [==============================] - 0s 4ms/step - loss: 0.0823 - accuracy: 0.9794 - val_loss: 0.0477 - val_accuracy: 0.9889\n",
      "Epoch 15/20\n",
      "113/113 [==============================] - 0s 4ms/step - loss: 0.0703 - accuracy: 0.9830 - val_loss: 0.0460 - val_accuracy: 0.9889\n",
      "Epoch 16/20\n",
      "113/113 [==============================] - 0s 4ms/step - loss: 0.0778 - accuracy: 0.9786 - val_loss: 0.0458 - val_accuracy: 0.9900\n",
      "Epoch 17/20\n",
      "113/113 [==============================] - 0s 4ms/step - loss: 0.0711 - accuracy: 0.9800 - val_loss: 0.0452 - val_accuracy: 0.9900\n",
      "Epoch 18/20\n",
      "113/113 [==============================] - 1s 5ms/step - loss: 0.0717 - accuracy: 0.9819 - val_loss: 0.0450 - val_accuracy: 0.9889\n",
      "Epoch 19/20\n",
      "113/113 [==============================] - 1s 5ms/step - loss: 0.0762 - accuracy: 0.9805 - val_loss: 0.0455 - val_accuracy: 0.9889\n",
      "Epoch 20/20\n",
      "113/113 [==============================] - 1s 4ms/step - loss: 0.0701 - accuracy: 0.9805 - val_loss: 0.0461 - val_accuracy: 0.9889\n"
     ]
    }
   ],
   "source": [
    "history = cnn.fit(scaled_xtrain3d, ytrain, epochs = 20, validation_data=(scaled_xtest3d, ytest), verbose=1)"
   ]
  },
  {
   "cell_type": "code",
   "execution_count": 149,
   "id": "8a777c32-47cf-4447-b3a8-ca12016e2985",
   "metadata": {},
   "outputs": [
    {
     "data": {
      "image/png": "[encoded data removed]",
      "text/plain": [
       "<Figure size 1000x500 with 1 Axes>"
      ]
     },
     "metadata": {},
     "output_type": "display_data"
    }
   ],
   "source": [
    "fig, ax1 = plt.subplots(figsize= (10, 5))\n",
    "plt.plot(history.history[\"accuracy\"])\n",
    "plt.plot(history.history[\"val_accuracy\"])\n",
    "plt.title(\"Model accuracy\")\n",
    "plt.ylabel(\"Accuracy\")\n",
    "plt.xlabel(\"Epoch\")\n",
    "plt.legend([\"Train\", \"Test\"], loc = \"upper left\")\n",
    "plt.show()"
   ]
  },
  {
   "cell_type": "code",
   "execution_count": 150,
   "id": "ef5c4916-df11-405f-92d9-4ccfa52eed8b",
   "metadata": {},
   "outputs": [
    {
     "data": {
      "image/png": "[encoded data removed]",
      "text/plain": [
       "<Figure size 1000x500 with 1 Axes>"
      ]
     },
     "metadata": {},
     "output_type": "display_data"
    }
   ],
   "source": [
    "fig, ax1 = plt.subplots(figsize= (10, 5))\n",
    "plt.plot(history.history[\"loss\"])\n",
    "plt.plot(history.history[\"val_loss\"])\n",
    "plt.title(\"Model loss\")\n",
    "plt.ylabel(\"Loss\")\n",
    "plt.xlabel(\"Epoch\")\n",
    "plt.legend([\"Train\", \"Test\"], loc = \"upper left\")\n",
    "plt.show()"
   ]
  },
  {
   "cell_type": "code",
   "execution_count": 158,
   "id": "c77f41fc-f2a4-456d-aef8-7f8d60cb60b0",
   "metadata": {},
   "outputs": [
    {
     "name": "stdout",
     "output_type": "stream",
     "text": [
      "29/29 [==============================] - 0s 2ms/step\n",
      "[[792   2]\n",
      " [  8  97]]\n"
     ]
    },
    {
     "data": {
      "image/png": "[encoded data removed]",
      "text/plain": [
       "<Figure size 800x600 with 1 Axes>"
      ]
     },
     "metadata": {},
     "output_type": "display_data"
    }
   ],
   "source": [
    "from sklearn.metrics import confusion_matrix\n",
    "import numpy as np\n",
    "import matplotlib.pyplot as plt\n",
    "import seaborn as sns\n",
    "\n",
    "# Assuming cnn is your trained CNN model\n",
    "# Make predictions on the test data\n",
    "cnn_predictions = cnn.predict(scaled_xtest3d)\n",
    "\n",
    "# Convert probabilities to classes using a threshold\n",
    "threshold = 0.5  # Adjust threshold as needed\n",
    "cnn_predicted_classes = (cnn_predictions > threshold).astype(int)\n",
    "\n",
    "# Compute confusion matrix\n",
    "conf_matrix = confusion_matrix(ytest, cnn_predicted_classes)\n",
    "print(conf_matrix)\n",
    "# Plot confusion matrix\n",
    "plt.figure(figsize=(8, 6))\n",
    "sns.heatmap(conf_matrix, annot=True, fmt=\"d\", cbar=False)\n",
    "plt.title(\"CNN Confusion Matrix\")\n",
    "plt.xlabel(\"Predicted\")\n",
    "plt.ylabel(\"True\")\n",
    "plt.show()\n"
   ]
  },
  {
   "cell_type": "markdown",
   "id": "7586b4d5-f8b9-4c16-b34d-9b1b6ea0ee20",
   "metadata": {},
   "source": [
    "The confusion matrix you provided is in the format:\n",
    "\n",
    "```\n",
    "[[True Negative  False Positive]\n",
    " [False Negative True Positive]]\n",
    "```\n",
    "\n",
    "Interpreting each element:\n",
    "- **True Negative (TN)**: The number of observations that were correctly classified as negative (in the case of a binary classification problem, this usually represents the non-event or majority class).\n",
    "- **False Positive (FP)**: The number of observations that were incorrectly classified as positive (predicted positive, but actually negative).\n",
    "- **False Negative (FN)**: The number of observations that were incorrectly classified as negative (predicted negative, but actually positive).\n",
    "- **True Positive (TP)**: The number of observations that were correctly classified as positive (predicted positive, and actually positive).\n",
    "\n",
    "In your confusion matrix:\n",
    "- True Negatives (TN) are 792: These are the cases correctly classified as negative.\n",
    "- False Positives (FP) are 2: These are the cases incorrectly classified as positive when they are actually negative.\n",
    "- False Negatives (FN) are 8: These are the cases incorrectly classified as negative when they are actually positive.\n",
    "- True Positives (TP) are 97: These are the cases correctly classified as positive.\n",
    "\n",
    "Overall, it seems like your model is performing well, with a high number of true positives and true negatives, and a low number of false positives and false negatives."
   ]
  },
  {
   "cell_type": "code",
   "execution_count": 154,
   "id": "2c9758a5-025e-43ec-8014-40a1d3b8ecc8",
   "metadata": {},
   "outputs": [
    {
     "name": "stdout",
     "output_type": "stream",
     "text": [
      "Accuracy: 0.9888765294771968\n"
     ]
    }
   ],
   "source": [
    "from sklearn.metrics import accuracy_score\n",
    "\n",
    "# Convert continuous values to binary labels\n",
    "ytest_binary = np.where(ytest > 0.5, 1, 0)\n",
    "\n",
    "# Convert predicted probabilities to binary classes using a threshold\n",
    "threshold = 0.5  # Adjust threshold as needed\n",
    "cnn_predicted_classes = (cnn_predictions > threshold).astype(int)\n",
    "\n",
    "# Compute accuracy\n",
    "accuracy = accuracy_score(ytest_binary, cnn_predicted_classes)\n",
    "print(\"Accuracy:\", accuracy)\n"
   ]
  },
  {
   "cell_type": "code",
   "execution_count": 157,
   "id": "9ee3b040-72da-4403-8708-2a66b7b5cf45",
   "metadata": {},
   "outputs": [
    {
     "name": "stdout",
     "output_type": "stream",
     "text": [
      "precision: [0.99       0.97979798]\n",
      "recall: [0.99748111 0.92380952]\n",
      "fscore: [0.99372647 0.95098039]\n",
      "support: [794 105]\n"
     ]
    }
   ],
   "source": [
    "from sklearn.metrics import precision_recall_fscore_support as score\n",
    "\n",
    "# Convert continuous values to binary labels\n",
    "ytest_binary = np.where(ytest > 0.5, 1, 0)\n",
    "\n",
    "# Convert predicted probabilities to binary classes using a threshold\n",
    "threshold = 0.5  # Adjust threshold as needed\n",
    "cnn_predicted_classes = (cnn_predictions > threshold).astype(int)\n",
    "\n",
    "# Compute precision, recall, fscore, and support\n",
    "precision, recall, fscore, support = score(ytest_binary, cnn_predicted_classes)\n",
    "\n",
    "print('precision:', precision)\n",
    "print('recall:', recall)\n",
    "print('fscore:', fscore)\n",
    "print('support:', support)\n"
   ]
  },
  {
   "cell_type": "code",
   "execution_count": 170,
   "id": "3221091e-2f16-42d6-a3ca-774b73f06da1",
   "metadata": {},
   "outputs": [
    {
     "name": "stdout",
     "output_type": "stream",
     "text": [
      "1/1 [==============================] - 0s 17ms/step\n",
      "Predictions:\n",
      "[[0.01701556]\n",
      " [0.00716339]\n",
      " [0.01308238]\n",
      " [0.03937001]\n",
      " [0.01016837]]\n"
     ]
    }
   ],
   "source": [
    "# Import necessary libraries\n",
    "import numpy as np\n",
    "\n",
    "# Create new input data (5 samples with 30 features each)\n",
    "num_samples = 5\n",
    "num_features = 30\n",
    "new_input_data = np.random.rand(num_samples, num_features)\n",
    "\n",
    "# Reshape new input data to match the shape of scaled_xtrain3d\n",
    "new_input_data_reshaped = new_input_data.reshape(num_samples, num_features, 1)\n",
    "\n",
    "# Make predictions using the trained CNN model\n",
    "predictions = cnn.predict(new_input_data_reshaped)\n",
    "\n",
    "# Print the predictions\n",
    "print(\"Predictions:\")\n",
    "print(predictions)"
   ]
  },
  {
   "cell_type": "markdown",
   "id": "c0f39ebc-8af3-4fc7-a8c4-429cb6dbb7ab",
   "metadata": {},
   "source": [
    "The output you've obtained represents the predicted probabilities for each sample in the `new_input_data`. Each row in the output corresponds to a sample, and the value in each row is the predicted probability of the positive class (e.g., class 1) for that sample.\n",
    "\n",
    "In your case, the predicted probabilities are in the range [0, 1], where a value close to 0 indicates a low probability of the positive class, and a value close to 1 indicates a high probability of the positive class.\n",
    "\n",
    "Here's how to interpret the output:\n",
    "- Each row corresponds to a sample from the `new_input_data`.\n",
    "- The value in each row represents the predicted probability of belonging to the positive class.\n",
    "- For example, the first row `[0.0159646]` suggests that the model predicts a very low probability (approximately 1.6%) for the first sample to belong to the positive class.\n",
    "- Similarly, for the second row `[0.00361386]`, the model predicts a very low probability (approximately 0.36%) for the second sample to belong to the positive class.\n",
    "\n",
    "To obtain class predictions (binary labels), you can apply a threshold to these probabilities. For example, if you choose a threshold of 0.5, probabilities above 0.5 will be classified as the positive class (1), and probabilities below 0.5 will be classified as the negative class (0).\n"
   ]
  },
  {
   "cell_type": "code",
   "execution_count": null,
   "id": "628f9dce-6b88-4714-b65b-b9f8cc0906ba",
   "metadata": {},
   "outputs": [],
   "source": []
  }
 ],
 "metadata": {
  "kernelspec": {
   "display_name": "wf_tf",
   "language": "python",
   "name": "wf_tf"
  },
  "language_info": {
   "codemirror_mode": {
    "name": "ipython",
    "version": 3
   },
   "file_extension": ".py",
   "mimetype": "text/x-python",
   "name": "python",
   "nbconvert_exporter": "python",
   "pygments_lexer": "ipython3",
   "version": "3.8.19"
  }
 },
 "nbformat": 4,
 "nbformat_minor": 5
}
